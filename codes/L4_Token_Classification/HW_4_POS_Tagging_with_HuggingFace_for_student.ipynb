{
  "cells": [
    {
      "cell_type": "markdown",
      "metadata": {
        "id": "UxOTS6n1ikVL"
      },
      "source": [
        "# HW 4 - POS Tagging with Hugging Face\n",
        "\n",
        "In this exercise, you will create a part-of-speech (POS) tagging system for Thai text using NECTEC’s ORCHID corpus. Instead of building your own deep learning architecture from scratch, you will leverage a pretrained tokenizer and a pretrained token classification model from Hugging Face.\n",
        "\n",
        "We have provided some starter code for data cleaning and preprocessing in this notebook, but feel free to modify those parts to suit your needs. You are welcome to use additional libraries (e.g., scikit-learn) as long as you incorporate the pretrained Hugging Face model. Specifically, you will need to:\n",
        "\n",
        "1. Load a pretrained tokenizer and token classification model.\n",
        "2. Fine-tune it on the ORCHID corpus for POS tagging.\n",
        "3. Evaluate and report the performance of your model on the test data.\n",
        "\n",
        "### Don't forget to change hardware accelrator to GPU in runtime on Google Colab ###"
      ]
    },
    {
      "cell_type": "markdown",
      "metadata": {
        "id": "bQ1Uqldlj81G"
      },
      "source": [
        "## 1. Setup and Preprocessing"
      ]
    },
    {
      "cell_type": "code",
      "execution_count": 2,
      "metadata": {
        "id": "kyb4FhsEEeH8",
        "colab": {
          "base_uri": "https://localhost:8080/"
        },
        "outputId": "ab1602f4-110a-426e-de3b-08bcf3c5bc7a"
      },
      "outputs": [
        {
          "output_type": "stream",
          "name": "stdout",
          "text": [
            "Requirement already satisfied: wandb in /usr/local/lib/python3.11/dist-packages (0.19.4)\n",
            "Requirement already satisfied: click!=8.0.0,>=7.1 in /usr/local/lib/python3.11/dist-packages (from wandb) (8.1.8)\n",
            "Requirement already satisfied: docker-pycreds>=0.4.0 in /usr/local/lib/python3.11/dist-packages (from wandb) (0.4.0)\n",
            "Requirement already satisfied: gitpython!=3.1.29,>=1.0.0 in /usr/local/lib/python3.11/dist-packages (from wandb) (3.1.44)\n",
            "Requirement already satisfied: platformdirs in /usr/local/lib/python3.11/dist-packages (from wandb) (4.3.6)\n",
            "Requirement already satisfied: protobuf!=4.21.0,!=5.28.0,<6,>=3.19.0 in /usr/local/lib/python3.11/dist-packages (from wandb) (4.25.6)\n",
            "Requirement already satisfied: psutil>=5.0.0 in /usr/local/lib/python3.11/dist-packages (from wandb) (5.9.5)\n",
            "Requirement already satisfied: pydantic<3,>=2.6 in /usr/local/lib/python3.11/dist-packages (from wandb) (2.10.6)\n",
            "Requirement already satisfied: pyyaml in /usr/local/lib/python3.11/dist-packages (from wandb) (6.0.2)\n",
            "Requirement already satisfied: requests<3,>=2.0.0 in /usr/local/lib/python3.11/dist-packages (from wandb) (2.32.3)\n",
            "Requirement already satisfied: sentry-sdk>=2.0.0 in /usr/local/lib/python3.11/dist-packages (from wandb) (2.20.0)\n",
            "Requirement already satisfied: setproctitle in /usr/local/lib/python3.11/dist-packages (from wandb) (1.3.4)\n",
            "Requirement already satisfied: setuptools in /usr/local/lib/python3.11/dist-packages (from wandb) (75.1.0)\n",
            "Requirement already satisfied: typing-extensions<5,>=4.4 in /usr/local/lib/python3.11/dist-packages (from wandb) (4.12.2)\n",
            "Requirement already satisfied: six>=1.4.0 in /usr/local/lib/python3.11/dist-packages (from docker-pycreds>=0.4.0->wandb) (1.17.0)\n",
            "Requirement already satisfied: gitdb<5,>=4.0.1 in /usr/local/lib/python3.11/dist-packages (from gitpython!=3.1.29,>=1.0.0->wandb) (4.0.12)\n",
            "Requirement already satisfied: annotated-types>=0.6.0 in /usr/local/lib/python3.11/dist-packages (from pydantic<3,>=2.6->wandb) (0.7.0)\n",
            "Requirement already satisfied: pydantic-core==2.27.2 in /usr/local/lib/python3.11/dist-packages (from pydantic<3,>=2.6->wandb) (2.27.2)\n",
            "Requirement already satisfied: charset-normalizer<4,>=2 in /usr/local/lib/python3.11/dist-packages (from requests<3,>=2.0.0->wandb) (3.4.1)\n",
            "Requirement already satisfied: idna<4,>=2.5 in /usr/local/lib/python3.11/dist-packages (from requests<3,>=2.0.0->wandb) (3.10)\n",
            "Requirement already satisfied: urllib3<3,>=1.21.1 in /usr/local/lib/python3.11/dist-packages (from requests<3,>=2.0.0->wandb) (2.3.0)\n",
            "Requirement already satisfied: certifi>=2017.4.17 in /usr/local/lib/python3.11/dist-packages (from requests<3,>=2.0.0->wandb) (2024.12.14)\n",
            "Requirement already satisfied: smmap<6,>=3.0.1 in /usr/local/lib/python3.11/dist-packages (from gitdb<5,>=4.0.1->gitpython!=3.1.29,>=1.0.0->wandb) (5.0.2)\n",
            "Requirement already satisfied: peft==0.10.0 in /usr/local/lib/python3.11/dist-packages (0.10.0)\n",
            "Requirement already satisfied: numpy>=1.17 in /usr/local/lib/python3.11/dist-packages (from peft==0.10.0) (1.26.4)\n",
            "Requirement already satisfied: packaging>=20.0 in /usr/local/lib/python3.11/dist-packages (from peft==0.10.0) (24.2)\n",
            "Requirement already satisfied: psutil in /usr/local/lib/python3.11/dist-packages (from peft==0.10.0) (5.9.5)\n",
            "Requirement already satisfied: pyyaml in /usr/local/lib/python3.11/dist-packages (from peft==0.10.0) (6.0.2)\n",
            "Requirement already satisfied: torch>=1.13.0 in /usr/local/lib/python3.11/dist-packages (from peft==0.10.0) (2.5.1+cu121)\n",
            "Requirement already satisfied: transformers in /usr/local/lib/python3.11/dist-packages (from peft==0.10.0) (4.30.1)\n",
            "Requirement already satisfied: tqdm in /usr/local/lib/python3.11/dist-packages (from peft==0.10.0) (4.67.1)\n",
            "Requirement already satisfied: accelerate>=0.21.0 in /usr/local/lib/python3.11/dist-packages (from peft==0.10.0) (1.2.1)\n",
            "Requirement already satisfied: safetensors in /usr/local/lib/python3.11/dist-packages (from peft==0.10.0) (0.5.2)\n",
            "Requirement already satisfied: huggingface-hub>=0.17.0 in /usr/local/lib/python3.11/dist-packages (from peft==0.10.0) (0.27.1)\n",
            "Requirement already satisfied: filelock in /usr/local/lib/python3.11/dist-packages (from huggingface-hub>=0.17.0->peft==0.10.0) (3.17.0)\n",
            "Requirement already satisfied: fsspec>=2023.5.0 in /usr/local/lib/python3.11/dist-packages (from huggingface-hub>=0.17.0->peft==0.10.0) (2024.9.0)\n",
            "Requirement already satisfied: requests in /usr/local/lib/python3.11/dist-packages (from huggingface-hub>=0.17.0->peft==0.10.0) (2.32.3)\n",
            "Requirement already satisfied: typing-extensions>=3.7.4.3 in /usr/local/lib/python3.11/dist-packages (from huggingface-hub>=0.17.0->peft==0.10.0) (4.12.2)\n",
            "Requirement already satisfied: networkx in /usr/local/lib/python3.11/dist-packages (from torch>=1.13.0->peft==0.10.0) (3.4.2)\n",
            "Requirement already satisfied: jinja2 in /usr/local/lib/python3.11/dist-packages (from torch>=1.13.0->peft==0.10.0) (3.1.5)\n",
            "Requirement already satisfied: nvidia-cuda-nvrtc-cu12==12.1.105 in /usr/local/lib/python3.11/dist-packages (from torch>=1.13.0->peft==0.10.0) (12.1.105)\n",
            "Requirement already satisfied: nvidia-cuda-runtime-cu12==12.1.105 in /usr/local/lib/python3.11/dist-packages (from torch>=1.13.0->peft==0.10.0) (12.1.105)\n",
            "Requirement already satisfied: nvidia-cuda-cupti-cu12==12.1.105 in /usr/local/lib/python3.11/dist-packages (from torch>=1.13.0->peft==0.10.0) (12.1.105)\n",
            "Requirement already satisfied: nvidia-cudnn-cu12==9.1.0.70 in /usr/local/lib/python3.11/dist-packages (from torch>=1.13.0->peft==0.10.0) (9.1.0.70)\n",
            "Requirement already satisfied: nvidia-cublas-cu12==12.1.3.1 in /usr/local/lib/python3.11/dist-packages (from torch>=1.13.0->peft==0.10.0) (12.1.3.1)\n",
            "Requirement already satisfied: nvidia-cufft-cu12==11.0.2.54 in /usr/local/lib/python3.11/dist-packages (from torch>=1.13.0->peft==0.10.0) (11.0.2.54)\n",
            "Requirement already satisfied: nvidia-curand-cu12==10.3.2.106 in /usr/local/lib/python3.11/dist-packages (from torch>=1.13.0->peft==0.10.0) (10.3.2.106)\n",
            "Requirement already satisfied: nvidia-cusolver-cu12==11.4.5.107 in /usr/local/lib/python3.11/dist-packages (from torch>=1.13.0->peft==0.10.0) (11.4.5.107)\n",
            "Requirement already satisfied: nvidia-cusparse-cu12==12.1.0.106 in /usr/local/lib/python3.11/dist-packages (from torch>=1.13.0->peft==0.10.0) (12.1.0.106)\n",
            "Requirement already satisfied: nvidia-nccl-cu12==2.21.5 in /usr/local/lib/python3.11/dist-packages (from torch>=1.13.0->peft==0.10.0) (2.21.5)\n",
            "Requirement already satisfied: nvidia-nvtx-cu12==12.1.105 in /usr/local/lib/python3.11/dist-packages (from torch>=1.13.0->peft==0.10.0) (12.1.105)\n",
            "Requirement already satisfied: triton==3.1.0 in /usr/local/lib/python3.11/dist-packages (from torch>=1.13.0->peft==0.10.0) (3.1.0)\n",
            "Requirement already satisfied: sympy==1.13.1 in /usr/local/lib/python3.11/dist-packages (from torch>=1.13.0->peft==0.10.0) (1.13.1)\n",
            "Requirement already satisfied: nvidia-nvjitlink-cu12 in /usr/local/lib/python3.11/dist-packages (from nvidia-cusolver-cu12==11.4.5.107->torch>=1.13.0->peft==0.10.0) (12.8.61)\n",
            "Requirement already satisfied: mpmath<1.4,>=1.1.0 in /usr/local/lib/python3.11/dist-packages (from sympy==1.13.1->torch>=1.13.0->peft==0.10.0) (1.3.0)\n",
            "Requirement already satisfied: regex!=2019.12.17 in /usr/local/lib/python3.11/dist-packages (from transformers->peft==0.10.0) (2024.11.6)\n",
            "Requirement already satisfied: tokenizers!=0.11.3,<0.14,>=0.11.1 in /usr/local/lib/python3.11/dist-packages (from transformers->peft==0.10.0) (0.13.3)\n",
            "Requirement already satisfied: MarkupSafe>=2.0 in /usr/local/lib/python3.11/dist-packages (from jinja2->torch>=1.13.0->peft==0.10.0) (3.0.2)\n",
            "Requirement already satisfied: charset-normalizer<4,>=2 in /usr/local/lib/python3.11/dist-packages (from requests->huggingface-hub>=0.17.0->peft==0.10.0) (3.4.1)\n",
            "Requirement already satisfied: idna<4,>=2.5 in /usr/local/lib/python3.11/dist-packages (from requests->huggingface-hub>=0.17.0->peft==0.10.0) (3.10)\n",
            "Requirement already satisfied: urllib3<3,>=1.21.1 in /usr/local/lib/python3.11/dist-packages (from requests->huggingface-hub>=0.17.0->peft==0.10.0) (2.3.0)\n",
            "Requirement already satisfied: certifi>=2017.4.17 in /usr/local/lib/python3.11/dist-packages (from requests->huggingface-hub>=0.17.0->peft==0.10.0) (2024.12.14)\n"
          ]
        }
      ],
      "source": [
        "# Install transformers and thai2transformers\n",
        "!pip install wandb\n",
        "!pip install -q transformers==4.30.1 datasets evaluate thaixtransformers\n",
        "!pip install -q emoji pythainlp sefr_cut tinydb seqeval sentencepiece pydantic jsonlines\n",
        "!pip install peft==0.10.0"
      ]
    },
    {
      "cell_type": "markdown",
      "metadata": {
        "id": "fTgw8WW3BxWZ"
      },
      "source": [
        "## Setup\n",
        "\n",
        "1. Register [Wandb account](https://wandb.ai/login?signup=true) (and confirm your email)\n",
        "\n",
        "2. `wandb login` and copy paste the API key when prompt"
      ]
    },
    {
      "cell_type": "code",
      "execution_count": 3,
      "metadata": {
        "id": "4FjMIqhTBfOX",
        "colab": {
          "base_uri": "https://localhost:8080/"
        },
        "outputId": "e7fcb931-cc9f-4ccb-f600-7a6f8e3b89c6"
      },
      "outputs": [
        {
          "output_type": "stream",
          "name": "stdout",
          "text": [
            "\u001b[34m\u001b[1mwandb\u001b[0m: Currently logged in as: \u001b[33mjeansathiwat\u001b[0m. Use \u001b[1m`wandb login --relogin`\u001b[0m to force relogin\n"
          ]
        }
      ],
      "source": [
        "!wandb login"
      ]
    },
    {
      "cell_type": "code",
      "execution_count": 4,
      "metadata": {
        "id": "4qSh7MXZB74z"
      },
      "outputs": [],
      "source": [
        "import wandb"
      ]
    },
    {
      "cell_type": "markdown",
      "metadata": {
        "id": "i-BR7danGv6W"
      },
      "source": [
        "We encourage you to login to your `Hugging Face` account so you can upload and share your model with the community. When prompted, enter your token to login"
      ]
    },
    {
      "cell_type": "code",
      "execution_count": 5,
      "metadata": {
        "id": "n7h8NENllZK2",
        "colab": {
          "base_uri": "https://localhost:8080/",
          "height": 331,
          "referenced_widgets": [
            "9b88157cda634379ab5d654fa031a63a",
            "6b510c84c90a409881d780c8520d2030",
            "4b505a04957c4bc6b207d653a54cb196",
            "3a242166866144a5999af4b3fc4a78ad",
            "f05631f5aa6d4beb8132c9f490044070",
            "991d8a92df9842deb95bbb2b792600b9",
            "4b7f7e5c2aeb4821adeb7f2ef0534079",
            "9814866a724a495da66aeb4e917c4050",
            "787c9b5e680744c1803f64c31d66cbc6",
            "97344f9f7885472eb66bdb2adf160401",
            "9195f152f563441fa246a1a5e001fba6",
            "a806bd3f5f2a4026842222c7780c1182",
            "391375ef49064bdf9457a03af50a4ff7",
            "820e76aced6b4d9ba726f81b57d53774",
            "f53da3aa0cb94bf296de3106dbd5836e",
            "56f78798a302478d86bf1e27091e80e5",
            "07bccba060d34b5ebe5dccada0cb2b1d"
          ]
        },
        "outputId": "83c3d1a5-ea6f-49fd-e5e4-a92a0114b3c3"
      },
      "outputs": [
        {
          "output_type": "display_data",
          "data": {
            "text/plain": [
              "VBox(children=(HTML(value='<center> <img\\nsrc=https://huggingface.co/front/assets/huggingface_logo-noborder.sv…"
            ],
            "application/vnd.jupyter.widget-view+json": {
              "version_major": 2,
              "version_minor": 0,
              "model_id": "9b88157cda634379ab5d654fa031a63a"
            }
          },
          "metadata": {}
        }
      ],
      "source": [
        "from huggingface_hub import notebook_login\n",
        "\n",
        "notebook_login()"
      ]
    },
    {
      "cell_type": "markdown",
      "metadata": {
        "id": "XqkDkseilv19"
      },
      "source": [
        "Download the dataset from Hugging Face"
      ]
    },
    {
      "cell_type": "code",
      "execution_count": 6,
      "metadata": {
        "id": "kRksERXFEngl",
        "colab": {
          "base_uri": "https://localhost:8080/"
        },
        "outputId": "c0989dde-c607-455d-d08a-b49b97a7f31e"
      },
      "outputs": [
        {
          "output_type": "stream",
          "name": "stderr",
          "text": [
            "/usr/local/lib/python3.11/dist-packages/huggingface_hub/utils/_auth.py:94: UserWarning: \n",
            "The secret `HF_TOKEN` does not exist in your Colab secrets.\n",
            "To authenticate with the Hugging Face Hub, create a token in your settings tab (https://huggingface.co/settings/tokens), set it as secret in your Google Colab and restart your session.\n",
            "You will be able to reuse this secret in all of your notebooks.\n",
            "Please note that authentication is recommended but still optional to access public models or datasets.\n",
            "  warnings.warn(\n"
          ]
        }
      ],
      "source": [
        "from datasets import load_dataset\n",
        "\n",
        "orchid = load_dataset(\"Thichow/orchid_corpus\")"
      ]
    },
    {
      "cell_type": "code",
      "execution_count": 7,
      "metadata": {
        "id": "T_AWd4d5lCYd",
        "colab": {
          "base_uri": "https://localhost:8080/"
        },
        "outputId": "f0b9b15c-4832-4b60-d2dc-daf728c5fa4f"
      },
      "outputs": [
        {
          "output_type": "execute_result",
          "data": {
            "text/plain": [
              "DatasetDict({\n",
              "    train: Dataset({\n",
              "        features: ['id', 'label_tokens', 'pos_tags', 'sentence'],\n",
              "        num_rows: 18500\n",
              "    })\n",
              "    test: Dataset({\n",
              "        features: ['id', 'label_tokens', 'pos_tags', 'sentence'],\n",
              "        num_rows: 4625\n",
              "    })\n",
              "})"
            ]
          },
          "metadata": {},
          "execution_count": 7
        }
      ],
      "source": [
        "orchid"
      ]
    },
    {
      "cell_type": "code",
      "execution_count": 8,
      "metadata": {
        "id": "QNmIqSo0FkAx",
        "colab": {
          "base_uri": "https://localhost:8080/"
        },
        "outputId": "aad12a32-9e99-4023-925d-e4201468d631"
      },
      "outputs": [
        {
          "output_type": "execute_result",
          "data": {
            "text/plain": [
              "{'id': '0',\n",
              " 'label_tokens': ['การ', 'ประชุม', 'ทาง', 'วิชาการ', ' ', 'ครั้ง', 'ที่ 1'],\n",
              " 'pos_tags': [21, 39, 26, 26, 37, 4, 18],\n",
              " 'sentence': 'การประชุมทางวิชาการ ครั้งที่ 1'}"
            ]
          },
          "metadata": {},
          "execution_count": 8
        }
      ],
      "source": [
        "orchid['train'][0]"
      ]
    },
    {
      "cell_type": "code",
      "execution_count": 9,
      "metadata": {
        "id": "hUuz3dLGlI_S",
        "colab": {
          "base_uri": "https://localhost:8080/",
          "height": 36
        },
        "outputId": "8fdcace5-06f0-4ddf-95fa-403005b1f73b"
      },
      "outputs": [
        {
          "output_type": "execute_result",
          "data": {
            "text/plain": [
              "'การประชุมทางวิชาการ ครั้งที่ 1'"
            ],
            "application/vnd.google.colaboratory.intrinsic+json": {
              "type": "string"
            }
          },
          "metadata": {},
          "execution_count": 9
        }
      ],
      "source": [
        "orchid['train'][0][\"sentence\"]"
      ]
    },
    {
      "cell_type": "code",
      "execution_count": 10,
      "metadata": {
        "id": "bh7fX19zI85W",
        "colab": {
          "base_uri": "https://localhost:8080/",
          "height": 36
        },
        "outputId": "231304e4-70c8-492c-bfd3-09ec405b5bfb"
      },
      "outputs": [
        {
          "output_type": "execute_result",
          "data": {
            "text/plain": [
              "'การประชุมทางวิชาการ ครั้งที่ 1'"
            ],
            "application/vnd.google.colaboratory.intrinsic+json": {
              "type": "string"
            }
          },
          "metadata": {},
          "execution_count": 10
        }
      ],
      "source": [
        "''.join(orchid['train'][0]['label_tokens'])"
      ]
    },
    {
      "cell_type": "code",
      "execution_count": 11,
      "metadata": {
        "id": "38jM9YcSFmjV",
        "colab": {
          "base_uri": "https://localhost:8080/"
        },
        "outputId": "2727a1ab-5ec6-49b9-af1e-2f8239252c87"
      },
      "outputs": [
        {
          "output_type": "stream",
          "name": "stdout",
          "text": [
            "total type of pos_tags : 47\n",
            "['ADVI', 'ADVN', 'ADVP', 'ADVS', 'CFQC', 'CLTV', 'CMTR', 'CMTR@PUNC', 'CNIT', 'CVBL', 'DCNM', 'DDAC', 'DDAN', 'DDAQ', 'DDBQ', 'DIAC', 'DIAQ', 'DIBQ', 'DONM', 'EAFF', 'EITT', 'FIXN', 'FIXV', 'JCMP', 'JCRG', 'JSBR', 'NCMN', 'NCNM', 'NEG', 'NLBL', 'NONM', 'NPRP', 'NTTL', 'PDMN', 'PNTR', 'PPRS', 'PREL', 'PUNC', 'RPRE', 'VACT', 'VATT', 'VSTA', 'XVAE', 'XVAM', 'XVBB', 'XVBM', 'XVMM']\n"
          ]
        }
      ],
      "source": [
        "label_list = orchid[\"train\"].features[f\"pos_tags\"].feature.names\n",
        "print('total type of pos_tags :', len(label_list))\n",
        "print(label_list)"
      ]
    },
    {
      "cell_type": "code",
      "execution_count": 12,
      "metadata": {
        "id": "Uf_NDWg7F6z_"
      },
      "outputs": [],
      "source": [
        "import numpy as np\n",
        "import numpy.random\n",
        "import torch\n",
        "\n",
        "from tqdm.auto import tqdm\n",
        "from functools import partial\n",
        "\n",
        "#transformers\n",
        "from transformers import (\n",
        "    CamembertTokenizer,\n",
        "    AutoTokenizer,\n",
        "    AutoModel,\n",
        "    AutoModelForMaskedLM,\n",
        "    AutoModelForSequenceClassification,\n",
        "    AutoModelForTokenClassification,\n",
        "    TrainingArguments,\n",
        "    Trainer,\n",
        "    pipeline,\n",
        ")\n",
        "\n",
        "#thaixtransformers\n",
        "from thaixtransformers import Tokenizer\n",
        "from thaixtransformers.preprocess import process_transformers"
      ]
    },
    {
      "cell_type": "markdown",
      "metadata": {
        "id": "T1suScqmntBW"
      },
      "source": [
        "Next, we load a pretrained tokenizer from Hugging Face. In this work, we utilize WangchanBERTa, a Thai-specific pretrained model, as the tokenizer."
      ]
    },
    {
      "cell_type": "markdown",
      "metadata": {
        "id": "jt3ASYUVm54n"
      },
      "source": [
        "# Choose Pretrained Model"
      ]
    },
    {
      "cell_type": "markdown",
      "metadata": {
        "id": "sFBKLqbIm23-"
      },
      "source": [
        "In this notebook, you can choose from 5 versions of WangchanBERTa, XLMR and mBERT to perform downstream tasks on Thai datasets. The datasets are:\n",
        "\n",
        "* `wangchanberta-base-att-spm-uncased` (recommended) - Largest WangchanBERTa trained on 78.5GB of Assorted Thai Texts with subword tokenizer SentencePiece\n",
        "* `xlm-roberta-base` - Facebook's [XLMR](https://arxiv.org/abs/1911.02116) trained on 100 languages\n",
        "* `bert-base-multilingual-cased` - Google's [mBERT](https://arxiv.org/abs/1911.03310) trained on 104 languages\n",
        "* `wangchanberta-base-wiki-newmm` - WangchanBERTa trained on Thai Wikipedia Dump with PyThaiNLP's word-level tokenizer  `newmm`\n",
        "* `wangchanberta-base-wiki-syllable` - WangchanBERTa trained on Thai Wikipedia Dump with PyThaiNLP's syllabel-level tokenizer `syllable`\n",
        "* `wangchanberta-base-wiki-sefr` - WangchanBERTa trained on Thai Wikipedia Dump with word-level tokenizer  `SEFR`\n",
        "* `wangchanberta-base-wiki-spm` - WangchanBERTa trained on Thai Wikipedia Dump with subword-level tokenizer SentencePiece\n",
        "\n",
        "In the first part, we require you to select the wangchanberta-base-att-spm-uncased."
      ]
    },
    {
      "cell_type": "markdown",
      "metadata": {
        "id": "6HbZo_TZDn17"
      },
      "source": [
        "<b> Learn more about using wangchanberta at [wangchanberta_getting_started_ai_reseach](https://colab.research.google.com/github/PyThaiNLP/thaixtransformers/blob/main/notebooks/wangchanberta_getting_started_aireseach.ipynb?fbclid=IwY2xjawH61XZleHRuA2FlbQIxMAABHZUaAmHobzmCMHpX0EgdLdjDAEwSX0bjqpo5xPUSIx9b4O_dsIvvG8KVNA_aem_IyKkvzy-VPf9k2pYAFf6Nw#scrollTo=n5IaCot9b3cF) <b>\n",
        "\n",
        "\n",
        "\n",
        "*   You need to set the transformers version to transformers==4.30.1.\n",
        "\n"
      ]
    },
    {
      "cell_type": "markdown",
      "metadata": {
        "id": "kl2NposVIh9-"
      },
      "source": [
        "`In the first part, we require you to select the wangchanberta-base-att-spm-uncased.`"
      ]
    },
    {
      "cell_type": "code",
      "execution_count": 13,
      "metadata": {
        "id": "n5IaCot9b3cF",
        "colab": {
          "base_uri": "https://localhost:8080/"
        },
        "outputId": "54394f33-f108-4673-bfa3-3c91eada3779"
      },
      "outputs": [
        {
          "output_type": "stream",
          "name": "stderr",
          "text": [
            "/usr/local/lib/python3.11/dist-packages/huggingface_hub/file_download.py:795: FutureWarning: `resume_download` is deprecated and will be removed in version 1.0.0. Downloads always resume when possible. If you want to force a new download, use `force_download=True`.\n",
            "  warnings.warn(\n",
            "The tokenizer class you load from this checkpoint is not the same type as the class this function is called from. It may result in unexpected tokenization. \n",
            "The tokenizer class you load from this checkpoint is 'CamembertTokenizer'. \n",
            "The class this function is called from is 'WangchanbertaTokenizer'.\n",
            "The tokenizer class you load from this checkpoint is not the same type as the class this function is called from. It may result in unexpected tokenization. \n",
            "The tokenizer class you load from this checkpoint is 'CamembertTokenizer'. \n",
            "The class this function is called from is 'WangchanbertaTokenizer'.\n"
          ]
        }
      ],
      "source": [
        "model_names = [\n",
        "    'airesearch/wangchanberta-base-att-spm-uncased',\n",
        "    'airesearch/wangchanberta-base-wiki-newmm',\n",
        "    'airesearch/wangchanberta-base-wiki-ssg',\n",
        "    'airesearch/wangchanberta-base-wiki-sefr',\n",
        "    'airesearch/wangchanberta-base-wiki-spm',\n",
        "]\n",
        "\n",
        "#@title Choose Pretrained Model\n",
        "model_name = \"airesearch/wangchanberta-base-att-spm-uncased\"\n",
        "\n",
        "#create tokenizer\n",
        "tokenizer = Tokenizer(model_name).from_pretrained(\n",
        "                f'{model_name}',\n",
        "                revision='main',\n",
        "                model_max_length=416,)\n"
      ]
    },
    {
      "cell_type": "markdown",
      "metadata": {
        "id": "LzdbERHLwd0X"
      },
      "source": [
        "Let's try using a pretrained tokenizer."
      ]
    },
    {
      "cell_type": "code",
      "execution_count": 14,
      "metadata": {
        "id": "qwrwXsHFwl-G",
        "colab": {
          "base_uri": "https://localhost:8080/"
        },
        "outputId": "deb3e93a-2dce-45b2-b312-f4aa2cb2d50e"
      },
      "outputs": [
        {
          "output_type": "stream",
          "name": "stdout",
          "text": [
            "text : ศิลปะไม่เป็นเจ้านายใคร และไม่เป็นขี้ข้าใคร\n",
            "tokens : ['<s>', '', 'ศิลปะ', 'ไม่เป็น', 'เจ้านาย', 'ใคร', '<_>', 'และ', 'ไม่เป็น', 'ขี้ข้า', 'ใคร', '</s>']\n"
          ]
        }
      ],
      "source": [
        "text = 'ศิลปะไม่เป็นเจ้านายใคร และไม่เป็นขี้ข้าใคร'\n",
        "print('text :', text)\n",
        "tokens = []\n",
        "for i in tokenizer([text], is_split_into_words=True)['input_ids']:\n",
        "  tokens.append(tokenizer.decode(i))\n",
        "print('tokens :', tokens)"
      ]
    },
    {
      "cell_type": "markdown",
      "metadata": {
        "id": "dEQAVqO8pDhK"
      },
      "source": [
        "model : * `wangchanberta-base-att-spm-uncased`\n",
        "\n",
        "First, we print examples of label tokens from our dataset for inspection."
      ]
    },
    {
      "cell_type": "code",
      "execution_count": 15,
      "metadata": {
        "id": "Vw_GdRdlpAhu",
        "colab": {
          "base_uri": "https://localhost:8080/"
        },
        "outputId": "eb985c27-1049-402e-dd07-1faa5f0968bd"
      },
      "outputs": [
        {
          "output_type": "stream",
          "name": "stdout",
          "text": [
            "id : 0\n",
            "label_tokens : ['การ', 'ประชุม', 'ทาง', 'วิชาการ', ' ', 'ครั้ง', 'ที่ 1']\n",
            "pos_tags : [21, 39, 26, 26, 37, 4, 18]\n",
            "sentence : การประชุมทางวิชาการ ครั้งที่ 1\n"
          ]
        }
      ],
      "source": [
        "example = orchid[\"train\"][0]\n",
        "for i in example :\n",
        "    print(i, ':', example[i])"
      ]
    },
    {
      "cell_type": "markdown",
      "metadata": {
        "id": "yTuiwEWkppdA"
      },
      "source": [
        "Then, we use the sentence 'การประชุมทางวิชาการ<space>ครั้งที่ 1' to be tokenized by the pretrained tokenizer model."
      ]
    },
    {
      "cell_type": "code",
      "execution_count": 16,
      "metadata": {
        "id": "BRCxMtHToN16",
        "colab": {
          "base_uri": "https://localhost:8080/"
        },
        "outputId": "f2d0cb4e-5cf1-44f9-e0e7-e62f82df638b"
      },
      "outputs": [
        {
          "output_type": "execute_result",
          "data": {
            "text/plain": [
              "{'input_ids': [5, 10, 882, 8222, 8, 10, 1014, 8, 10, 59, 6], 'attention_mask': [1, 1, 1, 1, 1, 1, 1, 1, 1, 1, 1]}"
            ]
          },
          "metadata": {},
          "execution_count": 16
        }
      ],
      "source": [
        "text = 'การประชุมทางวิชาการ ครั้งที่ 1'\n",
        "tokenizer(text)"
      ]
    },
    {
      "cell_type": "markdown",
      "metadata": {
        "id": "kxi8WqZnGa5F"
      },
      "source": [
        "These are already mapped into discrete values. We can uncover the original token text from the tokens by."
      ]
    },
    {
      "cell_type": "code",
      "execution_count": 17,
      "metadata": {
        "id": "optGK_eco3K6",
        "colab": {
          "base_uri": "https://localhost:8080/"
        },
        "outputId": "b0db891f-564e-438c-b39f-b48f3cafb30e"
      },
      "outputs": [
        {
          "output_type": "stream",
          "name": "stdout",
          "text": [
            "<s>\n",
            "▁\n",
            "การประชุม\n",
            "ทางวิชาการ\n",
            "<_>\n",
            "▁\n",
            "ครั้งที่\n",
            "<_>\n",
            "▁\n",
            "1\n",
            "</s>\n"
          ]
        }
      ],
      "source": [
        "for i in tokenizer(text)['input_ids']:\n",
        "  print(tokenizer.convert_ids_to_tokens(i))"
      ]
    },
    {
      "cell_type": "markdown",
      "metadata": {
        "id": "T3l13UKnwK-d"
      },
      "source": [
        "Now let's look at another example."
      ]
    },
    {
      "cell_type": "code",
      "execution_count": 18,
      "metadata": {
        "id": "UyfIR3BowU84",
        "colab": {
          "base_uri": "https://localhost:8080/"
        },
        "outputId": "4f06e0d8-1314-45e7-b6c4-04965acb0b9e"
      },
      "outputs": [
        {
          "output_type": "stream",
          "name": "stdout",
          "text": [
            "sentence : โดยพิจารณาจากพจนานุกรมภาษาคู่ (Bilingual transfer dictionary)\n",
            "tokens : ['<s>', '▁โดย', 'พิจารณาจาก', 'พจนานุกรม', 'ภาษา', 'คู่', '<_>', '▁(', '<unk>', 'i', 'ling', 'ual', '<_>', '▁', 'trans', 'fer', '<_>', '▁', 'di', 'ction', 'ary', ')', '</s>']\n",
            "label tokens : ['โดย', 'พิจารณา', 'จาก', 'พจนานุกรม', 'ภาษา', 'คู่', ' ', '(', 'Bilingual transfer dictionary', ')']\n",
            "label pos : [25, 39, 38, 26, 26, 5, 37, 37, 26, 37]\n"
          ]
        }
      ],
      "source": [
        "example = orchid[\"train\"][1899]\n",
        "print('sentence :', example[\"sentence\"])\n",
        "tokenized_input = tokenizer([example[\"sentence\"]], is_split_into_words=True)\n",
        "tokens = tokenizer.convert_ids_to_tokens(tokenized_input[\"input_ids\"])\n",
        "print('tokens :',tokens)\n",
        "print('label tokens :', example[\"label_tokens\"])\n",
        "print('label pos :', example[\"pos_tags\"])"
      ]
    },
    {
      "cell_type": "markdown",
      "metadata": {
        "id": "cmV6M-vAwew5"
      },
      "source": [
        "Notice how `B` becomes an ``<unk>`` token. This is because this is an uncased model, meaning it only handles small English characters."
      ]
    },
    {
      "cell_type": "markdown",
      "metadata": {
        "id": "WniJR47ww7a0"
      },
      "source": [
        "# #TODO 0\n",
        "\n",
        "Convert the dataset to lowercase."
      ]
    },
    {
      "cell_type": "code",
      "execution_count": 19,
      "metadata": {
        "id": "RQWm_iWBxFQ8"
      },
      "outputs": [],
      "source": [
        "# Create a lowercase dataset for uncased BERT\n",
        "def lower_case_sentences(examples):\n",
        "  lower_cased_examples = examples\n",
        "\n",
        "  # fill code here to lower case the \"sentence\" and \"label_tokens\"\n",
        "  lower_cased_examples[\"sentence\"] = examples[\"sentence\"].lower()\n",
        "  lower_cased_examples[\"label_tokens\"] = [word.lower() for word in examples[\"label_tokens\"]]\n",
        "  return lower_cased_examples"
      ]
    },
    {
      "cell_type": "code",
      "execution_count": 20,
      "metadata": {
        "id": "ndBIqEpWuqBP"
      },
      "outputs": [],
      "source": [
        "orchidl = orchid.map(lower_case_sentences)"
      ]
    },
    {
      "cell_type": "code",
      "execution_count": 21,
      "metadata": {
        "id": "z8xpcCqTrqbc",
        "colab": {
          "base_uri": "https://localhost:8080/"
        },
        "outputId": "77b22964-7f3a-45b0-e620-1ceb11668a66"
      },
      "outputs": [
        {
          "output_type": "execute_result",
          "data": {
            "text/plain": [
              "DatasetDict({\n",
              "    train: Dataset({\n",
              "        features: ['id', 'label_tokens', 'pos_tags', 'sentence'],\n",
              "        num_rows: 18500\n",
              "    })\n",
              "    test: Dataset({\n",
              "        features: ['id', 'label_tokens', 'pos_tags', 'sentence'],\n",
              "        num_rows: 4625\n",
              "    })\n",
              "})"
            ]
          },
          "metadata": {},
          "execution_count": 21
        }
      ],
      "source": [
        "orchidl"
      ]
    },
    {
      "cell_type": "code",
      "execution_count": 22,
      "metadata": {
        "id": "ecpDHyTPv2py",
        "colab": {
          "base_uri": "https://localhost:8080/"
        },
        "outputId": "c5f44db3-4fb3-41d6-87d2-fd96bb2ffaf2"
      },
      "outputs": [
        {
          "output_type": "execute_result",
          "data": {
            "text/plain": [
              "{'id': '1899',\n",
              " 'label_tokens': ['โดย',\n",
              "  'พิจารณา',\n",
              "  'จาก',\n",
              "  'พจนานุกรม',\n",
              "  'ภาษา',\n",
              "  'คู่',\n",
              "  ' ',\n",
              "  '(',\n",
              "  'bilingual transfer dictionary',\n",
              "  ')'],\n",
              " 'pos_tags': [25, 39, 38, 26, 26, 5, 37, 37, 26, 37],\n",
              " 'sentence': 'โดยพิจารณาจากพจนานุกรมภาษาคู่ (bilingual transfer dictionary)'}"
            ]
          },
          "metadata": {},
          "execution_count": 22
        }
      ],
      "source": [
        "orchidl[\"train\"][1899]"
      ]
    },
    {
      "cell_type": "markdown",
      "metadata": {
        "id": "rgV4ohz2xTY9"
      },
      "source": [
        "Now let's examine the labels again."
      ]
    },
    {
      "cell_type": "code",
      "execution_count": 23,
      "metadata": {
        "id": "DoUDQzM7q265",
        "colab": {
          "base_uri": "https://localhost:8080/"
        },
        "outputId": "d1a2a3c5-476c-4ce7-f8e6-b48d4a525a94"
      },
      "outputs": [
        {
          "output_type": "stream",
          "name": "stdout",
          "text": [
            "sentence : โดยพิจารณาจากพจนานุกรมภาษาคู่ (bilingual transfer dictionary)\n",
            "tokens : ['<s>', '▁โดย', 'พิจารณาจาก', 'พจนานุกรม', 'ภาษา', 'คู่', '<_>', '▁(', 'bi', 'ling', 'ual', '<_>', '▁', 'trans', 'fer', '<_>', '▁', 'di', 'ction', 'ary', ')', '</s>']\n",
            "label tokens : ['โดย', 'พิจารณา', 'จาก', 'พจนานุกรม', 'ภาษา', 'คู่', ' ', '(', 'bilingual transfer dictionary', ')']\n",
            "label pos : [25, 39, 38, 26, 26, 5, 37, 37, 26, 37]\n"
          ]
        }
      ],
      "source": [
        "example = orchidl[\"train\"][1899]\n",
        "print('sentence :', example[\"sentence\"])\n",
        "tokenized_input = tokenizer([example[\"sentence\"]], is_split_into_words=True)\n",
        "tokens = tokenizer.convert_ids_to_tokens(tokenized_input[\"input_ids\"])\n",
        "print('tokens :',tokens)\n",
        "print('label tokens :', example[\"label_tokens\"])\n",
        "print('label pos :', example[\"pos_tags\"])"
      ]
    },
    {
      "cell_type": "code",
      "execution_count": 24,
      "metadata": {
        "id": "aEHgBeX7fQFt",
        "colab": {
          "base_uri": "https://localhost:8080/"
        },
        "outputId": "027d3ce6-1313-41e8-dd09-c980d784ca2d"
      },
      "outputs": [
        {
          "output_type": "stream",
          "name": "stdout",
          "text": [
            "sentence : การประชุมทางวิชาการ ครั้งที่ 1\n",
            "tokens : ['<s>', '▁', 'การประชุม', 'ทางวิชาการ', '<_>', '▁', 'ครั้งที่', '<_>', '▁', '1', '</s>']\n",
            "label tokens : ['การ', 'ประชุม', 'ทาง', 'วิชาการ', ' ', 'ครั้ง', 'ที่ 1']\n",
            "label pos : [21, 39, 26, 26, 37, 4, 18]\n"
          ]
        }
      ],
      "source": [
        "example = orchidl[\"train\"][0]\n",
        "print('sentence :', example[\"sentence\"])\n",
        "tokenized_input = tokenizer([example[\"sentence\"]], is_split_into_words=True)\n",
        "tokens = tokenizer.convert_ids_to_tokens(tokenized_input[\"input_ids\"])\n",
        "print('tokens :',tokens)\n",
        "print('label tokens :', example[\"label_tokens\"])\n",
        "print('label pos :', example[\"pos_tags\"])"
      ]
    },
    {
      "cell_type": "markdown",
      "metadata": {
        "id": "5dVcLxYbrl4E"
      },
      "source": [
        "In the example above, tokens refer to those tokenized using the pretrained tokenizer, while label tokens refer to tokens tokenized from our dataset."
      ]
    },
    {
      "cell_type": "markdown",
      "metadata": {
        "id": "r1inxbOYuBpB"
      },
      "source": [
        "**Do you see something?**\n",
        "\n",
        "Yes, the tokens from the two tokenizers do not match.\n",
        "\n",
        "- sentence : `การประชุมทางวิชาการ ครั้งที่ 1`\n",
        "\n",
        "---\n",
        "\n",
        "- tokens : `['<s>', '▁', 'การประชุม', 'ทางวิชาการ', '<_>', '▁', 'ครั้งที่', '<_>', '▁', '1', '</s>']`\n",
        "\n",
        "\n",
        "---\n",
        "\n",
        "\n",
        "- label tokens : `['การ', 'ประชุม', 'ทาง', 'วิชาการ', ' ', 'ครั้ง', 'ที่ 1']`\n",
        "- label pos : `[21, 39, 26, 26, 37, 4, 18]`\n",
        "\n",
        "You can see that in our label tokens, 'การ' has a POS tag of 21, and 'ประชุม' has a POS tag of 39. However, when we tokenize the sentence using WangchanBERTa, we get the token 'การประชุม'. What POS tag should we assign to this new token?\n",
        "\n",
        "**What should we do ?**\n",
        "\n",
        "Based on this example, we found that the tokens from the WangchanBERTa do not directly align with our label tokens. This means we cannot directly use the label POS tags. Therefore, we need to reassign POS tags to the tokens produced by WangchanBERTa tokenization. The method we will use is majority voting:\n",
        "- If a token from the WangchanBERTa matches a label token exactly, we will directly assign the POS tag from the label POS.\n",
        "- If the token generated overlaps or combines multiple label tokens, we assign the POS tag based on the number of characters in each token: If the token contains the most characters from any label token, we assign the POS tag from that label token.\n",
        "\n",
        "**Example :**\n",
        "\n",
        "    # \"การประชุม\" (9 chars) is formed from \"การ\" (3 chars) + \"ประชุม\" (6 chars).\n",
        "    # \"การ\" has a POS tag of 21,\n",
        "    # and \"ประชุม\" has a POS tag of 39.\n",
        "    # Therefore, the POS tag for \"การประชุม\" is 39,\n",
        "    # as \"การประชุม\" is derived more from the \"ประชุม\" part than from the \"การ\" part.\n",
        "\n",
        "    # 'ทางวิชาการ' (10 chars) is formed from 'ทาง' (3 chars) + 'วิชาการ' (7 chars)\n",
        "    # \"ทาง\" has a POS tag of 26,\n",
        "    # and \"วิชาการ\" has a POS tag of 2.\n",
        "    # Therefore, the POS tag for \"ทางวิชาการ\" is 2,\n",
        "    # as \"ทางวิชาการ\" is derived more from the \"ทาง\" part than from the \"วิชาการ\" part."
      ]
    },
    {
      "cell_type": "markdown",
      "metadata": {
        "id": "jTkgye8K8sd8"
      },
      "source": [
        "# #TODO 1"
      ]
    },
    {
      "cell_type": "markdown",
      "metadata": {
        "id": "lgU8Nudh2rUJ"
      },
      "source": [
        "`**Warning: Please be careful of <unk>, an unknown word token.**`\n",
        "\n",
        "`**Warning: Please be careful of \" ำ \", the 'am' vowel. WangchanBERTa's internal preprocessing replaces all \" ำ \" to 'ํ' and 'า'**`\n",
        "\n",
        "Assigning the label -100 to the special tokens `[<s>]` and `[</s>]` and `[_]`  so they’re ignored by the PyTorch loss function (see [CrossEntropyLoss](https://pytorch.org/docs/stable/generated/torch.nn.CrossEntropyLoss.html): ignore_index)"
      ]
    },
    {
      "cell_type": "code",
      "source": [
        "# test = []\n",
        "# for i in tokenizer(['สวัสดีทุกท่านทุกคนในวันนี้เรามาตกปลาHหมึกยามค่ำข้างๆลิงสีดำ'], is_split_into_words=True)['input_ids']:\n",
        "#   test.append(tokenizer.decode(i))\n",
        "# print('tokens :', test)\n",
        "\n",
        "# test per character print of 'am' ำ\n",
        "for char in 'ำ':\n",
        "  print(char)\n",
        "\n",
        "print(len(tokenizer([\"สวัสดีทุกท่านทุกคนในวันนี้เรามาตกปลาหมึกยามค่ำข้างๆลิงสีดำ\"], is_split_into_words=True)['input_ids']))\n",
        "print(len(tokenizer.convert_ids_to_tokens(tokenizer([\"สวัสดีทุกท่านทุกคนในวันนี้เรามาตกปลาหมึกยามค่ำข้างๆลิงสีดำ\"], is_split_into_words=True)['input_ids'])))\n",
        "print(tokenizer.convert_ids_to_tokens(tokenizer([\"ำ\"], is_split_into_words=True)['input_ids']))\n",
        "print(tokenizer([\"ำ\"], is_split_into_words=True)['input_ids'])"
      ],
      "metadata": {
        "colab": {
          "base_uri": "https://localhost:8080/"
        },
        "id": "GDER1zsoFTd6",
        "outputId": "707599d6-78cb-46f9-e1d2-7a5c2e15abe3"
      },
      "execution_count": 78,
      "outputs": [
        {
          "output_type": "stream",
          "name": "stdout",
          "text": [
            "ำ\n",
            "14\n",
            "14\n",
            "['<s>', '▁', 'ํา', '</s>']\n",
            "[5, 10, 4556, 6]\n"
          ]
        }
      ]
    },
    {
      "cell_type": "code",
      "execution_count": 89,
      "metadata": {
        "id": "bdxxiUU69lDx"
      },
      "outputs": [],
      "source": [
        "def majority_vote_pos(examples):\n",
        "\n",
        "    ####################################################################################################################\n",
        "    # TO DO: Since the tokens from the output of the pretrained tokenizer\n",
        "    # do not match the tokens in the label tokens of the dataset,\n",
        "    # the task is to create a function to determine the POS tags of the tokens generated by the pretrained tokenizer.\n",
        "    # This should be done by referencing the POS tags in the label tokens. If a token partially overlaps with others,\n",
        "    # the POS tag from the segment with the greater number of characters should be assigned.\n",
        "    #\n",
        "    # Example :\n",
        "    # \"การประชุม\" (9 chars) is formed from \"การ\" (3 chars) + \"ประชุม\" (6 chars).\n",
        "    # \"การ\" has a POS tag of 21,\n",
        "    # and \"ประชุม\" has a POS tag of 39.\n",
        "    # Therefore, the POS tag for \"การประชุม\" is 39,\n",
        "    # as \"การประชุม\" is derived more from the \"ประชุม\" part than from the \"การ\" part.\n",
        "    #\n",
        "    # 'ทางวิชาการ' (10 chars) is formed from 'ทาง' (3 chars) + 'วิชาการ' (7 chars)\n",
        "    # \"ทาง\" has a POS tag of 26,\n",
        "    # and \"วิชาการ\" has a POS tag of 2.\n",
        "    # Therefore, the POS tag for \"ทางวิชาการ\" is 2,\n",
        "    # as \"ทางวิชาการ\" is derived more from the \"ทาง\" part than from the \"วิชาการ\" part.\n",
        "\n",
        "    # tokenize word by pretrained tokenizer\n",
        "    tokenized_inputs = tokenizer([examples[\"sentence\"]], is_split_into_words=True)\n",
        "\n",
        "    # FILL CODE HERE\n",
        "    new_tokens = tokenizer.convert_ids_to_tokens(tokenized_inputs[\"input_ids\"])\n",
        "    orc_label_tokens = examples[\"label_tokens\"]\n",
        "    orc_label_pos_tags = examples[\"pos_tags\"]\n",
        "    #'โดยพิจารณาจากพจนานุกรมภาษาคู่ (bilingual transfer dictionary)'\n",
        "    # tokens : ['<s>', '▁โดย', 'พิจารณาจาก', 'พจนานุกรม', 'ภาษา', 'คู่', '<_>', '▁(', 'bi', 'ling', 'ual', '<_>', '▁', 'trans', 'fer', '<_>', '▁', 'di', 'ction', 'ary', ')', '</s>']\n",
        "    # label tokens : ['โดย', 'พิจารณา', 'จาก', 'พจนานุกรม', 'ภาษา', 'คู่', ' ', '(', 'bilingual transfer dictionary', ')']\n",
        "\n",
        "    # การประชุมทางวิชาการ ครั้งที่ 1\n",
        "    # tokens : ['<s>', '▁', 'การประชุม', 'ทางวิชาการ', '<_>', '▁', 'ครั้งที่', '<_>', '▁', '1', '</s>']\n",
        "    # label tokens : ['การ', 'ประชุม', 'ทาง', 'วิชาการ', ' ', 'ครั้ง', 'ที่ 1']\n",
        "\n",
        "    #Do an algorithm where\n",
        "\n",
        "    orc_chars_pos_tags = []\n",
        "    orc_chars = []\n",
        "\n",
        "    for word_index, word in enumerate(orc_label_tokens):\n",
        "      for char_index, char in enumerate(word):\n",
        "        orc_chars_pos_tags.append(orc_label_pos_tags[word_index])\n",
        "        orc_chars.append(char)\n",
        "    # print(orc_chars)\n",
        "    # print(orc_chars_pos_tags)\n",
        "    new_pos_result = []\n",
        "    label_tokens_idx = 0\n",
        "    label_c_idx = 0\n",
        "    total_label_c_idx = 0\n",
        "    for token_idx, token in enumerate(new_tokens):\n",
        "      if token in ['<s>', '</s>' , '▁']:\n",
        "        new_pos_result.append(-100)\n",
        "        # print(f\"({token_idx}) {token} appended -100\")\n",
        "\n",
        "      elif token == '<unk>':\n",
        "        new_pos_result.append(orc_chars_pos_tags[total_label_c_idx])\n",
        "        total_label_c_idx += 1\n",
        "        # print(f\"({token_idx}) {token} assigned: {new_pos_result[-1]}\")\n",
        "\n",
        "      elif token == '<_>' and orc_chars[total_label_c_idx] == ' ':\n",
        "        new_pos_result.append(orc_chars_pos_tags[total_label_c_idx])\n",
        "        total_label_c_idx += 1\n",
        "        # print(f\"({token_idx}) {token} assigned: {new_pos_result[-1]}\")\n",
        "\n",
        "      else:\n",
        "        pos_vote = dict()\n",
        "        for c_idx, c in enumerate(token.replace(\"▁\",\" \")):\n",
        "          #keep in mind later for ำ\n",
        "          if c == orc_chars[total_label_c_idx]:\n",
        "            current_pos = orc_chars_pos_tags[total_label_c_idx]\n",
        "            pos_vote[current_pos] = pos_vote.get(current_pos, 0) + 1  # Count occurrences\n",
        "            # print(f\" {total_label_c_idx} ({token_idx},{c_idx}) {token} {c} = {orc_chars[total_label_c_idx]}\")\n",
        "            total_label_c_idx += 1\n",
        "          elif c:\n",
        "            pass\n",
        "            # print(f\"  ({token_idx},{c_idx}) {token}???? : -{c}- with label -{orc_chars[total_label_c_idx]}-\")\n",
        "\n",
        "        # Get the key (POS tag) with the highest value\n",
        "        max_pos = max(pos_vote, key=pos_vote.get) if pos_vote else None\n",
        "        new_pos_result.append(max_pos)\n",
        "        # print(f\"({token_idx}) {token} assigned: {new_pos_result[-1]}\")\n",
        "\n",
        "    tokenized_inputs['tokens'] = new_tokens\n",
        "    tokenized_inputs['labels'] = new_pos_result\n",
        "\n",
        "    return tokenized_inputs\n",
        "    ####################################################################################################################"
      ]
    },
    {
      "cell_type": "code",
      "source": [
        "# else if tokens[tokens_index] == '<unk>':\n",
        "#             new_label_tokens[tokens_index] = orc_label_pos_tags[label_tokens_idx]\n",
        "#             tokens_index += 1\n",
        "#             label_c_idx += 1\n",
        "#             if label_c_idx == len(orc_label_tokens[label_tokens_idx]):\n",
        "#                 label_tokens_idx += 1\n",
        "#                 label_c_idx = 0"
      ],
      "metadata": {
        "id": "eQGmykFAOsQP"
      },
      "execution_count": 90,
      "outputs": []
    },
    {
      "cell_type": "code",
      "execution_count": 91,
      "metadata": {
        "id": "doFKOhpbGf9N",
        "colab": {
          "base_uri": "https://localhost:8080/",
          "height": 81,
          "referenced_widgets": [
            "8079ca0d808d4a6fbc6e87276c4ca4f5",
            "412aa020e1ce466883e2d4bcfeaf1acd",
            "a511c585c51a4ccdbc448adffd299a53",
            "5a3e820dc1d44bcf9490a972357ad3fc",
            "ce5671eec817457b977cad8318176c34",
            "fd7b08769eb44a10a01bf19448af595e",
            "6f1f69f8fdc84408829471c4972dace1",
            "62d983dc5a024026a08932d6000434f1",
            "f92f307d84a24603b0192422cea25c5d",
            "7f382ace059045a3b1a92dd83046f4b3",
            "10b6db95983544c6b41f902afbcf4194",
            "65dcdacf82f341299bc5b801290ef47b",
            "a085ff845f724448a5acf3b933192b29",
            "0958bb3deb4847dd9e2904b79188e386",
            "d0f4d350df8c4691b383855f335489ce",
            "50c2e363cece42f5af117fea80d96b4f",
            "752349c633ad465e9b4dd47ab3606b91",
            "980efc31422a45b3a847240a53bb98cf",
            "ea50751daf574c4dbe71e8f9a611b6cd",
            "7d05502927d7425887e8b238dd14dab2",
            "c57de201251f45b3844b5f2df8dd71ab",
            "9f2f15fe318644668abdab3d8266b26d"
          ]
        },
        "outputId": "a6eeb775-1b48-4360-dbbb-5fb18f16f81c"
      },
      "outputs": [
        {
          "output_type": "display_data",
          "data": {
            "text/plain": [
              "Map:   0%|          | 0/18500 [00:00<?, ? examples/s]"
            ],
            "application/vnd.jupyter.widget-view+json": {
              "version_major": 2,
              "version_minor": 0,
              "model_id": "8079ca0d808d4a6fbc6e87276c4ca4f5"
            }
          },
          "metadata": {}
        },
        {
          "output_type": "display_data",
          "data": {
            "text/plain": [
              "Map:   0%|          | 0/4625 [00:00<?, ? examples/s]"
            ],
            "application/vnd.jupyter.widget-view+json": {
              "version_major": 2,
              "version_minor": 0,
              "model_id": "65dcdacf82f341299bc5b801290ef47b"
            }
          },
          "metadata": {}
        }
      ],
      "source": [
        "tokenized_orchid = orchidl.map(majority_vote_pos)"
      ]
    },
    {
      "cell_type": "code",
      "execution_count": 92,
      "metadata": {
        "id": "uvdDnWeOJYpv",
        "colab": {
          "base_uri": "https://localhost:8080/"
        },
        "outputId": "df670b5c-b30d-4528-fb68-9b817250f0b6"
      },
      "outputs": [
        {
          "output_type": "execute_result",
          "data": {
            "text/plain": [
              "DatasetDict({\n",
              "    train: Dataset({\n",
              "        features: ['id', 'label_tokens', 'pos_tags', 'sentence', 'input_ids', 'attention_mask', 'tokens', 'labels'],\n",
              "        num_rows: 18500\n",
              "    })\n",
              "    test: Dataset({\n",
              "        features: ['id', 'label_tokens', 'pos_tags', 'sentence', 'input_ids', 'attention_mask', 'tokens', 'labels'],\n",
              "        num_rows: 4625\n",
              "    })\n",
              "})"
            ]
          },
          "metadata": {},
          "execution_count": 92
        }
      ],
      "source": [
        "tokenized_orchid"
      ]
    },
    {
      "cell_type": "code",
      "execution_count": 93,
      "metadata": {
        "id": "ojrRF85dJbwf",
        "colab": {
          "base_uri": "https://localhost:8080/"
        },
        "outputId": "ca52afe2-3848-430d-ab0f-70068384ab05"
      },
      "outputs": [
        {
          "output_type": "execute_result",
          "data": {
            "text/plain": [
              "{'id': '0',\n",
              " 'label_tokens': ['การ', 'ประชุม', 'ทาง', 'วิชาการ', ' ', 'ครั้ง', 'ที่ 1'],\n",
              " 'pos_tags': [21, 39, 26, 26, 37, 4, 18],\n",
              " 'sentence': 'การประชุมทางวิชาการ ครั้งที่ 1',\n",
              " 'input_ids': [5, 10, 882, 8222, 8, 10, 1014, 8, 10, 59, 6],\n",
              " 'attention_mask': [1, 1, 1, 1, 1, 1, 1, 1, 1, 1, 1],\n",
              " 'tokens': ['<s>',\n",
              "  '▁',\n",
              "  'การประชุม',\n",
              "  'ทางวิชาการ',\n",
              "  '<_>',\n",
              "  '▁',\n",
              "  'ครั้งที่',\n",
              "  '<_>',\n",
              "  '▁',\n",
              "  '1',\n",
              "  '</s>'],\n",
              " 'labels': [-100, -100, 39, 26, 37, -100, 4, 18, -100, 18, -100]}"
            ]
          },
          "metadata": {},
          "execution_count": 93
        }
      ],
      "source": [
        "tokenized_orchid['train'][0]"
      ]
    },
    {
      "cell_type": "code",
      "execution_count": 94,
      "metadata": {
        "id": "KMfzFnjSdCGI",
        "colab": {
          "base_uri": "https://localhost:8080/"
        },
        "outputId": "c40aeaba-bdb3-423d-dc62-26f3300ab8d3"
      },
      "outputs": [
        {
          "output_type": "stream",
          "name": "stdout",
          "text": [
            "id : 0\n",
            "label_tokens : ['การ', 'ประชุม', 'ทาง', 'วิชาการ', ' ', 'ครั้ง', 'ที่ 1']\n",
            "pos_tags : [21, 39, 26, 26, 37, 4, 18]\n",
            "sentence : การประชุมทางวิชาการ ครั้งที่ 1\n",
            "input_ids : [5, 10, 882, 8222, 8, 10, 1014, 8, 10, 59, 6]\n",
            "attention_mask : [1, 1, 1, 1, 1, 1, 1, 1, 1, 1, 1]\n",
            "tokens : ['<s>', '▁', 'การประชุม', 'ทางวิชาการ', '<_>', '▁', 'ครั้งที่', '<_>', '▁', '1', '</s>']\n",
            "labels : [-100, -100, 39, 26, 37, -100, 4, 18, -100, 18, -100]\n"
          ]
        }
      ],
      "source": [
        "example = tokenized_orchid[\"train\"][0]\n",
        "for i in example :\n",
        "    print(i, \":\", example[i])"
      ]
    },
    {
      "cell_type": "markdown",
      "metadata": {
        "id": "9lhsQcdL6H3J"
      },
      "source": [
        "This is the result after we realigned the POS based on the majority vote.\n",
        "- label_tokens : `['การ', 'ประชุม', 'ทาง', 'วิชาการ', ' ', 'ครั้ง', 'ที่ 1']`\n",
        "- pos_tags : `[21, 39, 26, 26, 37, 4, 18]`\n",
        "- tokens : `['<s>', '▁', 'การประชุม', 'ทางวิชาการ', '<_>', '▁', 'ครั้งที่', '<_>', '▁', '1', '</s>']`\n",
        "- labels : `[-100, -100, 39, 26, 37, -100, 4, 18, -100, 18, -100]`\n",
        "\n",
        "`['<s>', '▁', '</s>'] : -100`\n",
        "\n",
        "**Check :**\n",
        "\n",
        "> \"การประชุม\" (9 chars) is formed from \"การ\" (3 chars) + \"ประชุม\" (6 chars).\n",
        "\n",
        "\n",
        "> \"การ\" has a POS tag of 21,\n",
        "\n",
        "> and \"ประชุม\" has a POS tag of 39.\n",
        "\n",
        "> Therefore, the POS tag for \"การประชุม\" is 39,\n",
        "\n",
        "> as \"การประชุม\" is derived more from the \"ประชุม\" part than from the \"การ\" part.\n",
        "\n",
        "\n",
        "\n"
      ]
    },
    {
      "cell_type": "code",
      "execution_count": 95,
      "metadata": {
        "id": "iOE5CEgZdO9c",
        "colab": {
          "base_uri": "https://localhost:8080/"
        },
        "outputId": "80216807-af04-43a2-b08c-cb037dac2db0"
      },
      "outputs": [
        {
          "output_type": "stream",
          "name": "stdout",
          "text": [
            "id : 1899\n",
            "label_tokens : ['โดย', 'พิจารณา', 'จาก', 'พจนานุกรม', 'ภาษา', 'คู่', ' ', '(', 'bilingual transfer dictionary', ')']\n",
            "pos_tags : [25, 39, 38, 26, 26, 5, 37, 37, 26, 37]\n",
            "sentence : โดยพิจารณาจากพจนานุกรมภาษาคู่ (bilingual transfer dictionary)\n",
            "input_ids : [5, 489, 15617, 19737, 958, 493, 8, 1241, 4906, 11608, 12177, 8, 10, 11392, 9806, 8, 10, 2951, 15779, 8001, 29, 6]\n",
            "attention_mask : [1, 1, 1, 1, 1, 1, 1, 1, 1, 1, 1, 1, 1, 1, 1, 1, 1, 1, 1, 1, 1, 1]\n",
            "tokens : ['<s>', '▁โดย', 'พิจารณาจาก', 'พจนานุกรม', 'ภาษา', 'คู่', '<_>', '▁(', 'bi', 'ling', 'ual', '<_>', '▁', 'trans', 'fer', '<_>', '▁', 'di', 'ction', 'ary', ')', '</s>']\n",
            "labels : [-100, 25, 39, 26, 26, 5, 37, 37, 26, 26, 26, 26, -100, 26, 26, 26, -100, 26, 26, 26, 37, -100]\n"
          ]
        }
      ],
      "source": [
        "# hard test case\n",
        "example = tokenized_orchid[\"train\"][1899]\n",
        "for i in example :\n",
        "    print(i, \":\", example[i])"
      ]
    },
    {
      "cell_type": "markdown",
      "metadata": {
        "id": "Fv_NkVQ6qsJe"
      },
      "source": [
        "Expected output\n",
        "\n",
        "\n",
        "```\n",
        "id : 1899\n",
        "label_tokens : ['โดย', 'พิจารณา', 'จาก', 'พจนานุกรม', 'ภาษา', 'คู่', ' ', '(', 'bilingual transfer dictionary', ')']\n",
        "pos_tags : [25, 39, 38, 26, 26, 5, 37, 37, 26, 37]\n",
        "sentence : โดยพิจารณาจากพจนานุกรมภาษาคู่ (bilingual transfer dictionary)\n",
        "input_ids : [5, 489, 15617, 19737, 958, 493, 8, 1241, 4906, 11608, 12177, 8, 10, 11392, 9806, 8, 10, 2951, 15779, 8001, 29, 6]\n",
        "attention_mask : [1, 1, 1, 1, 1, 1, 1, 1, 1, 1, 1, 1, 1, 1, 1, 1, 1, 1, 1, 1, 1, 1]\n",
        "tokens : ['<s>', '▁โดย', 'พิจารณาจาก', 'พจนานุกรม', 'ภาษา', 'คู่', '<_>', '▁(', 'bi', 'ling', 'ual', '<_>', '▁', 'trans', 'fer', '<_>', '▁', 'di', 'ction', 'ary', ')', '</s>']\n",
        "labels : [-100, 25, 39, 26, 26, 5, 37, 37, 26, 26, 26, 26, -100, 26, 26, 26, -100, 26, 26, 26, 37, -100]\n",
        "```"
      ]
    },
    {
      "cell_type": "markdown",
      "metadata": {
        "id": "0pwADd1a85bn"
      },
      "source": [
        "# Train and Evaluate model"
      ]
    },
    {
      "cell_type": "markdown",
      "metadata": {
        "id": "TsnlIUJvYEy2"
      },
      "source": [
        "We will create a batch of examples using [DataCollatorWithPadding.](https://huggingface.co/docs/transformers/v4.48.0/en/main_classes/data_collator#transformers.DataCollatorWithPadding)  \n",
        "\n",
        "Data collators are objects that will form a batch by using a list of dataset elements as input. These elements are of the same type as the elements of train_dataset or eval_dataset.\n",
        "\n",
        "DataCollatorWithPadding will help us pad the sentences to the longest length in a batch during collation, instead of padding the whole dataset to the maximum length. This allows for efficient computation during each batch.\n",
        "\n",
        "*   DataCollatorForTokenClassification : `padding (bool, str or PaddingStrategy, optional, defaults to True)`\n",
        "*   `True` or `'longest'` (default): Pad to the longest sequence in the batch (or no padding if only a single sequence is provided).\n",
        "\n"
      ]
    },
    {
      "cell_type": "code",
      "execution_count": 96,
      "metadata": {
        "id": "CcAY4-E2J6e5"
      },
      "outputs": [],
      "source": [
        "from transformers import DataCollatorForTokenClassification\n",
        "\n",
        "data_collator = DataCollatorForTokenClassification(tokenizer=tokenizer)"
      ]
    },
    {
      "cell_type": "markdown",
      "metadata": {
        "id": "jg4v14KcElbY"
      },
      "source": [
        "For evaluating your model’s performance. You can quickly load a evaluation method with the [Evaluate](https://huggingface.co/docs/evaluate/index) library. For this task, load the [seqeval](https://huggingface.co/spaces/evaluate-metric/seqeval) framework (see the Evaluate [quick tour](https://huggingface.co/docs/evaluate/a_quick_tour) to learn more about how to load and compute a metric). Seqeval actually produces several scores: precision, recall, F1, and accuracy."
      ]
    },
    {
      "cell_type": "code",
      "execution_count": 97,
      "metadata": {
        "id": "cZk3PjndK-Q8",
        "colab": {
          "base_uri": "https://localhost:8080/",
          "height": 49,
          "referenced_widgets": [
            "d76892214492464eb8277c7cca592a70",
            "f5d97967794a4bfa9485c631756a9db7",
            "c518f079d0f04bc6a8eb1a4150651bf2",
            "60148fc3dd734d2aa92e81556fb6af93",
            "22b96afd97e140e4ba6db58487219b29",
            "38801388d9ec4bc6871459c0f6f087af",
            "81a09db16bff443db7f6561c83fc4a55",
            "6799d52ae6d44dedb77c36dfe1e68315",
            "3bb5070050cf4c058df2ce21442effa0",
            "751eb2d82f9a4f6aa068cc8ec09ce0cd",
            "152f9b5e02ed482cad221d8f641d2bdf"
          ]
        },
        "outputId": "e44b02e3-ba4f-4e2c-d01e-15e26356fe50"
      },
      "outputs": [
        {
          "output_type": "display_data",
          "data": {
            "text/plain": [
              "Downloading builder script:   0%|          | 0.00/6.34k [00:00<?, ?B/s]"
            ],
            "application/vnd.jupyter.widget-view+json": {
              "version_major": 2,
              "version_minor": 0,
              "model_id": "d76892214492464eb8277c7cca592a70"
            }
          },
          "metadata": {}
        }
      ],
      "source": [
        "import evaluate\n",
        "\n",
        "seqeval = evaluate.load(\"seqeval\")"
      ]
    },
    {
      "cell_type": "markdown",
      "metadata": {
        "id": "FllGDNO5RUIA"
      },
      "source": [
        "Huggingface requires us to write a ``compute_metrics()`` function. This will be invoked when huggingface evalutes a model.\n",
        "\n",
        "Note that we ignore to evaluate on -100 labels."
      ]
    },
    {
      "cell_type": "code",
      "execution_count": null,
      "metadata": {
        "id": "vDwNPItNLTM1"
      },
      "outputs": [],
      "source": [
        "import numpy as np\n",
        "import warnings\n",
        "\n",
        "\n",
        "def compute_metrics(p):\n",
        "    predictions, labels = p\n",
        "    predictions = np.argmax(predictions, axis=2)\n",
        "\n",
        "    true_predictions = [\n",
        "        [label_list[p] for (p, l) in zip(prediction, label) if l != -100]\n",
        "        for prediction, label in zip(predictions, labels)\n",
        "    ]\n",
        "    true_labels = [\n",
        "        [label_list[l] for (p, l) in zip(prediction, label) if l != -100]\n",
        "        for prediction, label in zip(predictions, labels)\n",
        "    ]\n",
        "\n",
        "    with warnings.catch_warnings():\n",
        "        warnings.filterwarnings(\"ignore\")\n",
        "        results = seqeval.compute(predictions=true_predictions, references=true_labels)\n",
        "    return {\n",
        "        \"precision\": results[\"overall_precision\"],\n",
        "        \"recall\": results[\"overall_recall\"],\n",
        "        \"f1\": results[\"overall_f1\"],\n",
        "        \"accuracy\": results[\"overall_accuracy\"],\n",
        "    }"
      ]
    },
    {
      "cell_type": "markdown",
      "metadata": {
        "id": "kt13vTldvTw4"
      },
      "source": [
        "The total number of labels in our POS tag set."
      ]
    },
    {
      "cell_type": "code",
      "execution_count": null,
      "metadata": {
        "id": "JD84B79-Lxwf"
      },
      "outputs": [],
      "source": [
        "id2label = {\n",
        "    0: 'ADVI',\n",
        "    1: 'ADVN',\n",
        "    2: 'ADVP',\n",
        "    3: 'ADVS',\n",
        "    4: 'CFQC',\n",
        "    5: 'CLTV',\n",
        "    6: 'CMTR',\n",
        "    7: 'CMTR@PUNC',\n",
        "    8: 'CNIT',\n",
        "    9: 'CVBL',\n",
        "    10: 'DCNM',\n",
        "    11: 'DDAC',\n",
        "    12: 'DDAN',\n",
        "    13: 'DDAQ',\n",
        "    14: 'DDBQ',\n",
        "    15: 'DIAC',\n",
        "    16: 'DIAQ',\n",
        "    17: 'DIBQ',\n",
        "    18: 'DONM',\n",
        "    19: 'EAFF',\n",
        "    20: 'EITT',\n",
        "    21: 'FIXN',\n",
        "    22: 'FIXV',\n",
        "    23: 'JCMP',\n",
        "    24: 'JCRG',\n",
        "    25: 'JSBR',\n",
        "    26: 'NCMN',\n",
        "    27: 'NCNM',\n",
        "    28: 'NEG',\n",
        "    29: 'NLBL',\n",
        "    30: 'NONM',\n",
        "    31: 'NPRP',\n",
        "    32: 'NTTL',\n",
        "    33: 'PDMN',\n",
        "    34: 'PNTR',\n",
        "    35: 'PPRS',\n",
        "    36: 'PREL',\n",
        "    37: 'PUNC',\n",
        "    38: 'RPRE',\n",
        "    39: 'VACT',\n",
        "    40: 'VATT',\n",
        "    41: 'VSTA',\n",
        "    42: 'XVAE',\n",
        "    43: 'XVAM',\n",
        "    44: 'XVBB',\n",
        "    45: 'XVBM',\n",
        "    46: 'XVMM',\n",
        "    # 47: 'O'\n",
        "}\n",
        "label2id = {}\n",
        "for k, v in id2label.items() :\n",
        "    label2id[v] = k\n",
        "\n",
        "label2id"
      ]
    },
    {
      "cell_type": "code",
      "execution_count": null,
      "metadata": {
        "id": "mQtGN8QQQLME"
      },
      "outputs": [],
      "source": [
        "labels = [i for i in id2label.values()]\n",
        "labels"
      ]
    },
    {
      "cell_type": "markdown",
      "metadata": {
        "id": "Nu7Z3QH_BJe4"
      },
      "source": [
        "## Load pretrained model"
      ]
    },
    {
      "cell_type": "markdown",
      "metadata": {
        "id": "cBYlcF-gDZcF"
      },
      "source": [
        "Select a pretrained model for fine-tuning to develop a POS Tagger model using the Orchid corpus dataset.\n",
        "\n",
        "\n",
        "\n",
        "*   model : `wangchanberta-base-att-spm-uncased`\n",
        "*   Don't forget to update the num_labels.\n",
        "\n",
        "You’re ready to start training your model now! Load pretrained model with AutoModelForTokenClassification along with the number of expected labels, and the label mappings:\n",
        "\n",
        "\n"
      ]
    },
    {
      "cell_type": "markdown",
      "metadata": {
        "id": "6OOu8s-mO_Fw"
      },
      "source": [
        "`In the first part, we require you to select the wangchanberta-base-att-spm-uncased.`"
      ]
    },
    {
      "cell_type": "code",
      "execution_count": null,
      "metadata": {
        "id": "OOsnubHyDMmA"
      },
      "outputs": [],
      "source": [
        "model_names = [\n",
        "    'wangchanberta-base-att-spm-uncased',\n",
        "    'wangchanberta-base-wiki-newmm',\n",
        "    'wangchanberta-base-wiki-ssg',\n",
        "    'wangchanberta-base-wiki-sefr',\n",
        "    'wangchanberta-base-wiki-spm',\n",
        "]\n",
        "\n",
        "#@title Choose Pretrained Model\n",
        "model_name = \"wangchanberta-base-att-spm-uncased\"\n",
        "\n",
        "#create model\n",
        "model = AutoModelForTokenClassification.from_pretrained(\n",
        "    f\"airesearch/{model_name}\",\n",
        "    revision='main',\n",
        "    num_labels=47, id2label=id2label, label2id=label2id\n",
        ")\n"
      ]
    },
    {
      "cell_type": "markdown",
      "metadata": {
        "id": "-H2OExQrCAfX"
      },
      "source": [
        "### #TODO 2"
      ]
    },
    {
      "cell_type": "markdown",
      "metadata": {
        "id": "FBZKrz8nFXyT"
      },
      "source": [
        "* Configure your training hyperparameters using `**TrainingArguments**`. The only required parameter is is `output_dir`, which determines the directory where your model will be saved. To upload the model to the Hugging Face Hub, set push_to_hub=True (note: you must be logged into Hugging Face for this). During training, the Trainer will compute seqeval metrics at the end of each epoch and store the training checkpoint.\n",
        "* Provide the `**Trainer**` with the training arguments, as well as the model, dataset, tokenizer, data collator, and compute_metrics function.\n",
        "* Use `**train()**` to fine-tune the model.\n",
        "\n",
        "\n",
        "Read [huggingface's tutorial](https://huggingface.co/docs/transformers/en/tasks/token_classification) for more details."
      ]
    },
    {
      "cell_type": "code",
      "execution_count": null,
      "metadata": {
        "id": "gMUkNHNrCwsl"
      },
      "outputs": [],
      "source": [
        "training_args = TrainingArguments(\n",
        "    #########################\n",
        "    #\n",
        "    #\n",
        "    #\n",
        "    #\n",
        "    #\n",
        "    #\n",
        "    #\n",
        "    #\n",
        "    #########################\n",
        ")\n",
        "\n",
        "trainer = Trainer(\n",
        "    #########################\n",
        "    #\n",
        "    #\n",
        "    #\n",
        "    #\n",
        "    #\n",
        "    #\n",
        "    ########################\n",
        ")\n",
        "\n",
        "trainer.train()"
      ]
    },
    {
      "cell_type": "markdown",
      "metadata": {
        "id": "XiXUG6aakihd"
      },
      "source": [
        "# Inference"
      ]
    },
    {
      "cell_type": "markdown",
      "metadata": {
        "id": "2OPVknoQk4wL"
      },
      "source": [
        "With your model fine-tuned, you can now perform inference."
      ]
    },
    {
      "cell_type": "code",
      "execution_count": null,
      "metadata": {
        "id": "mMyq6I9CkZ1R"
      },
      "outputs": [],
      "source": [
        "text = \"การประชุมทางวิชาการ ครั้งที่ 1\""
      ]
    },
    {
      "cell_type": "markdown",
      "metadata": {
        "id": "FL5qxD3EPLFt"
      },
      "source": [
        "`In the first part, we require you to select the wangchanberta-base-att-spm-uncased.`"
      ]
    },
    {
      "cell_type": "code",
      "execution_count": null,
      "metadata": {
        "id": "sKgM-EaGfxA4"
      },
      "outputs": [],
      "source": [
        "from transformers import AutoTokenizer\n",
        "\n",
        "# Load pretrained tokenizer from Hugging Face\n",
        "#@title Choose Pretrained Model\n",
        "model_name = \"airesearch/wangchanberta-base-att-spm-uncased\"\n",
        "\n",
        "tokenizer = Tokenizer(model_name).from_pretrained(model_name)\n",
        "inputs = tokenizer(text, return_tensors=\"pt\")"
      ]
    },
    {
      "cell_type": "code",
      "execution_count": null,
      "metadata": {
        "id": "PcRf-Q9nf4-t"
      },
      "outputs": [],
      "source": [
        "inputs"
      ]
    },
    {
      "cell_type": "code",
      "execution_count": null,
      "metadata": {
        "id": "6ADY5OuqkkHb"
      },
      "outputs": [],
      "source": [
        "from transformers import AutoModelForTokenClassification\n",
        "\n",
        "## Load your fine-tuned model from Hugging Face\n",
        "model = AutoModelForTokenClassification.from_pretrained(\"YOUR/MODEL_PATH\") ## your model path from Hugging Face\n",
        "with torch.no_grad():\n",
        "    logits = model(**inputs).logits"
      ]
    },
    {
      "cell_type": "code",
      "execution_count": null,
      "metadata": {
        "id": "AACsd7VZgT1E"
      },
      "outputs": [],
      "source": [
        "predictions = torch.argmax(logits, dim=2)\n",
        "predicted_token_class = [model.config.id2label[t.item()] for t in predictions[0]]\n",
        "predicted_token_class"
      ]
    },
    {
      "cell_type": "code",
      "execution_count": null,
      "metadata": {
        "id": "kJKGbf4Rk0c9"
      },
      "outputs": [],
      "source": [
        "id2label"
      ]
    },
    {
      "cell_type": "code",
      "execution_count": null,
      "metadata": {
        "id": "6OikBqcKTcUY"
      },
      "outputs": [],
      "source": [
        "# Inference\n",
        "# ignore special tokens\n",
        "text = 'จะว่าไปแล้วเชิงเทียนของผมก็สวยดีเหมือนกัน'\n",
        "inputs = tokenizer(text, return_tensors=\"pt\")\n",
        "tokenized_input = tokenizer([text], is_split_into_words=True)\n",
        "tokens = tokenizer.convert_ids_to_tokens(tokenized_input[\"input_ids\"])\n",
        "print('tokens :', tokens)\n",
        "with torch.no_grad():\n",
        "    logits = model(**inputs).logits\n",
        "predictions = torch.argmax(logits, dim=2)\n",
        "predicted_token_class = [model.config.id2label[t.item()] for t in predictions[0]]\n",
        "print('predict pos :', predicted_token_class)"
      ]
    },
    {
      "cell_type": "markdown",
      "metadata": {
        "id": "D-TtwYTCXs2O"
      },
      "source": [
        "**Evaluate model :**\n",
        "\n",
        "The output from the model is a softmax over classes. We choose the maximum class as the answer for evaluation. Again, we will ignore the -100 labels."
      ]
    },
    {
      "cell_type": "code",
      "execution_count": null,
      "metadata": {
        "id": "Hm_adLrcXyOe"
      },
      "outputs": [],
      "source": [
        "import pandas as pd\n",
        "from IPython.display import display\n",
        "\n",
        "def evaluation_report(y_true, y_pred, get_only_acc=False):\n",
        "    # retrieve all tags in y_true\n",
        "    tag_set = set()\n",
        "    for sent in y_true:\n",
        "        for tag in sent:\n",
        "            tag_set.add(tag)\n",
        "    for sent in y_pred:\n",
        "        for tag in sent:\n",
        "            tag_set.add(tag)\n",
        "    tag_list = sorted(list(tag_set))\n",
        "\n",
        "    # count correct points\n",
        "    tag_info = dict()\n",
        "    for tag in tag_list:\n",
        "        tag_info[tag] = {'correct_tagged': 0, 'y_true': 0, 'y_pred': 0}\n",
        "\n",
        "    all_correct = 0\n",
        "    all_count = sum([len(sent) for sent in y_true])\n",
        "    speacial_tag = 0\n",
        "    for sent_true, sent_pred in zip(y_true, y_pred):\n",
        "        for tag_true, tag_pred in zip(sent_true, sent_pred):\n",
        "            # pass special token\n",
        "            if tag_true == -100 :\n",
        "                speacial_tag += 1\n",
        "                pass\n",
        "            if tag_true == tag_pred:\n",
        "                tag_info[tag_true]['correct_tagged'] += 1\n",
        "                all_correct += 1\n",
        "            tag_info[tag_true]['y_true'] += 1\n",
        "            tag_info[tag_pred]['y_pred'] += 1\n",
        "    print('speacial_tag :',speacial_tag) # delete number of special token from all_count\n",
        "    accuracy = (all_correct / (all_count-speacial_tag))\n",
        "\n",
        "    # get only accuracy for testing\n",
        "    if get_only_acc:\n",
        "      return accuracy\n",
        "\n",
        "    accuracy *= 100\n",
        "\n",
        "\n",
        "    # summarize and make evaluation result\n",
        "    eval_list = list()\n",
        "    for tag in tag_list:\n",
        "        eval_result = dict()\n",
        "        eval_result['tag'] = tag\n",
        "        eval_result['correct_count'] = tag_info[tag]['correct_tagged']\n",
        "        precision = (tag_info[tag]['correct_tagged']/tag_info[tag]['y_pred'])*100 if tag_info[tag]['y_pred'] else '-'\n",
        "        recall = (tag_info[tag]['correct_tagged']/tag_info[tag]['y_true'])*100 if (tag_info[tag]['y_true'] > 0) else 0\n",
        "        eval_result['precision'] = precision\n",
        "        eval_result['recall'] = recall\n",
        "        eval_result['f1_score'] = (2*precision*recall)/(precision+recall) if (type(precision) is float and recall > 0) else '-'\n",
        "\n",
        "        eval_list.append(eval_result)\n",
        "\n",
        "    eval_list.append({'tag': 'accuracy=%.2f' % accuracy, 'correct_count': '', 'precision': '', 'recall': '', 'f1_score': ''})\n",
        "\n",
        "    df = pd.DataFrame.from_dict(eval_list)\n",
        "    df = df[['tag', 'precision', 'recall', 'f1_score', 'correct_count']]\n",
        "\n",
        "    display(df)\n"
      ]
    },
    {
      "cell_type": "code",
      "execution_count": null,
      "metadata": {
        "id": "x7Lryj2aYCdn"
      },
      "outputs": [],
      "source": [
        "# prepare test set\n",
        "test_data = tokenized_orchid[\"test\"]"
      ]
    },
    {
      "cell_type": "code",
      "execution_count": null,
      "metadata": {
        "id": "FGXWNs9RY2Zv"
      },
      "outputs": [],
      "source": [
        "# labels for test set\n",
        "y_test = []\n",
        "for inputs in test_data:\n",
        "  y_test.append(inputs['labels'])"
      ]
    },
    {
      "cell_type": "code",
      "execution_count": null,
      "metadata": {
        "id": "U6__09qnX1DW"
      },
      "outputs": [],
      "source": [
        "y_pred = []\n",
        "device = 'cuda' if torch.cuda.is_available() else 'cpu'\n",
        "for inputs in test_data:\n",
        "    text = inputs['sentence']\n",
        "    inputs = tokenizer(text, return_tensors=\"pt\")\n",
        "    with torch.no_grad():\n",
        "        pred = model(**inputs).logits\n",
        "        predictions = torch.argmax(pred, dim=2)\n",
        "        # Append padded predictions to y_pred\n",
        "        y_pred.append(predictions.tolist()[0])"
      ]
    },
    {
      "cell_type": "code",
      "execution_count": null,
      "metadata": {
        "id": "yX0BhOe7g3eh"
      },
      "outputs": [],
      "source": [
        "# check our prediction with label\n",
        "# -100 is special tokens : [<s>, </s>, _]\n",
        "print(y_pred[0])\n",
        "print(y_test[0])"
      ]
    },
    {
      "cell_type": "code",
      "execution_count": null,
      "metadata": {
        "id": "Na0L6NUdgLaE"
      },
      "outputs": [],
      "source": [
        "evaluation_report(y_test, y_pred)"
      ]
    },
    {
      "cell_type": "markdown",
      "metadata": {
        "id": "F0BZzVgjm4l_"
      },
      "source": [
        "# Other Pretrained model"
      ]
    },
    {
      "cell_type": "markdown",
      "metadata": {
        "id": "ssZdIst48AwH"
      },
      "source": [
        "In this section, we will experiment by fine-tuning other pretrained models, such as airesearch/wangchanberta-base-wiki-newmm, to see how about their performance.\n",
        "\n",
        "Since each model uses a different word-tokenization method.\n",
        "for example, **airesearch/wangchanberta-base-wiki-newmm uses newmm**,\n",
        "while **airesearch/wangchanberta-base-att-spm-uncased uses SentencePiece**.\n",
        "please try fine-tuning and compare the performance of these models."
      ]
    },
    {
      "cell_type": "markdown",
      "metadata": {
        "id": "GUCWuhrl91mj"
      },
      "source": [
        "### #TODO 3"
      ]
    },
    {
      "cell_type": "code",
      "execution_count": null,
      "metadata": {
        "id": "9etT-A_anBfi"
      },
      "outputs": [],
      "source": [
        "model_names = [\n",
        "    'airesearch/wangchanberta-base-att-spm-uncased',\n",
        "    'airesearch/wangchanberta-base-wiki-newmm',\n",
        "    'airesearch/wangchanberta-base-wiki-ssg',\n",
        "    'airesearch/wangchanberta-base-wiki-sefr',\n",
        "    'airesearch/wangchanberta-base-wiki-spm',\n",
        "]\n",
        "\n",
        "#@title Choose Pretrained Model\n",
        "model_name = \"airesearch/wangchanberta-base-wiki-newmm\" #@param [\"airesearch/wangchanberta-base-att-spm-uncased\", \"airesearch/wangchanberta-base-wiki-newmm\", \"airesearch/wangchanberta-base-wiki-syllable\", \"airesearch/wangchanberta-base-wiki-sefr\", \"airesearch/wangchanberta-base-wiki-spm\"]\n",
        "\n",
        "#create tokenizer\n",
        "tokenizer = Tokenizer(model_name).from_pretrained(\n",
        "                f'{model_name}',\n",
        "                revision='main',\n",
        "                model_max_length=416,)\n"
      ]
    },
    {
      "cell_type": "code",
      "execution_count": null,
      "metadata": {
        "id": "LFXdV8V5nGk2"
      },
      "outputs": [],
      "source": [
        "example = orchidl[\"train\"][1899]\n",
        "print('sentence :', example[\"sentence\"])\n",
        "tokenized_input = tokenizer([example[\"sentence\"]], is_split_into_words=True)\n",
        "tokens = tokenizer.convert_ids_to_tokens(tokenized_input[\"input_ids\"])\n",
        "print('tokens :',tokens)\n",
        "print('label tokens :', example[\"label_tokens\"])"
      ]
    },
    {
      "cell_type": "markdown",
      "metadata": {
        "id": "I7QMwcbK5Ibj"
      },
      "source": [
        "It's the same problem as above.\n",
        "\n",
        "`**Warning: Can we use same function as above ?**`\n",
        "\n",
        "`**Warning: Please beware of <unk>, an unknown word token.**`\n",
        "\n",
        "`**Warning: Please be careful of \" ำ \", the 'am' vowel. WangchanBERTa's internal preprocessing replaces all \" ำ \" to 'ํ' and 'า'**`"
      ]
    },
    {
      "cell_type": "code",
      "execution_count": null,
      "metadata": {
        "id": "SI0fUulE5MH3"
      },
      "outputs": [],
      "source": [
        "def majority_vote_pos(examples):\n",
        "\n",
        "    ####################################################################################################################\n",
        "    # TO DO: Since the tokens from the output of the pretrained tokenizer\n",
        "    # do not match the tokens in the label tokens of the dataset,\n",
        "    # the task is to create a function to determine the POS tags of the tokens generated by the pretrained tokenizer.\n",
        "    # This should be done by referencing the POS tags in the label tokens. If a token partially overlaps with others,\n",
        "    # the POS tag from the segment with the greater number of characters should be assigned.\n",
        "    #\n",
        "    # Example :\n",
        "    # \"การประชุม\" (9 chars) is formed from \"การ\" (3 chars) + \"ประชุม\" (6 chars).\n",
        "    # \"การ\" has a POS tag of 21,\n",
        "    # and \"ประชุม\" has a POS tag of 39.\n",
        "    # Therefore, the POS tag for \"การประชุม\" is 39,\n",
        "    # as \"การประชุม\" is derived more from the \"ประชุม\" part than from the \"การ\" part.\n",
        "    #\n",
        "    # 'ทางวิชาการ' (10 chars) is formed from 'ทาง' (3 chars) + 'วิชาการ' (7 chars)\n",
        "    # \"ทาง\" has a POS tag of 26,\n",
        "    # and \"วิชาการ\" has a POS tag of 2.\n",
        "    # Therefore, the POS tag for \"ทางวิชาการ\" is 2,\n",
        "    # as \"ทางวิชาการ\" is derived more from the \"ทาง\" part than from the \"วิชาการ\" part.\n",
        "\n",
        "    # FILL CODE HERE\n",
        "\n",
        "    ####################################################################################################################"
      ]
    },
    {
      "cell_type": "code",
      "execution_count": null,
      "metadata": {
        "id": "O5n4veYxo3rR"
      },
      "outputs": [],
      "source": [
        "tokenized_orchid = orchidl.map(majority_vote_pos)"
      ]
    },
    {
      "cell_type": "code",
      "execution_count": null,
      "metadata": {
        "id": "ashRh72szWiM"
      },
      "outputs": [],
      "source": [
        "# hard test case\n",
        "example = tokenized_orchid[\"train\"][1899]\n",
        "for i in example :\n",
        "    print(i, \":\", example[i])"
      ]
    },
    {
      "cell_type": "code",
      "execution_count": null,
      "metadata": {
        "id": "7AL0Vqbv7cfb"
      },
      "outputs": [],
      "source": [
        "model_names = [\n",
        "    'wangchanberta-base-att-spm-uncased',\n",
        "    'wangchanberta-base-wiki-newmm',\n",
        "    'wangchanberta-base-wiki-ssg',\n",
        "    'wangchanberta-base-wiki-sefr',\n",
        "    'wangchanberta-base-wiki-spm',\n",
        "]\n",
        "\n",
        "#@title Choose Pretrained Model\n",
        "model_name = \"wangchanberta-base-wiki-newmm\" #@param [\"wangchanberta-base-att-spm-uncased\", \"wangchanberta-base-wiki-newmm\", \"wangchanberta-base-wiki-syllable\", \"wangchanberta-base-wiki-sefr\", \"wangchanberta-base-wiki-spm\"]\n",
        "\n",
        "#create model\n",
        "model = AutoModelForTokenClassification.from_pretrained(\n",
        "    f\"airesearch/{model_name}\",\n",
        "    revision='main',\n",
        "    num_labels=47, id2label=id2label, label2id=label2id\n",
        ")\n"
      ]
    },
    {
      "cell_type": "code",
      "execution_count": null,
      "metadata": {
        "id": "pWTh0bMfP70g"
      },
      "outputs": [],
      "source": [
        "data_collator = DataCollatorForTokenClassification(tokenizer=tokenizer)"
      ]
    },
    {
      "cell_type": "markdown",
      "metadata": {
        "id": "QkhYDS4q7oxK"
      },
      "source": [
        "### #TODO 4"
      ]
    },
    {
      "cell_type": "markdown",
      "metadata": {
        "id": "XVdITM5E7tQ5"
      },
      "source": [
        "Fine-tuning other pretrained model with our orchid corpus."
      ]
    },
    {
      "cell_type": "code",
      "execution_count": null,
      "metadata": {
        "id": "hBHlUamr7syk"
      },
      "outputs": [],
      "source": [
        "training_args = TrainingArguments(\n",
        "    #########################\n",
        "    #\n",
        "    #\n",
        "    #\n",
        "    #\n",
        "    #\n",
        "    #\n",
        "    #\n",
        "    #\n",
        "    #########################\n",
        ")\n",
        "\n",
        "trainer = Trainer(\n",
        "    #########################\n",
        "    #\n",
        "    #\n",
        "    #\n",
        "    #\n",
        "    #\n",
        "    #\n",
        "    ########################\n",
        ")\n",
        "\n",
        "trainer.train()"
      ]
    },
    {
      "cell_type": "code",
      "execution_count": null,
      "metadata": {
        "id": "KIdxvgUGCVsm"
      },
      "outputs": [],
      "source": [
        "######## EVALUATE YOUR MODEL ########"
      ]
    },
    {
      "cell_type": "markdown",
      "metadata": {
        "id": "AMpXErqPBv2I"
      },
      "source": [
        "### #TODO 5\n",
        "\n",
        "Compare the results between both models. Are they comparable? (Think about the ground truths of both models).\n",
        "\n",
        "Propose a way to fairly evaluate the models."
      ]
    },
    {
      "cell_type": "markdown",
      "metadata": {
        "id": "UigMzZVNCDuS"
      },
      "source": [
        "<b>Write your answer here :</b>"
      ]
    },
    {
      "cell_type": "markdown",
      "metadata": {
        "id": "bYN0X9HWVuUe"
      },
      "source": [
        "A note on preprocessing data.\n",
        "\n",
        "``process_transformers`` in ``thaixtransformers.preprocess`` also provides a preprocess code that deals with many issues such as casing, text cleaning, and white space replacement with <_>. You can also use this to preprocess your text. Note that space replacement is done automatically without preprocessing in thaixtransformers.\n"
      ]
    }
  ],
  "metadata": {
    "colab": {
      "provenance": []
    },
    "kernelspec": {
      "display_name": "Python 3",
      "name": "python3"
    },
    "language_info": {
      "codemirror_mode": {
        "name": "ipython",
        "version": 3
      },
      "file_extension": ".py",
      "mimetype": "text/x-python",
      "name": "python",
      "nbconvert_exporter": "python",
      "pygments_lexer": "ipython3",
      "version": "3.10.13"
    },
    "widgets": {
      "application/vnd.jupyter.widget-state+json": {
        "9b88157cda634379ab5d654fa031a63a": {
          "model_module": "@jupyter-widgets/controls",
          "model_name": "VBoxModel",
          "model_module_version": "1.5.0",
          "state": {
            "_dom_classes": [],
            "_model_module": "@jupyter-widgets/controls",
            "_model_module_version": "1.5.0",
            "_model_name": "VBoxModel",
            "_view_count": null,
            "_view_module": "@jupyter-widgets/controls",
            "_view_module_version": "1.5.0",
            "_view_name": "VBoxView",
            "box_style": "",
            "children": [
              "IPY_MODEL_6b510c84c90a409881d780c8520d2030",
              "IPY_MODEL_4b505a04957c4bc6b207d653a54cb196",
              "IPY_MODEL_3a242166866144a5999af4b3fc4a78ad",
              "IPY_MODEL_f05631f5aa6d4beb8132c9f490044070",
              "IPY_MODEL_991d8a92df9842deb95bbb2b792600b9"
            ],
            "layout": "IPY_MODEL_4b7f7e5c2aeb4821adeb7f2ef0534079"
          }
        },
        "6b510c84c90a409881d780c8520d2030": {
          "model_module": "@jupyter-widgets/controls",
          "model_name": "HTMLModel",
          "model_module_version": "1.5.0",
          "state": {
            "_dom_classes": [],
            "_model_module": "@jupyter-widgets/controls",
            "_model_module_version": "1.5.0",
            "_model_name": "HTMLModel",
            "_view_count": null,
            "_view_module": "@jupyter-widgets/controls",
            "_view_module_version": "1.5.0",
            "_view_name": "HTMLView",
            "description": "",
            "description_tooltip": null,
            "layout": "IPY_MODEL_9814866a724a495da66aeb4e917c4050",
            "placeholder": "​",
            "style": "IPY_MODEL_787c9b5e680744c1803f64c31d66cbc6",
            "value": "<center> <img\nsrc=https://huggingface.co/front/assets/huggingface_logo-noborder.svg\nalt='Hugging Face'> <br> Copy a token from <a\nhref=\"https://huggingface.co/settings/tokens\" target=\"_blank\">your Hugging Face\ntokens page</a> and paste it below. <br> Immediately click login after copying\nyour token or it might be stored in plain text in this notebook file. </center>"
          }
        },
        "4b505a04957c4bc6b207d653a54cb196": {
          "model_module": "@jupyter-widgets/controls",
          "model_name": "PasswordModel",
          "model_module_version": "1.5.0",
          "state": {
            "_dom_classes": [],
            "_model_module": "@jupyter-widgets/controls",
            "_model_module_version": "1.5.0",
            "_model_name": "PasswordModel",
            "_view_count": null,
            "_view_module": "@jupyter-widgets/controls",
            "_view_module_version": "1.5.0",
            "_view_name": "PasswordView",
            "continuous_update": true,
            "description": "Token:",
            "description_tooltip": null,
            "disabled": false,
            "layout": "IPY_MODEL_97344f9f7885472eb66bdb2adf160401",
            "placeholder": "​",
            "style": "IPY_MODEL_9195f152f563441fa246a1a5e001fba6",
            "value": ""
          }
        },
        "3a242166866144a5999af4b3fc4a78ad": {
          "model_module": "@jupyter-widgets/controls",
          "model_name": "CheckboxModel",
          "model_module_version": "1.5.0",
          "state": {
            "_dom_classes": [],
            "_model_module": "@jupyter-widgets/controls",
            "_model_module_version": "1.5.0",
            "_model_name": "CheckboxModel",
            "_view_count": null,
            "_view_module": "@jupyter-widgets/controls",
            "_view_module_version": "1.5.0",
            "_view_name": "CheckboxView",
            "description": "Add token as git credential?",
            "description_tooltip": null,
            "disabled": false,
            "indent": true,
            "layout": "IPY_MODEL_a806bd3f5f2a4026842222c7780c1182",
            "style": "IPY_MODEL_391375ef49064bdf9457a03af50a4ff7",
            "value": true
          }
        },
        "f05631f5aa6d4beb8132c9f490044070": {
          "model_module": "@jupyter-widgets/controls",
          "model_name": "ButtonModel",
          "model_module_version": "1.5.0",
          "state": {
            "_dom_classes": [],
            "_model_module": "@jupyter-widgets/controls",
            "_model_module_version": "1.5.0",
            "_model_name": "ButtonModel",
            "_view_count": null,
            "_view_module": "@jupyter-widgets/controls",
            "_view_module_version": "1.5.0",
            "_view_name": "ButtonView",
            "button_style": "",
            "description": "Login",
            "disabled": false,
            "icon": "",
            "layout": "IPY_MODEL_820e76aced6b4d9ba726f81b57d53774",
            "style": "IPY_MODEL_f53da3aa0cb94bf296de3106dbd5836e",
            "tooltip": ""
          }
        },
        "991d8a92df9842deb95bbb2b792600b9": {
          "model_module": "@jupyter-widgets/controls",
          "model_name": "HTMLModel",
          "model_module_version": "1.5.0",
          "state": {
            "_dom_classes": [],
            "_model_module": "@jupyter-widgets/controls",
            "_model_module_version": "1.5.0",
            "_model_name": "HTMLModel",
            "_view_count": null,
            "_view_module": "@jupyter-widgets/controls",
            "_view_module_version": "1.5.0",
            "_view_name": "HTMLView",
            "description": "",
            "description_tooltip": null,
            "layout": "IPY_MODEL_56f78798a302478d86bf1e27091e80e5",
            "placeholder": "​",
            "style": "IPY_MODEL_07bccba060d34b5ebe5dccada0cb2b1d",
            "value": "\n<b>Pro Tip:</b> If you don't already have one, you can create a dedicated\n'notebooks' token with 'write' access, that you can then easily reuse for all\nnotebooks. </center>"
          }
        },
        "4b7f7e5c2aeb4821adeb7f2ef0534079": {
          "model_module": "@jupyter-widgets/base",
          "model_name": "LayoutModel",
          "model_module_version": "1.2.0",
          "state": {
            "_model_module": "@jupyter-widgets/base",
            "_model_module_version": "1.2.0",
            "_model_name": "LayoutModel",
            "_view_count": null,
            "_view_module": "@jupyter-widgets/base",
            "_view_module_version": "1.2.0",
            "_view_name": "LayoutView",
            "align_content": null,
            "align_items": "center",
            "align_self": null,
            "border": null,
            "bottom": null,
            "display": "flex",
            "flex": null,
            "flex_flow": "column",
            "grid_area": null,
            "grid_auto_columns": null,
            "grid_auto_flow": null,
            "grid_auto_rows": null,
            "grid_column": null,
            "grid_gap": null,
            "grid_row": null,
            "grid_template_areas": null,
            "grid_template_columns": null,
            "grid_template_rows": null,
            "height": null,
            "justify_content": null,
            "justify_items": null,
            "left": null,
            "margin": null,
            "max_height": null,
            "max_width": null,
            "min_height": null,
            "min_width": null,
            "object_fit": null,
            "object_position": null,
            "order": null,
            "overflow": null,
            "overflow_x": null,
            "overflow_y": null,
            "padding": null,
            "right": null,
            "top": null,
            "visibility": null,
            "width": "50%"
          }
        },
        "9814866a724a495da66aeb4e917c4050": {
          "model_module": "@jupyter-widgets/base",
          "model_name": "LayoutModel",
          "model_module_version": "1.2.0",
          "state": {
            "_model_module": "@jupyter-widgets/base",
            "_model_module_version": "1.2.0",
            "_model_name": "LayoutModel",
            "_view_count": null,
            "_view_module": "@jupyter-widgets/base",
            "_view_module_version": "1.2.0",
            "_view_name": "LayoutView",
            "align_content": null,
            "align_items": null,
            "align_self": null,
            "border": null,
            "bottom": null,
            "display": null,
            "flex": null,
            "flex_flow": null,
            "grid_area": null,
            "grid_auto_columns": null,
            "grid_auto_flow": null,
            "grid_auto_rows": null,
            "grid_column": null,
            "grid_gap": null,
            "grid_row": null,
            "grid_template_areas": null,
            "grid_template_columns": null,
            "grid_template_rows": null,
            "height": null,
            "justify_content": null,
            "justify_items": null,
            "left": null,
            "margin": null,
            "max_height": null,
            "max_width": null,
            "min_height": null,
            "min_width": null,
            "object_fit": null,
            "object_position": null,
            "order": null,
            "overflow": null,
            "overflow_x": null,
            "overflow_y": null,
            "padding": null,
            "right": null,
            "top": null,
            "visibility": null,
            "width": null
          }
        },
        "787c9b5e680744c1803f64c31d66cbc6": {
          "model_module": "@jupyter-widgets/controls",
          "model_name": "DescriptionStyleModel",
          "model_module_version": "1.5.0",
          "state": {
            "_model_module": "@jupyter-widgets/controls",
            "_model_module_version": "1.5.0",
            "_model_name": "DescriptionStyleModel",
            "_view_count": null,
            "_view_module": "@jupyter-widgets/base",
            "_view_module_version": "1.2.0",
            "_view_name": "StyleView",
            "description_width": ""
          }
        },
        "97344f9f7885472eb66bdb2adf160401": {
          "model_module": "@jupyter-widgets/base",
          "model_name": "LayoutModel",
          "model_module_version": "1.2.0",
          "state": {
            "_model_module": "@jupyter-widgets/base",
            "_model_module_version": "1.2.0",
            "_model_name": "LayoutModel",
            "_view_count": null,
            "_view_module": "@jupyter-widgets/base",
            "_view_module_version": "1.2.0",
            "_view_name": "LayoutView",
            "align_content": null,
            "align_items": null,
            "align_self": null,
            "border": null,
            "bottom": null,
            "display": null,
            "flex": null,
            "flex_flow": null,
            "grid_area": null,
            "grid_auto_columns": null,
            "grid_auto_flow": null,
            "grid_auto_rows": null,
            "grid_column": null,
            "grid_gap": null,
            "grid_row": null,
            "grid_template_areas": null,
            "grid_template_columns": null,
            "grid_template_rows": null,
            "height": null,
            "justify_content": null,
            "justify_items": null,
            "left": null,
            "margin": null,
            "max_height": null,
            "max_width": null,
            "min_height": null,
            "min_width": null,
            "object_fit": null,
            "object_position": null,
            "order": null,
            "overflow": null,
            "overflow_x": null,
            "overflow_y": null,
            "padding": null,
            "right": null,
            "top": null,
            "visibility": null,
            "width": null
          }
        },
        "9195f152f563441fa246a1a5e001fba6": {
          "model_module": "@jupyter-widgets/controls",
          "model_name": "DescriptionStyleModel",
          "model_module_version": "1.5.0",
          "state": {
            "_model_module": "@jupyter-widgets/controls",
            "_model_module_version": "1.5.0",
            "_model_name": "DescriptionStyleModel",
            "_view_count": null,
            "_view_module": "@jupyter-widgets/base",
            "_view_module_version": "1.2.0",
            "_view_name": "StyleView",
            "description_width": ""
          }
        },
        "a806bd3f5f2a4026842222c7780c1182": {
          "model_module": "@jupyter-widgets/base",
          "model_name": "LayoutModel",
          "model_module_version": "1.2.0",
          "state": {
            "_model_module": "@jupyter-widgets/base",
            "_model_module_version": "1.2.0",
            "_model_name": "LayoutModel",
            "_view_count": null,
            "_view_module": "@jupyter-widgets/base",
            "_view_module_version": "1.2.0",
            "_view_name": "LayoutView",
            "align_content": null,
            "align_items": null,
            "align_self": null,
            "border": null,
            "bottom": null,
            "display": null,
            "flex": null,
            "flex_flow": null,
            "grid_area": null,
            "grid_auto_columns": null,
            "grid_auto_flow": null,
            "grid_auto_rows": null,
            "grid_column": null,
            "grid_gap": null,
            "grid_row": null,
            "grid_template_areas": null,
            "grid_template_columns": null,
            "grid_template_rows": null,
            "height": null,
            "justify_content": null,
            "justify_items": null,
            "left": null,
            "margin": null,
            "max_height": null,
            "max_width": null,
            "min_height": null,
            "min_width": null,
            "object_fit": null,
            "object_position": null,
            "order": null,
            "overflow": null,
            "overflow_x": null,
            "overflow_y": null,
            "padding": null,
            "right": null,
            "top": null,
            "visibility": null,
            "width": null
          }
        },
        "391375ef49064bdf9457a03af50a4ff7": {
          "model_module": "@jupyter-widgets/controls",
          "model_name": "DescriptionStyleModel",
          "model_module_version": "1.5.0",
          "state": {
            "_model_module": "@jupyter-widgets/controls",
            "_model_module_version": "1.5.0",
            "_model_name": "DescriptionStyleModel",
            "_view_count": null,
            "_view_module": "@jupyter-widgets/base",
            "_view_module_version": "1.2.0",
            "_view_name": "StyleView",
            "description_width": ""
          }
        },
        "820e76aced6b4d9ba726f81b57d53774": {
          "model_module": "@jupyter-widgets/base",
          "model_name": "LayoutModel",
          "model_module_version": "1.2.0",
          "state": {
            "_model_module": "@jupyter-widgets/base",
            "_model_module_version": "1.2.0",
            "_model_name": "LayoutModel",
            "_view_count": null,
            "_view_module": "@jupyter-widgets/base",
            "_view_module_version": "1.2.0",
            "_view_name": "LayoutView",
            "align_content": null,
            "align_items": null,
            "align_self": null,
            "border": null,
            "bottom": null,
            "display": null,
            "flex": null,
            "flex_flow": null,
            "grid_area": null,
            "grid_auto_columns": null,
            "grid_auto_flow": null,
            "grid_auto_rows": null,
            "grid_column": null,
            "grid_gap": null,
            "grid_row": null,
            "grid_template_areas": null,
            "grid_template_columns": null,
            "grid_template_rows": null,
            "height": null,
            "justify_content": null,
            "justify_items": null,
            "left": null,
            "margin": null,
            "max_height": null,
            "max_width": null,
            "min_height": null,
            "min_width": null,
            "object_fit": null,
            "object_position": null,
            "order": null,
            "overflow": null,
            "overflow_x": null,
            "overflow_y": null,
            "padding": null,
            "right": null,
            "top": null,
            "visibility": null,
            "width": null
          }
        },
        "f53da3aa0cb94bf296de3106dbd5836e": {
          "model_module": "@jupyter-widgets/controls",
          "model_name": "ButtonStyleModel",
          "model_module_version": "1.5.0",
          "state": {
            "_model_module": "@jupyter-widgets/controls",
            "_model_module_version": "1.5.0",
            "_model_name": "ButtonStyleModel",
            "_view_count": null,
            "_view_module": "@jupyter-widgets/base",
            "_view_module_version": "1.2.0",
            "_view_name": "StyleView",
            "button_color": null,
            "font_weight": ""
          }
        },
        "56f78798a302478d86bf1e27091e80e5": {
          "model_module": "@jupyter-widgets/base",
          "model_name": "LayoutModel",
          "model_module_version": "1.2.0",
          "state": {
            "_model_module": "@jupyter-widgets/base",
            "_model_module_version": "1.2.0",
            "_model_name": "LayoutModel",
            "_view_count": null,
            "_view_module": "@jupyter-widgets/base",
            "_view_module_version": "1.2.0",
            "_view_name": "LayoutView",
            "align_content": null,
            "align_items": null,
            "align_self": null,
            "border": null,
            "bottom": null,
            "display": null,
            "flex": null,
            "flex_flow": null,
            "grid_area": null,
            "grid_auto_columns": null,
            "grid_auto_flow": null,
            "grid_auto_rows": null,
            "grid_column": null,
            "grid_gap": null,
            "grid_row": null,
            "grid_template_areas": null,
            "grid_template_columns": null,
            "grid_template_rows": null,
            "height": null,
            "justify_content": null,
            "justify_items": null,
            "left": null,
            "margin": null,
            "max_height": null,
            "max_width": null,
            "min_height": null,
            "min_width": null,
            "object_fit": null,
            "object_position": null,
            "order": null,
            "overflow": null,
            "overflow_x": null,
            "overflow_y": null,
            "padding": null,
            "right": null,
            "top": null,
            "visibility": null,
            "width": null
          }
        },
        "07bccba060d34b5ebe5dccada0cb2b1d": {
          "model_module": "@jupyter-widgets/controls",
          "model_name": "DescriptionStyleModel",
          "model_module_version": "1.5.0",
          "state": {
            "_model_module": "@jupyter-widgets/controls",
            "_model_module_version": "1.5.0",
            "_model_name": "DescriptionStyleModel",
            "_view_count": null,
            "_view_module": "@jupyter-widgets/base",
            "_view_module_version": "1.2.0",
            "_view_name": "StyleView",
            "description_width": ""
          }
        },
        "8079ca0d808d4a6fbc6e87276c4ca4f5": {
          "model_module": "@jupyter-widgets/controls",
          "model_name": "HBoxModel",
          "model_module_version": "1.5.0",
          "state": {
            "_dom_classes": [],
            "_model_module": "@jupyter-widgets/controls",
            "_model_module_version": "1.5.0",
            "_model_name": "HBoxModel",
            "_view_count": null,
            "_view_module": "@jupyter-widgets/controls",
            "_view_module_version": "1.5.0",
            "_view_name": "HBoxView",
            "box_style": "",
            "children": [
              "IPY_MODEL_412aa020e1ce466883e2d4bcfeaf1acd",
              "IPY_MODEL_a511c585c51a4ccdbc448adffd299a53",
              "IPY_MODEL_5a3e820dc1d44bcf9490a972357ad3fc"
            ],
            "layout": "IPY_MODEL_ce5671eec817457b977cad8318176c34"
          }
        },
        "412aa020e1ce466883e2d4bcfeaf1acd": {
          "model_module": "@jupyter-widgets/controls",
          "model_name": "HTMLModel",
          "model_module_version": "1.5.0",
          "state": {
            "_dom_classes": [],
            "_model_module": "@jupyter-widgets/controls",
            "_model_module_version": "1.5.0",
            "_model_name": "HTMLModel",
            "_view_count": null,
            "_view_module": "@jupyter-widgets/controls",
            "_view_module_version": "1.5.0",
            "_view_name": "HTMLView",
            "description": "",
            "description_tooltip": null,
            "layout": "IPY_MODEL_fd7b08769eb44a10a01bf19448af595e",
            "placeholder": "​",
            "style": "IPY_MODEL_6f1f69f8fdc84408829471c4972dace1",
            "value": "Map: 100%"
          }
        },
        "a511c585c51a4ccdbc448adffd299a53": {
          "model_module": "@jupyter-widgets/controls",
          "model_name": "FloatProgressModel",
          "model_module_version": "1.5.0",
          "state": {
            "_dom_classes": [],
            "_model_module": "@jupyter-widgets/controls",
            "_model_module_version": "1.5.0",
            "_model_name": "FloatProgressModel",
            "_view_count": null,
            "_view_module": "@jupyter-widgets/controls",
            "_view_module_version": "1.5.0",
            "_view_name": "ProgressView",
            "bar_style": "success",
            "description": "",
            "description_tooltip": null,
            "layout": "IPY_MODEL_62d983dc5a024026a08932d6000434f1",
            "max": 18500,
            "min": 0,
            "orientation": "horizontal",
            "style": "IPY_MODEL_f92f307d84a24603b0192422cea25c5d",
            "value": 18500
          }
        },
        "5a3e820dc1d44bcf9490a972357ad3fc": {
          "model_module": "@jupyter-widgets/controls",
          "model_name": "HTMLModel",
          "model_module_version": "1.5.0",
          "state": {
            "_dom_classes": [],
            "_model_module": "@jupyter-widgets/controls",
            "_model_module_version": "1.5.0",
            "_model_name": "HTMLModel",
            "_view_count": null,
            "_view_module": "@jupyter-widgets/controls",
            "_view_module_version": "1.5.0",
            "_view_name": "HTMLView",
            "description": "",
            "description_tooltip": null,
            "layout": "IPY_MODEL_7f382ace059045a3b1a92dd83046f4b3",
            "placeholder": "​",
            "style": "IPY_MODEL_10b6db95983544c6b41f902afbcf4194",
            "value": " 18500/18500 [00:12&lt;00:00, 1722.47 examples/s]"
          }
        },
        "ce5671eec817457b977cad8318176c34": {
          "model_module": "@jupyter-widgets/base",
          "model_name": "LayoutModel",
          "model_module_version": "1.2.0",
          "state": {
            "_model_module": "@jupyter-widgets/base",
            "_model_module_version": "1.2.0",
            "_model_name": "LayoutModel",
            "_view_count": null,
            "_view_module": "@jupyter-widgets/base",
            "_view_module_version": "1.2.0",
            "_view_name": "LayoutView",
            "align_content": null,
            "align_items": null,
            "align_self": null,
            "border": null,
            "bottom": null,
            "display": null,
            "flex": null,
            "flex_flow": null,
            "grid_area": null,
            "grid_auto_columns": null,
            "grid_auto_flow": null,
            "grid_auto_rows": null,
            "grid_column": null,
            "grid_gap": null,
            "grid_row": null,
            "grid_template_areas": null,
            "grid_template_columns": null,
            "grid_template_rows": null,
            "height": null,
            "justify_content": null,
            "justify_items": null,
            "left": null,
            "margin": null,
            "max_height": null,
            "max_width": null,
            "min_height": null,
            "min_width": null,
            "object_fit": null,
            "object_position": null,
            "order": null,
            "overflow": null,
            "overflow_x": null,
            "overflow_y": null,
            "padding": null,
            "right": null,
            "top": null,
            "visibility": null,
            "width": null
          }
        },
        "fd7b08769eb44a10a01bf19448af595e": {
          "model_module": "@jupyter-widgets/base",
          "model_name": "LayoutModel",
          "model_module_version": "1.2.0",
          "state": {
            "_model_module": "@jupyter-widgets/base",
            "_model_module_version": "1.2.0",
            "_model_name": "LayoutModel",
            "_view_count": null,
            "_view_module": "@jupyter-widgets/base",
            "_view_module_version": "1.2.0",
            "_view_name": "LayoutView",
            "align_content": null,
            "align_items": null,
            "align_self": null,
            "border": null,
            "bottom": null,
            "display": null,
            "flex": null,
            "flex_flow": null,
            "grid_area": null,
            "grid_auto_columns": null,
            "grid_auto_flow": null,
            "grid_auto_rows": null,
            "grid_column": null,
            "grid_gap": null,
            "grid_row": null,
            "grid_template_areas": null,
            "grid_template_columns": null,
            "grid_template_rows": null,
            "height": null,
            "justify_content": null,
            "justify_items": null,
            "left": null,
            "margin": null,
            "max_height": null,
            "max_width": null,
            "min_height": null,
            "min_width": null,
            "object_fit": null,
            "object_position": null,
            "order": null,
            "overflow": null,
            "overflow_x": null,
            "overflow_y": null,
            "padding": null,
            "right": null,
            "top": null,
            "visibility": null,
            "width": null
          }
        },
        "6f1f69f8fdc84408829471c4972dace1": {
          "model_module": "@jupyter-widgets/controls",
          "model_name": "DescriptionStyleModel",
          "model_module_version": "1.5.0",
          "state": {
            "_model_module": "@jupyter-widgets/controls",
            "_model_module_version": "1.5.0",
            "_model_name": "DescriptionStyleModel",
            "_view_count": null,
            "_view_module": "@jupyter-widgets/base",
            "_view_module_version": "1.2.0",
            "_view_name": "StyleView",
            "description_width": ""
          }
        },
        "62d983dc5a024026a08932d6000434f1": {
          "model_module": "@jupyter-widgets/base",
          "model_name": "LayoutModel",
          "model_module_version": "1.2.0",
          "state": {
            "_model_module": "@jupyter-widgets/base",
            "_model_module_version": "1.2.0",
            "_model_name": "LayoutModel",
            "_view_count": null,
            "_view_module": "@jupyter-widgets/base",
            "_view_module_version": "1.2.0",
            "_view_name": "LayoutView",
            "align_content": null,
            "align_items": null,
            "align_self": null,
            "border": null,
            "bottom": null,
            "display": null,
            "flex": null,
            "flex_flow": null,
            "grid_area": null,
            "grid_auto_columns": null,
            "grid_auto_flow": null,
            "grid_auto_rows": null,
            "grid_column": null,
            "grid_gap": null,
            "grid_row": null,
            "grid_template_areas": null,
            "grid_template_columns": null,
            "grid_template_rows": null,
            "height": null,
            "justify_content": null,
            "justify_items": null,
            "left": null,
            "margin": null,
            "max_height": null,
            "max_width": null,
            "min_height": null,
            "min_width": null,
            "object_fit": null,
            "object_position": null,
            "order": null,
            "overflow": null,
            "overflow_x": null,
            "overflow_y": null,
            "padding": null,
            "right": null,
            "top": null,
            "visibility": null,
            "width": null
          }
        },
        "f92f307d84a24603b0192422cea25c5d": {
          "model_module": "@jupyter-widgets/controls",
          "model_name": "ProgressStyleModel",
          "model_module_version": "1.5.0",
          "state": {
            "_model_module": "@jupyter-widgets/controls",
            "_model_module_version": "1.5.0",
            "_model_name": "ProgressStyleModel",
            "_view_count": null,
            "_view_module": "@jupyter-widgets/base",
            "_view_module_version": "1.2.0",
            "_view_name": "StyleView",
            "bar_color": null,
            "description_width": ""
          }
        },
        "7f382ace059045a3b1a92dd83046f4b3": {
          "model_module": "@jupyter-widgets/base",
          "model_name": "LayoutModel",
          "model_module_version": "1.2.0",
          "state": {
            "_model_module": "@jupyter-widgets/base",
            "_model_module_version": "1.2.0",
            "_model_name": "LayoutModel",
            "_view_count": null,
            "_view_module": "@jupyter-widgets/base",
            "_view_module_version": "1.2.0",
            "_view_name": "LayoutView",
            "align_content": null,
            "align_items": null,
            "align_self": null,
            "border": null,
            "bottom": null,
            "display": null,
            "flex": null,
            "flex_flow": null,
            "grid_area": null,
            "grid_auto_columns": null,
            "grid_auto_flow": null,
            "grid_auto_rows": null,
            "grid_column": null,
            "grid_gap": null,
            "grid_row": null,
            "grid_template_areas": null,
            "grid_template_columns": null,
            "grid_template_rows": null,
            "height": null,
            "justify_content": null,
            "justify_items": null,
            "left": null,
            "margin": null,
            "max_height": null,
            "max_width": null,
            "min_height": null,
            "min_width": null,
            "object_fit": null,
            "object_position": null,
            "order": null,
            "overflow": null,
            "overflow_x": null,
            "overflow_y": null,
            "padding": null,
            "right": null,
            "top": null,
            "visibility": null,
            "width": null
          }
        },
        "10b6db95983544c6b41f902afbcf4194": {
          "model_module": "@jupyter-widgets/controls",
          "model_name": "DescriptionStyleModel",
          "model_module_version": "1.5.0",
          "state": {
            "_model_module": "@jupyter-widgets/controls",
            "_model_module_version": "1.5.0",
            "_model_name": "DescriptionStyleModel",
            "_view_count": null,
            "_view_module": "@jupyter-widgets/base",
            "_view_module_version": "1.2.0",
            "_view_name": "StyleView",
            "description_width": ""
          }
        },
        "65dcdacf82f341299bc5b801290ef47b": {
          "model_module": "@jupyter-widgets/controls",
          "model_name": "HBoxModel",
          "model_module_version": "1.5.0",
          "state": {
            "_dom_classes": [],
            "_model_module": "@jupyter-widgets/controls",
            "_model_module_version": "1.5.0",
            "_model_name": "HBoxModel",
            "_view_count": null,
            "_view_module": "@jupyter-widgets/controls",
            "_view_module_version": "1.5.0",
            "_view_name": "HBoxView",
            "box_style": "",
            "children": [
              "IPY_MODEL_a085ff845f724448a5acf3b933192b29",
              "IPY_MODEL_0958bb3deb4847dd9e2904b79188e386",
              "IPY_MODEL_d0f4d350df8c4691b383855f335489ce"
            ],
            "layout": "IPY_MODEL_50c2e363cece42f5af117fea80d96b4f"
          }
        },
        "a085ff845f724448a5acf3b933192b29": {
          "model_module": "@jupyter-widgets/controls",
          "model_name": "HTMLModel",
          "model_module_version": "1.5.0",
          "state": {
            "_dom_classes": [],
            "_model_module": "@jupyter-widgets/controls",
            "_model_module_version": "1.5.0",
            "_model_name": "HTMLModel",
            "_view_count": null,
            "_view_module": "@jupyter-widgets/controls",
            "_view_module_version": "1.5.0",
            "_view_name": "HTMLView",
            "description": "",
            "description_tooltip": null,
            "layout": "IPY_MODEL_752349c633ad465e9b4dd47ab3606b91",
            "placeholder": "​",
            "style": "IPY_MODEL_980efc31422a45b3a847240a53bb98cf",
            "value": "Map: 100%"
          }
        },
        "0958bb3deb4847dd9e2904b79188e386": {
          "model_module": "@jupyter-widgets/controls",
          "model_name": "FloatProgressModel",
          "model_module_version": "1.5.0",
          "state": {
            "_dom_classes": [],
            "_model_module": "@jupyter-widgets/controls",
            "_model_module_version": "1.5.0",
            "_model_name": "FloatProgressModel",
            "_view_count": null,
            "_view_module": "@jupyter-widgets/controls",
            "_view_module_version": "1.5.0",
            "_view_name": "ProgressView",
            "bar_style": "success",
            "description": "",
            "description_tooltip": null,
            "layout": "IPY_MODEL_ea50751daf574c4dbe71e8f9a611b6cd",
            "max": 4625,
            "min": 0,
            "orientation": "horizontal",
            "style": "IPY_MODEL_7d05502927d7425887e8b238dd14dab2",
            "value": 4625
          }
        },
        "d0f4d350df8c4691b383855f335489ce": {
          "model_module": "@jupyter-widgets/controls",
          "model_name": "HTMLModel",
          "model_module_version": "1.5.0",
          "state": {
            "_dom_classes": [],
            "_model_module": "@jupyter-widgets/controls",
            "_model_module_version": "1.5.0",
            "_model_name": "HTMLModel",
            "_view_count": null,
            "_view_module": "@jupyter-widgets/controls",
            "_view_module_version": "1.5.0",
            "_view_name": "HTMLView",
            "description": "",
            "description_tooltip": null,
            "layout": "IPY_MODEL_c57de201251f45b3844b5f2df8dd71ab",
            "placeholder": "​",
            "style": "IPY_MODEL_9f2f15fe318644668abdab3d8266b26d",
            "value": " 4625/4625 [00:03&lt;00:00, 1064.12 examples/s]"
          }
        },
        "50c2e363cece42f5af117fea80d96b4f": {
          "model_module": "@jupyter-widgets/base",
          "model_name": "LayoutModel",
          "model_module_version": "1.2.0",
          "state": {
            "_model_module": "@jupyter-widgets/base",
            "_model_module_version": "1.2.0",
            "_model_name": "LayoutModel",
            "_view_count": null,
            "_view_module": "@jupyter-widgets/base",
            "_view_module_version": "1.2.0",
            "_view_name": "LayoutView",
            "align_content": null,
            "align_items": null,
            "align_self": null,
            "border": null,
            "bottom": null,
            "display": null,
            "flex": null,
            "flex_flow": null,
            "grid_area": null,
            "grid_auto_columns": null,
            "grid_auto_flow": null,
            "grid_auto_rows": null,
            "grid_column": null,
            "grid_gap": null,
            "grid_row": null,
            "grid_template_areas": null,
            "grid_template_columns": null,
            "grid_template_rows": null,
            "height": null,
            "justify_content": null,
            "justify_items": null,
            "left": null,
            "margin": null,
            "max_height": null,
            "max_width": null,
            "min_height": null,
            "min_width": null,
            "object_fit": null,
            "object_position": null,
            "order": null,
            "overflow": null,
            "overflow_x": null,
            "overflow_y": null,
            "padding": null,
            "right": null,
            "top": null,
            "visibility": null,
            "width": null
          }
        },
        "752349c633ad465e9b4dd47ab3606b91": {
          "model_module": "@jupyter-widgets/base",
          "model_name": "LayoutModel",
          "model_module_version": "1.2.0",
          "state": {
            "_model_module": "@jupyter-widgets/base",
            "_model_module_version": "1.2.0",
            "_model_name": "LayoutModel",
            "_view_count": null,
            "_view_module": "@jupyter-widgets/base",
            "_view_module_version": "1.2.0",
            "_view_name": "LayoutView",
            "align_content": null,
            "align_items": null,
            "align_self": null,
            "border": null,
            "bottom": null,
            "display": null,
            "flex": null,
            "flex_flow": null,
            "grid_area": null,
            "grid_auto_columns": null,
            "grid_auto_flow": null,
            "grid_auto_rows": null,
            "grid_column": null,
            "grid_gap": null,
            "grid_row": null,
            "grid_template_areas": null,
            "grid_template_columns": null,
            "grid_template_rows": null,
            "height": null,
            "justify_content": null,
            "justify_items": null,
            "left": null,
            "margin": null,
            "max_height": null,
            "max_width": null,
            "min_height": null,
            "min_width": null,
            "object_fit": null,
            "object_position": null,
            "order": null,
            "overflow": null,
            "overflow_x": null,
            "overflow_y": null,
            "padding": null,
            "right": null,
            "top": null,
            "visibility": null,
            "width": null
          }
        },
        "980efc31422a45b3a847240a53bb98cf": {
          "model_module": "@jupyter-widgets/controls",
          "model_name": "DescriptionStyleModel",
          "model_module_version": "1.5.0",
          "state": {
            "_model_module": "@jupyter-widgets/controls",
            "_model_module_version": "1.5.0",
            "_model_name": "DescriptionStyleModel",
            "_view_count": null,
            "_view_module": "@jupyter-widgets/base",
            "_view_module_version": "1.2.0",
            "_view_name": "StyleView",
            "description_width": ""
          }
        },
        "ea50751daf574c4dbe71e8f9a611b6cd": {
          "model_module": "@jupyter-widgets/base",
          "model_name": "LayoutModel",
          "model_module_version": "1.2.0",
          "state": {
            "_model_module": "@jupyter-widgets/base",
            "_model_module_version": "1.2.0",
            "_model_name": "LayoutModel",
            "_view_count": null,
            "_view_module": "@jupyter-widgets/base",
            "_view_module_version": "1.2.0",
            "_view_name": "LayoutView",
            "align_content": null,
            "align_items": null,
            "align_self": null,
            "border": null,
            "bottom": null,
            "display": null,
            "flex": null,
            "flex_flow": null,
            "grid_area": null,
            "grid_auto_columns": null,
            "grid_auto_flow": null,
            "grid_auto_rows": null,
            "grid_column": null,
            "grid_gap": null,
            "grid_row": null,
            "grid_template_areas": null,
            "grid_template_columns": null,
            "grid_template_rows": null,
            "height": null,
            "justify_content": null,
            "justify_items": null,
            "left": null,
            "margin": null,
            "max_height": null,
            "max_width": null,
            "min_height": null,
            "min_width": null,
            "object_fit": null,
            "object_position": null,
            "order": null,
            "overflow": null,
            "overflow_x": null,
            "overflow_y": null,
            "padding": null,
            "right": null,
            "top": null,
            "visibility": null,
            "width": null
          }
        },
        "7d05502927d7425887e8b238dd14dab2": {
          "model_module": "@jupyter-widgets/controls",
          "model_name": "ProgressStyleModel",
          "model_module_version": "1.5.0",
          "state": {
            "_model_module": "@jupyter-widgets/controls",
            "_model_module_version": "1.5.0",
            "_model_name": "ProgressStyleModel",
            "_view_count": null,
            "_view_module": "@jupyter-widgets/base",
            "_view_module_version": "1.2.0",
            "_view_name": "StyleView",
            "bar_color": null,
            "description_width": ""
          }
        },
        "c57de201251f45b3844b5f2df8dd71ab": {
          "model_module": "@jupyter-widgets/base",
          "model_name": "LayoutModel",
          "model_module_version": "1.2.0",
          "state": {
            "_model_module": "@jupyter-widgets/base",
            "_model_module_version": "1.2.0",
            "_model_name": "LayoutModel",
            "_view_count": null,
            "_view_module": "@jupyter-widgets/base",
            "_view_module_version": "1.2.0",
            "_view_name": "LayoutView",
            "align_content": null,
            "align_items": null,
            "align_self": null,
            "border": null,
            "bottom": null,
            "display": null,
            "flex": null,
            "flex_flow": null,
            "grid_area": null,
            "grid_auto_columns": null,
            "grid_auto_flow": null,
            "grid_auto_rows": null,
            "grid_column": null,
            "grid_gap": null,
            "grid_row": null,
            "grid_template_areas": null,
            "grid_template_columns": null,
            "grid_template_rows": null,
            "height": null,
            "justify_content": null,
            "justify_items": null,
            "left": null,
            "margin": null,
            "max_height": null,
            "max_width": null,
            "min_height": null,
            "min_width": null,
            "object_fit": null,
            "object_position": null,
            "order": null,
            "overflow": null,
            "overflow_x": null,
            "overflow_y": null,
            "padding": null,
            "right": null,
            "top": null,
            "visibility": null,
            "width": null
          }
        },
        "9f2f15fe318644668abdab3d8266b26d": {
          "model_module": "@jupyter-widgets/controls",
          "model_name": "DescriptionStyleModel",
          "model_module_version": "1.5.0",
          "state": {
            "_model_module": "@jupyter-widgets/controls",
            "_model_module_version": "1.5.0",
            "_model_name": "DescriptionStyleModel",
            "_view_count": null,
            "_view_module": "@jupyter-widgets/base",
            "_view_module_version": "1.2.0",
            "_view_name": "StyleView",
            "description_width": ""
          }
        },
        "d76892214492464eb8277c7cca592a70": {
          "model_module": "@jupyter-widgets/controls",
          "model_name": "HBoxModel",
          "model_module_version": "1.5.0",
          "state": {
            "_dom_classes": [],
            "_model_module": "@jupyter-widgets/controls",
            "_model_module_version": "1.5.0",
            "_model_name": "HBoxModel",
            "_view_count": null,
            "_view_module": "@jupyter-widgets/controls",
            "_view_module_version": "1.5.0",
            "_view_name": "HBoxView",
            "box_style": "",
            "children": [
              "IPY_MODEL_f5d97967794a4bfa9485c631756a9db7",
              "IPY_MODEL_c518f079d0f04bc6a8eb1a4150651bf2",
              "IPY_MODEL_60148fc3dd734d2aa92e81556fb6af93"
            ],
            "layout": "IPY_MODEL_22b96afd97e140e4ba6db58487219b29"
          }
        },
        "f5d97967794a4bfa9485c631756a9db7": {
          "model_module": "@jupyter-widgets/controls",
          "model_name": "HTMLModel",
          "model_module_version": "1.5.0",
          "state": {
            "_dom_classes": [],
            "_model_module": "@jupyter-widgets/controls",
            "_model_module_version": "1.5.0",
            "_model_name": "HTMLModel",
            "_view_count": null,
            "_view_module": "@jupyter-widgets/controls",
            "_view_module_version": "1.5.0",
            "_view_name": "HTMLView",
            "description": "",
            "description_tooltip": null,
            "layout": "IPY_MODEL_38801388d9ec4bc6871459c0f6f087af",
            "placeholder": "​",
            "style": "IPY_MODEL_81a09db16bff443db7f6561c83fc4a55",
            "value": "Downloading builder script: 100%"
          }
        },
        "c518f079d0f04bc6a8eb1a4150651bf2": {
          "model_module": "@jupyter-widgets/controls",
          "model_name": "FloatProgressModel",
          "model_module_version": "1.5.0",
          "state": {
            "_dom_classes": [],
            "_model_module": "@jupyter-widgets/controls",
            "_model_module_version": "1.5.0",
            "_model_name": "FloatProgressModel",
            "_view_count": null,
            "_view_module": "@jupyter-widgets/controls",
            "_view_module_version": "1.5.0",
            "_view_name": "ProgressView",
            "bar_style": "success",
            "description": "",
            "description_tooltip": null,
            "layout": "IPY_MODEL_6799d52ae6d44dedb77c36dfe1e68315",
            "max": 6338,
            "min": 0,
            "orientation": "horizontal",
            "style": "IPY_MODEL_3bb5070050cf4c058df2ce21442effa0",
            "value": 6338
          }
        },
        "60148fc3dd734d2aa92e81556fb6af93": {
          "model_module": "@jupyter-widgets/controls",
          "model_name": "HTMLModel",
          "model_module_version": "1.5.0",
          "state": {
            "_dom_classes": [],
            "_model_module": "@jupyter-widgets/controls",
            "_model_module_version": "1.5.0",
            "_model_name": "HTMLModel",
            "_view_count": null,
            "_view_module": "@jupyter-widgets/controls",
            "_view_module_version": "1.5.0",
            "_view_name": "HTMLView",
            "description": "",
            "description_tooltip": null,
            "layout": "IPY_MODEL_751eb2d82f9a4f6aa068cc8ec09ce0cd",
            "placeholder": "​",
            "style": "IPY_MODEL_152f9b5e02ed482cad221d8f641d2bdf",
            "value": " 6.34k/6.34k [00:00&lt;00:00, 201kB/s]"
          }
        },
        "22b96afd97e140e4ba6db58487219b29": {
          "model_module": "@jupyter-widgets/base",
          "model_name": "LayoutModel",
          "model_module_version": "1.2.0",
          "state": {
            "_model_module": "@jupyter-widgets/base",
            "_model_module_version": "1.2.0",
            "_model_name": "LayoutModel",
            "_view_count": null,
            "_view_module": "@jupyter-widgets/base",
            "_view_module_version": "1.2.0",
            "_view_name": "LayoutView",
            "align_content": null,
            "align_items": null,
            "align_self": null,
            "border": null,
            "bottom": null,
            "display": null,
            "flex": null,
            "flex_flow": null,
            "grid_area": null,
            "grid_auto_columns": null,
            "grid_auto_flow": null,
            "grid_auto_rows": null,
            "grid_column": null,
            "grid_gap": null,
            "grid_row": null,
            "grid_template_areas": null,
            "grid_template_columns": null,
            "grid_template_rows": null,
            "height": null,
            "justify_content": null,
            "justify_items": null,
            "left": null,
            "margin": null,
            "max_height": null,
            "max_width": null,
            "min_height": null,
            "min_width": null,
            "object_fit": null,
            "object_position": null,
            "order": null,
            "overflow": null,
            "overflow_x": null,
            "overflow_y": null,
            "padding": null,
            "right": null,
            "top": null,
            "visibility": null,
            "width": null
          }
        },
        "38801388d9ec4bc6871459c0f6f087af": {
          "model_module": "@jupyter-widgets/base",
          "model_name": "LayoutModel",
          "model_module_version": "1.2.0",
          "state": {
            "_model_module": "@jupyter-widgets/base",
            "_model_module_version": "1.2.0",
            "_model_name": "LayoutModel",
            "_view_count": null,
            "_view_module": "@jupyter-widgets/base",
            "_view_module_version": "1.2.0",
            "_view_name": "LayoutView",
            "align_content": null,
            "align_items": null,
            "align_self": null,
            "border": null,
            "bottom": null,
            "display": null,
            "flex": null,
            "flex_flow": null,
            "grid_area": null,
            "grid_auto_columns": null,
            "grid_auto_flow": null,
            "grid_auto_rows": null,
            "grid_column": null,
            "grid_gap": null,
            "grid_row": null,
            "grid_template_areas": null,
            "grid_template_columns": null,
            "grid_template_rows": null,
            "height": null,
            "justify_content": null,
            "justify_items": null,
            "left": null,
            "margin": null,
            "max_height": null,
            "max_width": null,
            "min_height": null,
            "min_width": null,
            "object_fit": null,
            "object_position": null,
            "order": null,
            "overflow": null,
            "overflow_x": null,
            "overflow_y": null,
            "padding": null,
            "right": null,
            "top": null,
            "visibility": null,
            "width": null
          }
        },
        "81a09db16bff443db7f6561c83fc4a55": {
          "model_module": "@jupyter-widgets/controls",
          "model_name": "DescriptionStyleModel",
          "model_module_version": "1.5.0",
          "state": {
            "_model_module": "@jupyter-widgets/controls",
            "_model_module_version": "1.5.0",
            "_model_name": "DescriptionStyleModel",
            "_view_count": null,
            "_view_module": "@jupyter-widgets/base",
            "_view_module_version": "1.2.0",
            "_view_name": "StyleView",
            "description_width": ""
          }
        },
        "6799d52ae6d44dedb77c36dfe1e68315": {
          "model_module": "@jupyter-widgets/base",
          "model_name": "LayoutModel",
          "model_module_version": "1.2.0",
          "state": {
            "_model_module": "@jupyter-widgets/base",
            "_model_module_version": "1.2.0",
            "_model_name": "LayoutModel",
            "_view_count": null,
            "_view_module": "@jupyter-widgets/base",
            "_view_module_version": "1.2.0",
            "_view_name": "LayoutView",
            "align_content": null,
            "align_items": null,
            "align_self": null,
            "border": null,
            "bottom": null,
            "display": null,
            "flex": null,
            "flex_flow": null,
            "grid_area": null,
            "grid_auto_columns": null,
            "grid_auto_flow": null,
            "grid_auto_rows": null,
            "grid_column": null,
            "grid_gap": null,
            "grid_row": null,
            "grid_template_areas": null,
            "grid_template_columns": null,
            "grid_template_rows": null,
            "height": null,
            "justify_content": null,
            "justify_items": null,
            "left": null,
            "margin": null,
            "max_height": null,
            "max_width": null,
            "min_height": null,
            "min_width": null,
            "object_fit": null,
            "object_position": null,
            "order": null,
            "overflow": null,
            "overflow_x": null,
            "overflow_y": null,
            "padding": null,
            "right": null,
            "top": null,
            "visibility": null,
            "width": null
          }
        },
        "3bb5070050cf4c058df2ce21442effa0": {
          "model_module": "@jupyter-widgets/controls",
          "model_name": "ProgressStyleModel",
          "model_module_version": "1.5.0",
          "state": {
            "_model_module": "@jupyter-widgets/controls",
            "_model_module_version": "1.5.0",
            "_model_name": "ProgressStyleModel",
            "_view_count": null,
            "_view_module": "@jupyter-widgets/base",
            "_view_module_version": "1.2.0",
            "_view_name": "StyleView",
            "bar_color": null,
            "description_width": ""
          }
        },
        "751eb2d82f9a4f6aa068cc8ec09ce0cd": {
          "model_module": "@jupyter-widgets/base",
          "model_name": "LayoutModel",
          "model_module_version": "1.2.0",
          "state": {
            "_model_module": "@jupyter-widgets/base",
            "_model_module_version": "1.2.0",
            "_model_name": "LayoutModel",
            "_view_count": null,
            "_view_module": "@jupyter-widgets/base",
            "_view_module_version": "1.2.0",
            "_view_name": "LayoutView",
            "align_content": null,
            "align_items": null,
            "align_self": null,
            "border": null,
            "bottom": null,
            "display": null,
            "flex": null,
            "flex_flow": null,
            "grid_area": null,
            "grid_auto_columns": null,
            "grid_auto_flow": null,
            "grid_auto_rows": null,
            "grid_column": null,
            "grid_gap": null,
            "grid_row": null,
            "grid_template_areas": null,
            "grid_template_columns": null,
            "grid_template_rows": null,
            "height": null,
            "justify_content": null,
            "justify_items": null,
            "left": null,
            "margin": null,
            "max_height": null,
            "max_width": null,
            "min_height": null,
            "min_width": null,
            "object_fit": null,
            "object_position": null,
            "order": null,
            "overflow": null,
            "overflow_x": null,
            "overflow_y": null,
            "padding": null,
            "right": null,
            "top": null,
            "visibility": null,
            "width": null
          }
        },
        "152f9b5e02ed482cad221d8f641d2bdf": {
          "model_module": "@jupyter-widgets/controls",
          "model_name": "DescriptionStyleModel",
          "model_module_version": "1.5.0",
          "state": {
            "_model_module": "@jupyter-widgets/controls",
            "_model_module_version": "1.5.0",
            "_model_name": "DescriptionStyleModel",
            "_view_count": null,
            "_view_module": "@jupyter-widgets/base",
            "_view_module_version": "1.2.0",
            "_view_name": "StyleView",
            "description_width": ""
          }
        }
      }
    }
  },
  "nbformat": 4,
  "nbformat_minor": 0
}