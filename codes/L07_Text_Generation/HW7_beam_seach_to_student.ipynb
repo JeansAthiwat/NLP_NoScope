{
  "cells": [
    {
      "cell_type": "markdown",
      "id": "pDRbfJqgPfdr",
      "metadata": {
        "id": "pDRbfJqgPfdr"
      },
      "source": [
        "# HW7: Beam Search Decoding - News Headline Generation"
      ]
    },
    {
      "cell_type": "markdown",
      "id": "fSDxXAqSPeBB",
      "metadata": {
        "id": "fSDxXAqSPeBB"
      },
      "source": [
        "In this exercise, you are going to learn and implement decoding techniques for sequence generation. Usually, the sequence is generated word-by-word from a model. In each step, the model predicted the most likely word based on the predicted words in previous steps (this is called auto-regressive decoding).\n",
        "\n",
        "As such, it is very important how you decide on what to predicted at each step, as it will be conditioned on to predicted all of the following steps. We will implement two of main decoding techniques introduced in the lecture: **Greedy Decoding** and **Beam Search Decoding**. Greedy Decoding immediately chooses the word with best score at each step, while Beam Search Decoding focuses on the sequence that give the best score overall.\n",
        "\n",
        "To complete this exercise, you will need to complete the methods for decoding for a text generation model trained on [New York Times Comments and Headlines dataset](https://www.kaggle.com/aashita/nyt-comments). The model is trained to predict a headline for the news given seed text. You do not need to train any model model in this exercise as we provide both the pretrained model and dictionary.\n"
      ]
    },
    {
      "cell_type": "markdown",
      "id": "YFlSAvCfiZXf",
      "metadata": {
        "id": "YFlSAvCfiZXf"
      },
      "source": [
        "## Download model and vocab and setup"
      ]
    },
    {
      "cell_type": "code",
      "execution_count": 1,
      "id": "q5gRmwtdiYjp",
      "metadata": {
        "id": "q5gRmwtdiYjp"
      },
      "outputs": [],
      "source": [
        "# !wget -O vocab.txt https://www.dropbox.com/s/ht12ua9vpkep6l8/hw9_vocab.txt?dl=0\n",
        "# !wget -O model.bin https://www.dropbox.com/s/okmri7cnd729rr5/hw9_model.bin?dl=0"
      ]
    },
    {
      "cell_type": "code",
      "execution_count": 2,
      "id": "i9ITxmo5i-s6",
      "metadata": {
        "id": "i9ITxmo5i-s6"
      },
      "outputs": [],
      "source": [
        "import torch\n",
        "import torch.nn as nn\n",
        "from tokenizers import Tokenizer\n",
        "from tokenizers.models import WordLevel\n",
        "from tokenizers.pre_tokenizers import Whitespace\n",
        "import numpy as np"
      ]
    },
    {
      "cell_type": "code",
      "execution_count": 3,
      "id": "VcDZCYkEi0b4",
      "metadata": {
        "id": "VcDZCYkEi0b4"
      },
      "outputs": [],
      "source": [
        "class RNNmodel(nn.Module):\n",
        "    def __init__(self, vocab_size, embedding_dim, dropout_rate):\n",
        "\n",
        "        super().__init__()\n",
        "        self.embedding_dim = embedding_dim\n",
        "\n",
        "        self.embedding = nn.Embedding(vocab_size, embedding_dim)\n",
        "        self.rnn = nn.LSTM(embedding_dim, 128, num_layers=2,\n",
        "                     batch_first=True)\n",
        "        self.dropout = nn.Dropout(dropout_rate)\n",
        "        self.fc2 = nn.Linear(128, vocab_size)\n",
        "\n",
        "    def forward(self, src):\n",
        "        embedding = self.embedding(src)\n",
        "        output,_ = self.rnn(embedding)\n",
        "        output = self.dropout(output)\n",
        "        prediction = self.fc2(output)\n",
        "        return prediction"
      ]
    },
    {
      "cell_type": "code",
      "execution_count": 4,
      "id": "6bZt9R0JjL8l",
      "metadata": {
        "id": "6bZt9R0JjL8l"
      },
      "outputs": [
        {
          "data": {
            "text/plain": [
              "RNNmodel(\n",
              "  (embedding): Embedding(10054, 64)\n",
              "  (rnn): LSTM(64, 128, num_layers=2, batch_first=True)\n",
              "  (dropout): Dropout(p=0.2, inplace=False)\n",
              "  (fc2): Linear(in_features=128, out_features=10054, bias=True)\n",
              ")"
            ]
          },
          "execution_count": 4,
          "metadata": {},
          "output_type": "execute_result"
        }
      ],
      "source": [
        "with open(\"vocab.txt\") as f:\n",
        "  vocab_file = f.readlines()\n",
        "embedding_dim = 64\n",
        "dropout_rate = 0.2\n",
        "\n",
        "model = RNNmodel(len(vocab_file), embedding_dim, dropout_rate)\n",
        "model.load_state_dict(torch.load(\"model.bin\",map_location='cpu'))\n",
        "model.eval()\n",
        "model.requires_grad_(False)"
      ]
    },
    {
      "cell_type": "code",
      "execution_count": 5,
      "id": "mOEWXsXzjpn6",
      "metadata": {
        "id": "mOEWXsXzjpn6"
      },
      "outputs": [
        {
          "name": "stdout",
          "output_type": "stream",
          "text": [
            "Vocab Size: 10054\n",
            "['<unk>', '<pad>', '<eos>', 'the', 'a', 'to', 'of', 's', 'in', 'for', 'and', 'trump', 'unknown', 'on', 'is', 'with', 'new', '']\n"
          ]
        }
      ],
      "source": [
        "vocab = [v.strip() for v in vocab_file]\n",
        "vocab_size = len(vocab)\n",
        "print(f\"Vocab Size: {vocab_size}\")\n",
        "print(vocab[:18])"
      ]
    },
    {
      "cell_type": "code",
      "execution_count": 6,
      "id": "sem3jbjoF_d8",
      "metadata": {
        "id": "sem3jbjoF_d8"
      },
      "outputs": [
        {
          "name": "stdout",
          "output_type": "stream",
          "text": [
            "Encoding(num_tokens=5, attributes=[ids, type_ids, tokens, offsets, attention_mask, special_tokens_mask, overflowing])\n",
            "[3, 4, 6, 5, 0]\n",
            "['the', 'a', 'of', 'to', '<unk>']\n",
            "the a of to <unk>\n"
          ]
        }
      ],
      "source": [
        "stoi = { ch:i for i,ch in enumerate(vocab) }\n",
        "tokenizer = Tokenizer(WordLevel(stoi, unk_token=\"<unk>\"))\n",
        "tokenizer.pre_tokenizer = Whitespace()\n",
        "tokenized_text = tokenizer.encode(\"the a of to unknowns\")\n",
        "print(tokenized_text)\n",
        "print(tokenized_text.ids)\n",
        "print(tokenized_text.tokens)\n",
        "print(tokenizer.decode(tokenized_text.ids))"
      ]
    },
    {
      "cell_type": "markdown",
      "id": "rSt1yuR19co-",
      "metadata": {
        "id": "rSt1yuR19co-"
      },
      "source": [
        "## 1. TODO: Greedy decode\n",
        "Normally, in sequence generation task, the model will continue generating tokens until an end-of-sequence symbol appear or the maximum length is reached. For this task:\n",
        "- The end-of-sequence symbol is \"< eos >\" and its index is 2\n",
        "- Use the maximum generation length of 15"
      ]
    },
    {
      "cell_type": "code",
      "execution_count": 7,
      "id": "oUCajb2BvKnN",
      "metadata": {
        "id": "oUCajb2BvKnN"
      },
      "outputs": [
        {
          "name": "stdout",
          "output_type": "stream",
          "text": [
            "2\n"
          ]
        }
      ],
      "source": [
        "eos_token = '<eos>'\n",
        "eos_index = vocab.index(eos_token)\n",
        "max_gen_length = 15\n",
        "print(eos_index)"
      ]
    },
    {
      "cell_type": "code",
      "execution_count": 8,
      "id": "e6638613",
      "metadata": {
        "id": "e6638613"
      },
      "outputs": [],
      "source": [
        "def greedy_decode(seed_text, tokenizer):\n",
        "    \"\"\"Greedy decodes with seed text.\n",
        "\n",
        "        Args:\n",
        "        seed_text: The seed string to be used as initial input to the model.\n",
        "        tokenizer: The tokenizer for converting word to index and back.\n",
        "\n",
        "        Your code should do the followings:\n",
        "          1. Convert current_text to sequences of indices\n",
        "          2. Predict the next token using the model and choose the token with the highest score as output\n",
        "          3. Append the predicted index to current_text\n",
        "          4. Loop until completion\n",
        "          5. Return text prediction and a list of probabilities of each step\n",
        "\n",
        "        You do not need to stop early when end-of-sequence token is generated and can continue decoding\n",
        "        until max_gen_length is reached. We can filter the eos token out later.\n",
        "    \"\"\"\n",
        "    ids_seq = tokenizer.encode(seed_text).ids\n",
        "    \n",
        "    seq_probs = []\n",
        "    output_ids_seq = ids_seq.copy()\n",
        "    \n",
        "    ids_seq = torch.tensor(ids_seq, requires_grad=False).unsqueeze(0)\n",
        "    \n",
        "    while len(output_ids_seq) < max_gen_length:\n",
        "        logits = model(ids_seq)\n",
        "        last_token_logits = logits.squeeze(0)[-1]\n",
        "        probs = torch.softmax(last_token_logits, dim=-1)\n",
        "        seq_probs.append(torch.max(probs).item())\n",
        "        output_ids_seq.append(torch.argmax(probs).item())\n",
        "        # print(output_ids_seq[-1])\n",
        "        # print(tokenizer.decode(output_ids_seq))\n",
        "        ids_seq = torch.tensor(output_ids_seq).unsqueeze(0)\n",
        "        # print(ids_seq.shape)\n",
        "    \n",
        "    output = tokenizer.decode(output_ids_seq)\n",
        "    return output,seq_probs"
      ]
    },
    {
      "cell_type": "code",
      "execution_count": 9,
      "id": "9f78f6c8",
      "metadata": {
        "id": "9f78f6c8"
      },
      "outputs": [],
      "source": [
        "def clean_output(text, probs, eos_token):\n",
        "    \"\"\"Drop eos_token and every words that follow\"\"\"\n",
        "    if eos_token in text:\n",
        "        text = text[:text.index(eos_token)]\n",
        "        probs = probs[:len(text.split())]\n",
        "    return text, probs"
      ]
    },
    {
      "cell_type": "code",
      "execution_count": 10,
      "id": "bdd42c8a",
      "metadata": {
        "id": "bdd42c8a"
      },
      "outputs": [
        {
          "name": "stdout",
          "output_type": "stream",
          "text": [
            "('to encourage creativity in the new york bill ', [0.04071051999926567, 0.2661307156085968, 0.25815948843955994, 0.2311648279428482, 0.07794329524040222, 0.06978018581867218, 0.2244524359703064, 0.06381572782993317])\n",
            "[0.04071051999926567, 0.2661307156085968, 0.25815948843955994, 0.2311648279428482, 0.07794329524040222, 0.06978018581867218, 0.2244524359703064, 0.06381572782993317, 0.9939146637916565, 0.9996448755264282, 0.9998337030410767, 0.9998859167098999, 0.9998980760574341, 0.999900221824646]\n",
            "('america s lethal export ', [0.44965454936027527, 0.04639991372823715, 0.7206957340240479, 0.9869425296783447])\n",
            "[0.44965454936027527, 0.04639991372823715, 0.7206957340240479, 0.9869425296783447, 0.9974710941314697, 0.9997972846031189, 0.9998942613601685, 0.9999057054519653, 0.9999076128005981, 0.9999080896377563, 0.9999082088470459, 0.9999080896377563, 0.9999080896377563, 0.9999080896377563]\n",
            "('people to balloon to make a criminal with a dog with a callous rival ', [0.35848477482795715, 0.03946574404835701, 0.26953017711639404, 0.033772923052310944, 0.28156694769859314, 0.030896717682480812, 0.3262561559677124, 0.32244035601615906, 0.03489115461707115, 0.2229832410812378, 0.580828845500946, 0.04674474895000458, 0.26616525650024414, 0.9633657932281494])\n",
            "[0.35848477482795715, 0.03946574404835701, 0.26953017711639404, 0.033772923052310944, 0.28156694769859314, 0.030896717682480812, 0.3262561559677124, 0.32244035601615906, 0.03489115461707115, 0.2229832410812378, 0.580828845500946, 0.04674474895000458, 0.26616525650024414, 0.9633657932281494]\n",
            "('next phenom english clubs 2 call another deal in the same arrivals ', [0.1724235713481903, 0.23235632479190826, 0.7396268248558044, 0.0788838192820549, 0.044043004512786865, 0.057693466544151306, 0.032969508320093155, 0.3304014205932617, 0.6040374040603638, 0.03174590691924095, 0.07468771189451218, 0.9989269375801086])\n",
            "[0.1724235713481903, 0.23235632479190826, 0.7396268248558044, 0.0788838192820549, 0.044043004512786865, 0.057693466544151306, 0.032969508320093155, 0.3304014205932617, 0.6040374040603638, 0.03174590691924095, 0.07468771189451218, 0.9989269375801086, 0.9990122318267822, 0.999812662601471]\n",
            "('picture perfect chapter a spot of view of banning care ', [0.25000011920928955, 0.01760745421051979, 0.025983275845646858, 0.05381891131401062, 0.3106653690338135, 0.040469057857990265, 0.24898776412010193, 0.045758068561553955, 0.08654487878084183, 0.6452393531799316])\n",
            "[0.25000011920928955, 0.01760745421051979, 0.025983275845646858, 0.05381891131401062, 0.3106653690338135, 0.040469057857990265, 0.24898776412010193, 0.045758068561553955, 0.08654487878084183, 0.6452393531799316, 0.9985442161560059, 0.9998080134391785, 0.9998906850814819, 0.9999010562896729]\n",
            "('on the catwalk in saudi arabia ', [0.30775660276412964, 0.02204967848956585, 0.2477516084909439, 0.18319879472255707, 0.7695567607879639, 0.9782568216323853])\n",
            "[0.30775660276412964, 0.02204967848956585, 0.2477516084909439, 0.18319879472255707, 0.7695567607879639, 0.9782568216323853, 0.99910968542099, 0.999843955039978, 0.9998936653137207, 0.9999009370803833, 0.9999021291732788, 0.999902606010437, 0.9999027252197266, 0.9999028444290161]\n"
          ]
        }
      ],
      "source": [
        "sample_seeds = [\"to\", \"america\", \"people\", \"next\", \"picture\", \"on\"]\n",
        "for seed in sample_seeds:\n",
        "    output, probs = greedy_decode(seed, tokenizer)\n",
        "    output = clean_output(output, probs, eos_token)\n",
        "    print(output)\n",
        "    print(probs)"
      ]
    },
    {
      "cell_type": "markdown",
      "id": "h99jCVvjUvFT",
      "metadata": {
        "id": "h99jCVvjUvFT"
      },
      "source": [
        "Your output should be:\n",
        "\n",
        "*   to encourage creativity in the new york bill\n",
        "*   america s lethal export\n",
        "*   people to balloon to make a criminal with a dog with a callous rival\n",
        "*   next phenom english clubs 2 call another deal in the same arrivals\n",
        "*   picture perfect chapter a spot of view of banning care  \n",
        "*   on the catwalk in saudi arabia\n",
        "\n",
        "\n",
        "\n",
        "\n",
        "\n"
      ]
    },
    {
      "cell_type": "markdown",
      "id": "7553f608",
      "metadata": {
        "id": "7553f608"
      },
      "source": [
        "## 2. TODO: Beam search decode\n",
        "\n",
        "Another well-known decoding method is beam search decoding that focuses more on the overall sequence score.\n",
        "\n",
        "Instead of greedily choosing the token with the highest score for each step, beam search decoding expands all possible next tokens and keeps the __k__ most likely sequence at each step, where __k__ is a user-specified beam size. A sequence score is also calculated according user-specified cal_score() function.\n",
        "The beam with the highest score after the decoding process is done will be the output."
      ]
    },
    {
      "cell_type": "markdown",
      "id": "8kArvA-6xLmQ",
      "metadata": {
        "id": "8kArvA-6xLmQ"
      },
      "source": [
        "There are a few things that you need to know before implementing a beam search decoder:\n",
        "- When the eos token is produced, you can stop expanding that beam\n",
        "- However, the ended beams must be sorted together with active beams\n",
        "- The decoding ends when every beams are either ended or reached the maximum length, but for this task, you can continue decoding until the max_gen_len is reached\n",
        "- We usually work with probability in log scale to avoid numerical underflow. You should use np.log(score) before any calculation\n",
        "- **As probabilities for some classes will be very small, you must add a very small value to the score before taking log e.g np.log(prob + 0.00000001)**"
      ]
    },
    {
      "cell_type": "markdown",
      "id": "MQRZftUYxcCU",
      "metadata": {
        "id": "MQRZftUYxcCU"
      },
      "source": [
        "#### Sequence Score\n",
        "The naive way to calculate the sequence score is to __multiply every token scores__ together. However, doing so will make the decoder prefer shorter sequence as you multiply the sequence score with a value between \\[0,1\\] for every tokens in the sequence. Thus, we usually normalize the sequence score with its length by calculating its __geometric mean__ instead.\n",
        "\n",
        "**You should do this in log scale**"
      ]
    },
    {
      "cell_type": "code",
      "execution_count": 11,
      "id": "d76c6f52",
      "metadata": {
        "id": "d76c6f52"
      },
      "outputs": [],
      "source": [
        "def cal_score(score_list, length, normalized=False): #cal score for each beam from a list of probs\n",
        "    # sum all elements in the list\n",
        "    # print(np.array(score_list))\n",
        "    # print(np.log(np.array(score_list) + 1e-10))\n",
        "    ln_score = np.log(np.array(score_list) + 1e-10)\n",
        "    if normalized:\n",
        "        ln_score /= length\n",
        "    seq_score = np.sum(ln_score)\n",
        "    return seq_score"
      ]
    },
    {
      "cell_type": "code",
      "execution_count": 12,
      "id": "69868a8a",
      "metadata": {},
      "outputs": [
        {
          "data": {
            "text/plain": [
              "[5, 30]"
            ]
          },
          "execution_count": 12,
          "metadata": {},
          "output_type": "execute_result"
        }
      ],
      "source": [
        "encoded_seed = tokenizer.encode(\"to be\").ids\n",
        "encoded_seed"
      ]
    },
    {
      "cell_type": "code",
      "execution_count": 13,
      "id": "bb1dd75a",
      "metadata": {
        "id": "bb1dd75a"
      },
      "outputs": [],
      "source": [
        "def beam_search_decode(seed_text, max_gen_len, tokenizer, beam_size=5, normalized=False):\n",
        "    \"\"\"We will do beam search decoing using seed text in this function.\n",
        "\n",
        "    Output:\n",
        "    beams: A list of top k beams after the decoding ended, each beam is a list of\n",
        "      [seed_text, list of scores, length]\n",
        "\n",
        "    Your code should do the followings:\n",
        "    1.Loop until max_gen_len is reached.\n",
        "    2.During each step, loop thorugh each beam and use it to predict the next word.\n",
        "      If a beam is already ended, continues without expanding.\n",
        "    3.Sort all hypotheses according to cal_score().\n",
        "    4.Keep top k hypotheses to be used at the next step.\n",
        "    \"\"\"\n",
        "    # For each beam we will store (generated text, list of scores, and current length, is_finished)\n",
        "    # Add initial beam\n",
        "    beams = [[[seed_text], [], 0, False]]\n",
        "    for _ in range(max_gen_len):\n",
        "        new_beams = []\n",
        "        # Loop through the top k beams (garunteed to be sorted and have only k elements)\n",
        "        for beam in beams:\n",
        "            if beam[3]:\n",
        "                new_beams.append(beam)\n",
        "                continue\n",
        "            # Get the current text and length\n",
        "            current_text = beam[0][-1]\n",
        "            list_of_scores = beam[1]\n",
        "            length = beam[2]\n",
        "\n",
        "            print(current_text)\n",
        "            print(list_of_scores, np.round(np.exp(cal_score(list_of_scores, length, normalized)),2))\n",
        "            # predict the next token from the current text by tokenizing it and pass it to the model\n",
        "            tokenized_text = tokenizer.encode(current_text).ids\n",
        "            tokenized_text = torch.tensor(tokenized_text, requires_grad=False).unsqueeze(0)\n",
        "            logits = model(tokenized_text)\n",
        "            last_token_logits = logits.squeeze(0)[-1]\n",
        "            probs = torch.softmax(last_token_logits, dim=-1)\n",
        "            probs = np.log(probs.detach() + 1e-8)\n",
        "            # append the first k best tokens to the current text first (we will filter out the top k later)\n",
        "            top_k_probs, top_k_indices = torch.topk(probs, beam_size)\n",
        "            for i in range(beam_size):\n",
        "                #append the word to the new text (dont forget to decode the word)\n",
        "                new_text = current_text + ' ' + vocab[top_k_indices[i].item()]\n",
        "                #append the score to the new list of scores\n",
        "                new_scores = list_of_scores.copy()\n",
        "                new_scores.append(top_k_probs[i].item())\n",
        "                #append the new beam to the list of new beams\n",
        "                new_beams.append([[new_text], new_scores, length+1, top_k_indices[i].item() == eos_index])\n",
        "        # Sort the new beams\n",
        "        new_beams.sort(key=lambda x: cal_score(x[1], x[2], normalized), reverse=True)\n",
        "        # Keep only the top k beams\n",
        "        beams = new_beams[:beam_size]\n",
        "                \n",
        "    return beams"
      ]
    },
    {
      "cell_type": "markdown",
      "id": "i_eqGDA09zqk",
      "metadata": {
        "id": "i_eqGDA09zqk"
      },
      "source": [
        "## 3. Generate!\n",
        "Generate 6 sentences based on the given seed texts.\n",
        "\n",
        "Decode with the provided seed texts with beam_size 5. Compare the results between greedy, normalized, and unnormalized decoding.\n",
        "\n",
        "Print the result using greedy decoding and top 2 results each using unnormalized and normalized decoing for each seed text.\n",
        "\n",
        "Also, print scores of each candidate according to cal_score(). Use normalization for greedy decoding."
      ]
    },
    {
      "cell_type": "code",
      "execution_count": 14,
      "id": "5800459e",
      "metadata": {},
      "outputs": [
        {
          "name": "stdout",
          "output_type": "stream",
          "text": [
            "to encourage creativity in the new york bill  0.12\n"
          ]
        }
      ],
      "source": [
        "seed = \"to\"\n",
        "# outputs = beam_search_decode(seed, max_gen_length, tokenizer, beam_size=2, normalized=True)\n",
        "greedy_output, probs = greedy_decode(seed, tokenizer)\n",
        "greedy_output, probs = clean_output(greedy_output, probs, eos_token)\n",
        "greedy_score = np.round(np.exp(cal_score(probs, len(probs), True)),2)\n",
        "# score = np.log(np.array(probs[:8]) + 1e-8)\n",
        "# print(score)\n",
        "# score = np.sum(score/8)\n",
        "# print(score)\n",
        "# score = np.round(np.exp(score),2)\n",
        "# print(score)\n",
        "# print(f\"Greedy\")\n",
        "print(greedy_output, greedy_score)\n",
        "# for output in outputs:\n",
        "#     print(output[0][0], np.round(np.exp(cal_score(output[1], output[2], True)),2))"
      ]
    },
    {
      "cell_type": "code",
      "execution_count": 15,
      "id": "d40a3cb0",
      "metadata": {
        "id": "d40a3cb0"
      },
      "outputs": [],
      "source": [
        "# sample_seeds = [\"to\", \"america\", \"people\", \"next\", \"picture\", \"on\"]\n",
        "# for seed in sample_seeds:\n",
        "#     output = beam_search_decode(seed, max_gen_length, tokenizer, beam_size=5, normalized=True)"
      ]
    },
    {
      "cell_type": "markdown",
      "id": "icfu6pOzWUSt",
      "metadata": {
        "id": "icfu6pOzWUSt"
      },
      "source": [
        "Your output should be:\n",
        "\n",
        "\n",
        "```\n",
        "-Greedy-\n",
        "to encourage creativity in the new york bill  0.12\n",
        "-Unnormalized-\n",
        "To Consult Exploring Recipes For New Jersey 0.00\n",
        "To Consult Exploring Recipes Up The Pacific Northwest 0.00\n",
        "-Normalized-\n",
        "To Consult Exploring Recipes Up The Pacific Northwest 0.17\n",
        "To Consult Exploring Recipes Up The Least Of The Week 0.16\n",
        "\n",
        "-Greedy-\n",
        "america s lethal export  0.35\n",
        "-Unnormalized-\n",
        "America S Lethal Export 0.02\n",
        "America S Desert Aisles 0.01\n",
        "-Normalized-\n",
        "America S Lethal Export 0.25\n",
        "America S Desert Aisles 0.20\n",
        "\n",
        "-Greedy-\n",
        "people to balloon to make a criminal with a dog with a callous rival  0.16\n",
        "-Unnormalized-\n",
        "People To Balloon For A Criminal 0.00\n",
        "People To Balloon For A Criminal With Trump 0.00\n",
        "-Normalized-\n",
        "People To Balloon For A Criminal With A Second Fiddle 0.13\n",
        "People To Balloon For A Criminal With Trump 0.13\n",
        "\n",
        "-Greedy-\n",
        "next phenom english clubs 2 call another deal in the same arrivals  0.15\n",
        "-Unnormalized-\n",
        "Next S Blist Revue 0.00\n",
        "Next Phenom English Clubs 1 A Chance To Be Back 0.00\n",
        "-Normalized-\n",
        "Next S Blist Revue 0.14\n",
        "Next Phenom English Clubs 1 A Chance To Be Back 0.14\n",
        "\n",
        "-Greedy-\n",
        "picture perfect chapter a spot of view of banning care  0.09\n",
        "-Unnormalized-\n",
        "Picture Perfect Use Coffee 0.00\n",
        "Picture Korean A Bonanza Of Pancakes 0.00\n",
        "-Normalized-\n",
        "Picture Korean A Bonanza Of Contemplation Times Of Trump S Son 0.12\n",
        "Picture Korean A Bonanza Of Pancakes 0.07\n",
        "\n",
        "-Greedy-\n",
        "on the catwalk in saudi arabia  0.25\n",
        "-Unnormalized-\n",
        "On The Billboard Chart 0.00\n",
        "On The Catwalk In Saudi Arabia 0.00\n",
        "-Normalized-\n",
        "On The Whole30 Diet Vowing To Eat Smarter Carbs To Be 0.27\n",
        "On The Whole30 Diet Vowing To Eat Smarter Carbs For Because 0.26\n",
        "\n",
        "```\n",
        "\n"
      ]
    },
    {
      "cell_type": "markdown",
      "id": "tquJVskBeM9m",
      "metadata": {
        "id": "tquJVskBeM9m"
      },
      "source": [
        "# Answer Questions in MyCourseVille!\n",
        "\n",
        "Use the seed word \"usa\" to answer questions in MCV."
      ]
    }
  ],
  "metadata": {
    "colab": {
      "provenance": [],
      "toc_visible": true
    },
    "kernelspec": {
      "display_name": "nlp",
      "language": "python",
      "name": "python3"
    },
    "language_info": {
      "codemirror_mode": {
        "name": "ipython",
        "version": 3
      },
      "file_extension": ".py",
      "mimetype": "text/x-python",
      "name": "python",
      "nbconvert_exporter": "python",
      "pygments_lexer": "ipython3",
      "version": "3.11.11"
    }
  },
  "nbformat": 4,
  "nbformat_minor": 5
}
