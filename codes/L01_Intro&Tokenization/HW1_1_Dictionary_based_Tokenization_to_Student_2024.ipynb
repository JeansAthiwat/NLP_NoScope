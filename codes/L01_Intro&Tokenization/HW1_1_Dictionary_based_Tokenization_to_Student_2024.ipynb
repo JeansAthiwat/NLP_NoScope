{
  "cells": [
    {
      "cell_type": "markdown",
      "metadata": {
        "id": "7EdbVSmE87En"
      },
      "source": [
        "# HW1.1: Dictionary-based Tokenization\n"
      ]
    },
    {
      "cell_type": "markdown",
      "metadata": {
        "id": "pJJLm1Ub87Et"
      },
      "source": [
        "In this exercise, you are to implement a dictionary-based word segmentation algorithm. There are two Python functions that you need to complete:\n",
        "<br>\n",
        "* maximal_matching\n",
        "* backtrack\n",
        "</br>\n",
        "\n",
        "Also, you have to find how to use word_tokenize() in PythaiNLP along with customer_dict by yourselves."
      ]
    },
    {
      "cell_type": "code",
      "execution_count": 1,
      "metadata": {
        "id": "yXxPBOcNLXfm"
      },
      "outputs": [
        {
          "name": "stdout",
          "output_type": "stream",
          "text": [
            "Requirement already satisfied: pythainlp in /home/jeans/miniconda3/envs/nlp/lib/python3.10/site-packages (5.0.5)\n",
            "Requirement already satisfied: requests>=2.22.0 in /home/jeans/miniconda3/envs/nlp/lib/python3.10/site-packages (from pythainlp) (2.32.3)\n",
            "Requirement already satisfied: charset_normalizer<4,>=2 in /home/jeans/.local/lib/python3.10/site-packages (from requests>=2.22.0->pythainlp) (3.3.2)\n",
            "Requirement already satisfied: idna<4,>=2.5 in /home/jeans/.local/lib/python3.10/site-packages (from requests>=2.22.0->pythainlp) (3.7)\n",
            "Requirement already satisfied: urllib3<3,>=1.21.1 in /home/jeans/miniconda3/envs/nlp/lib/python3.10/site-packages (from requests>=2.22.0->pythainlp) (2.3.0)\n",
            "Requirement already satisfied: certifi>=2017.4.17 in /home/jeans/.local/lib/python3.10/site-packages (from requests>=2.22.0->pythainlp) (2024.6.2)\n",
            "Requirement already satisfied: marisa_trie in /home/jeans/miniconda3/envs/nlp/lib/python3.10/site-packages (1.2.1)\n",
            "Requirement already satisfied: setuptools in /home/jeans/miniconda3/envs/nlp/lib/python3.10/site-packages (from marisa_trie) (72.1.0)\n"
          ]
        }
      ],
      "source": [
        "!pip install pythainlp\n",
        "!pip install marisa_trie\n",
        "from pythainlp.tokenize import word_tokenize\n",
        "from pythainlp.corpus import get_corpus\n",
        "from marisa_trie import Trie"
      ]
    },
    {
      "cell_type": "markdown",
      "metadata": {
        "id": "VLGgO8PrLSz6"
      },
      "source": [
        "## Part 1) Maximal Matching from PythaiNLP"
      ]
    },
    {
      "cell_type": "markdown",
      "metadata": {
        "id": "xzs0R06q87Et"
      },
      "source": [
        "### Create a toy dictionary to test the algorithm\n",
        "\n",
        "This is based on the example shown in the lecture.\n",
        "You will tokenize the following text string: \"ไปหามเหสี!\"\n",
        "The toy dictionary provided in this exercise includes all the charaters, syllables, and words that appear that the text string."
      ]
    },
    {
      "cell_type": "code",
      "execution_count": 2,
      "metadata": {
        "id": "pq3W4p3z87Ev"
      },
      "outputs": [],
      "source": [
        "thai_vocab = [\"ไ\",\"ป\",\"ห\",\"า\",\"ม\",\"เ\",\"ห\",\"ส\",\"ี\",\"ไป\",\"หา\",\"หาม\",\"เห\",\"สี\",\"มเหสี\",\"!\"]\n",
        "input_text = \"ไปหามเหสี!\""
      ]
    },
    {
      "cell_type": "markdown",
      "metadata": {
        "id": "LrZrzQoXLeUX"
      },
      "source": [
        "### Example Dictionary\n",
        "\n",
        "Write the `word_tokenize` function of PyThaiNLP with a custom dictionary above and using:\n",
        "1. Longest matching algorithm `longest`\n",
        "2. Maximal-matching algorithm `newmm`\n",
        "\n",
        "Study `word_tokenize()` from PythaiNLP in the link below. Note: `custom_dict` will accept Trie structures as `Trie(iterable)`.\n",
        "\n",
        "https://pythainlp.org/docs/5.0/api/tokenize.html#pythainlp.tokenize.word_tokenize"
      ]
    },
    {
      "cell_type": "code",
      "execution_count": 3,
      "metadata": {
        "id": "IhCPz25GIbJv"
      },
      "outputs": [
        {
          "name": "stdout",
          "output_type": "stream",
          "text": [
            "<marisa_trie.Trie object at 0x7f671f314850>\n",
            "**********longest**********\n",
            "['ไป', 'หาม', 'เห', 'สี', '!']\n",
            "******************************\n",
            "**********newmm**********\n",
            "['ไป', 'หา', 'มเหสี', '!']\n",
            "******************************\n"
          ]
        }
      ],
      "source": [
        "####FILL CODE HERE####\n",
        "custom_dict = Trie(thai_vocab)\n",
        "print(custom_dict)\n",
        "\n",
        "print(\"*\"*10+\"longest\"+\"*\"*10)\n",
        "segmented_word_longest = word_tokenize(input_text, custom_dict=custom_dict, engine=\"longest\")\n",
        "print(segmented_word_longest)\n",
        "print(\"*\"*30)\n",
        "\n",
        "print(\"*\"*10+\"newmm\"+\"*\"*10)\n",
        "segmented_word_newmm = word_tokenize(input_text, custom_dict=custom_dict, engine=\"newmm\")\n",
        "print(segmented_word_newmm)\n",
        "print(\"*\"*30)\n",
        "######################"
      ]
    },
    {
      "cell_type": "markdown",
      "metadata": {
        "id": "DF5Pme7CK3YF"
      },
      "source": [
        "## Part 2) Maximal Matching from Scratch"
      ]
    },
    {
      "cell_type": "markdown",
      "metadata": {
        "id": "ZornooGF87Ew"
      },
      "source": [
        "### Maximal matching\n",
        "Complete the maximal matching function below with dynamic programming to tokenize the input text and output the 2D numerical array shown in class."
      ]
    },
    {
      "cell_type": "code",
      "execution_count": 4,
      "metadata": {
        "id": "Ao4d2E3387Ew"
      },
      "outputs": [],
      "source": [
        "from math import inf #infinity\n",
        "\n",
        "# assume pulled the dict from \n",
        "# thai_vocab = [\"ไ\",\"ป\",\"ห\",\"า\",\"ม\",\"เ\",\"ห\",\"ส\",\"ี\",\"ไป\",\"หา\",\"หาม\",\"เห\",\"สี\",\"มเหสี\",\"!\"]\n",
        "\n",
        "def maximal_matching(c, word_dict=thai_vocab):\n",
        "    #Initialize an empty 2D list\n",
        "    d  =[[None]*len(c) for _ in range(len(c))]\n",
        "\n",
        "    ####FILL CODE HERE####\n",
        "    # initail condition (find the longest possible that starts from the beginning)\n",
        "    thai_vocab_set = set(word_dict)\n",
        "    for stop_char in range(len(c)):\n",
        "        if c[0:stop_char+1] in thai_vocab_set:\n",
        "            d[0][stop_char] = 1\n",
        "        else:\n",
        "            d[0][stop_char] = inf\n",
        "    \n",
        "    #dp (the minimal word count is the previous minimal word count + 1 if the word is in the dictionary)\n",
        "    for start_char in range(1,len(c)):\n",
        "        for stop_char in range(start_char, len(c)):\n",
        "            if c[start_char:stop_char+1] in thai_vocab_set:\n",
        "                prev_min_word_count = min([d[k][start_char-1] for k in range(start_char)])\n",
        "                d[start_char][stop_char] = 1 + prev_min_word_count\n",
        "            else:\n",
        "                d[start_char][stop_char] = inf\n",
        "    ######################\n",
        "\n",
        "    return d\n",
        "\n",
        "\n",
        "def print_matrix_with_headers(matrix, chars):\n",
        "    col_width = max(5, max(len(str(char)) for char in chars) + 2)\n",
        "    header = \" \" * col_width + \"\".join(f\"{char:>{col_width}}\" for char in chars)\n",
        "    print(header)\n",
        "    print(\" \" * col_width + \"-\" * (col_width * len(chars)))\n",
        "    for i, row in enumerate(matrix):\n",
        "        row_str = f\"{chars[i]:<{col_width}}\" + \"\".join(\n",
        "            f\"{'None':>{col_width}}\" if x is None else f\"{'inf':>{col_width}}\" if x == float('inf') else f\"{x:>{col_width}}\" \n",
        "            for x in row\n",
        "        )\n",
        "        print(row_str)\n",
        "    print()\n",
        "# print_matrix_with_headers(maximal_matching(input_text), input_text)"
      ]
    },
    {
      "cell_type": "markdown",
      "metadata": {},
      "source": []
    },
    {
      "cell_type": "markdown",
      "metadata": {
        "id": "w7vBXfjM87Ew"
      },
      "source": [
        "### Backtracking\n",
        "Complete the backtracking function below to find the tokenzied words.\n",
        "It should return a list containing a pair of the beginning position and the ending position of each word.\n",
        "In this example, it should return:\n",
        "<br>\n",
        "[(0, 1),(2, 3),(4, 8),(9, 9)]\n",
        "<br>\n",
        "#### Each pair contains the position of each word as follows:\n",
        "(0, 1) ไป\n",
        "<br>\n",
        "(2, 3) หา\n",
        "<br>\n",
        "(4, 8) มเหสี\n",
        "<br>\n",
        "(9, 9) !\n"
      ]
    },
    {
      "cell_type": "code",
      "execution_count": 5,
      "metadata": {
        "id": "SxNFf1IE87Ex"
      },
      "outputs": [],
      "source": [
        "def backtrack(d):\n",
        "    eow = len(d)-1 # End of Word position\n",
        "    word_pos = [] # Word position\n",
        "    ####FILL CODE HERE####\n",
        "    \n",
        "    # start from the end of the word\n",
        "    #find the start, stop with the minimal word count\n",
        "    # then move to the next start-1\n",
        "    # repeat until the start is 0\n",
        "    # then we get the word position\n",
        "    sow = eow #initialize start of word\n",
        "    while eow > 0:\n",
        "        current_minimum = inf\n",
        "        for row in range(eow , -1 , -1):\n",
        "            if d[row][eow] < current_minimum:\n",
        "                sow = row\n",
        "        word_pos.append((sow,eow))\n",
        "        eow = sow - 1\n",
        "        \n",
        "    ######################\n",
        "    word_pos.reverse()\n",
        "    return word_pos"
      ]
    },
    {
      "cell_type": "markdown",
      "metadata": {
        "id": "q0MJkKsh87Ex"
      },
      "source": [
        "### Test your maximal matching algorithm on a toy dictionary\n",
        "\n",
        "Expected output:\n",
        "\n",
        "[1, 1, inf, inf, inf, inf, inf, inf, inf, inf] ไ\n",
        "<br>\n",
        "[None, 2, inf, inf, inf, inf, inf, inf, inf, inf] ป\n",
        "<br>\n",
        "[None, None, 2, 2, 2, inf, inf, inf, inf, inf] ห\n",
        "<br>\n",
        "[None, None, None, 3, inf, inf, inf, inf, inf, inf] า\n",
        "<br>\n",
        "[None, None, None, None, 3, inf, inf, inf, 3, inf] ม\n",
        "<br>\n",
        "[None, None, None, None, None, 3, 3, inf, inf, inf] เ\n",
        "<br>\n",
        "[None, None, None, None, None, None, 4, inf, inf, inf] ห\n",
        "<br>\n",
        "[None, None, None, None, None, None, None, 4, 4, inf] ส\n",
        "<br>\n",
        "[None, None, None, None, None, None, None, None, 5, inf] ี\n",
        "<br>\n",
        "[None, None, None, None, None, None, None, None, None, 4] !\n",
        "<br>"
      ]
    },
    {
      "cell_type": "code",
      "execution_count": 6,
      "metadata": {
        "id": "tsmVQIKS87Ey"
      },
      "outputs": [
        {
          "name": "stdout",
          "output_type": "stream",
          "text": [
            "[1, 1, inf, inf, inf, inf, inf, inf, inf, inf] ไ\n",
            "[None, 2, inf, inf, inf, inf, inf, inf, inf, inf] ป\n",
            "[None, None, 2, 2, 2, inf, inf, inf, inf, inf] ห\n",
            "[None, None, None, 3, inf, inf, inf, inf, inf, inf] า\n",
            "[None, None, None, None, 3, inf, inf, inf, 3, inf] ม\n",
            "[None, None, None, None, None, 3, 3, inf, inf, inf] เ\n",
            "[None, None, None, None, None, None, 4, inf, inf, inf] ห\n",
            "[None, None, None, None, None, None, None, 4, 4, inf] ส\n",
            "[None, None, None, None, None, None, None, None, 5, inf] ี\n",
            "[None, None, None, None, None, None, None, None, None, 4] !\n"
          ]
        }
      ],
      "source": [
        "input_text = \"ไปหามเหสี!\"\n",
        "out = maximal_matching(input_text)\n",
        "for i in range(len(out)):\n",
        "    print(out[i],input_text[i])"
      ]
    },
    {
      "cell_type": "markdown",
      "metadata": {
        "id": "IVhCMM4d87Ey"
      },
      "source": [
        "### Test your backtracking algorithm on a toy dictionary\n",
        "Compare your results with the result from PyThaiNLP `newmm`.\n",
        "\n",
        "Expected output:\n",
        "<br>\n",
        "ไป|หา|มเหสี|!"
      ]
    },
    {
      "cell_type": "code",
      "execution_count": 7,
      "metadata": {
        "id": "6Hurbm1f87Ey"
      },
      "outputs": [
        {
          "name": "stdout",
          "output_type": "stream",
          "text": [
            "ไป|หา|มเหสี|!\n"
          ]
        }
      ],
      "source": [
        "def print_tokenized_text(d, input_text):\n",
        "    tokenized_text=[]\n",
        "    for pos in backtrack(d):\n",
        "        #print(pos)\n",
        "        tokenized_text.append(input_text[pos[0]:pos[1]+1])\n",
        "\n",
        "    print(\"|\".join(tokenized_text))\n",
        "\n",
        "print_tokenized_text(out,input_text)"
      ]
    },
    {
      "cell_type": "markdown",
      "metadata": {
        "id": "1mZ226USPICM"
      },
      "source": [
        "### <font color=blue>Question 1</font>\n",
        "Using your maximal matching code with the toy dictionary, how many “words” did you get when tokenizing this input text.\n",
        "\n",
        "Answer this question in question #1 in MyCourseVille. Also print out the answer in this notebook as well."
      ]
    },
    {
      "cell_type": "code",
      "execution_count": 8,
      "metadata": {
        "id": "C4c6gX4ySfUh"
      },
      "outputs": [
        {
          "name": "stdout",
          "output_type": "stream",
          "text": [
            "words count : 10\n",
            "ไป|หา|ห|ม|า|มเหสี|ม|า|หาม|!\n"
          ]
        }
      ],
      "source": [
        "input_text = \"ไปหาหมามเหสีมาหาม!\"\n",
        "\n",
        "dp = maximal_matching(input_text)\n",
        "print(\"words count :\", len(backtrack(dp)))\n",
        "print_tokenized_text(dp, input_text)"
      ]
    },
    {
      "cell_type": "markdown",
      "metadata": {
        "id": "57rP9cTU87Ez"
      },
      "source": [
        "## Part 3) Your Maximal Matching with Real Dictionary"
      ]
    },
    {
      "cell_type": "markdown",
      "metadata": {
        "id": "V306h7AG87Ez"
      },
      "source": [
        "For UNIX-based OS users, the following cell will download a dictionary (it's just a list of thai words). Alternatively, you can download it from this link: https://raw.githubusercontent.com/PyThaiNLP/pythainlp/dev/pythainlp/corpus/words_th.txt"
      ]
    },
    {
      "cell_type": "code",
      "execution_count": 9,
      "metadata": {
        "id": "EFVR9LO187Ez",
        "scrolled": true
      },
      "outputs": [
        {
          "name": "stdout",
          "output_type": "stream",
          "text": [
            "--2025-01-15 20:00:16--  https://raw.githubusercontent.com/PyThaiNLP/pythainlp/dev/pythainlp/corpus/words_th.txt\n",
            "Resolving raw.githubusercontent.com (raw.githubusercontent.com)... failed: Temporary failure in name resolution.\n",
            "wget: unable to resolve host address ‘raw.githubusercontent.com’\n"
          ]
        }
      ],
      "source": [
        "!wget https://raw.githubusercontent.com/PyThaiNLP/pythainlp/dev/pythainlp/corpus/words_th.txt"
      ]
    },
    {
      "cell_type": "code",
      "execution_count": 10,
      "metadata": {
        "id": "nqIQzVgE87E0"
      },
      "outputs": [
        {
          "name": "stdout",
          "output_type": "stream",
          "text": [
            "Vocab size: 62080\n",
            "['ก ข ไม่กระดิกหู', 'ก.', 'ก.ค.', 'ก.ต.', 'ก.ป.ส.', 'ก.พ.', 'ก.พ.ด.', 'ก.ม.', 'ก.ย.', 'ก.ย']\n"
          ]
        }
      ],
      "source": [
        "with open(\"words_th.txt\",encoding='utf-8-sig') as f:\n",
        "    thai_vocab = f.read().splitlines()\n",
        "print(\"Vocab size:\", len(thai_vocab))\n",
        "print(thai_vocab[:10])\n",
        "\n",
        "thai_vocab.extend([\"ๆ\",\"!\"])"
      ]
    },
    {
      "cell_type": "markdown",
      "metadata": {
        "id": "Kpjwzw1w87E0"
      },
      "source": [
        "### Part 3.1) The output of **YOUR** maximal matching algoithm on the new dictionary\n",
        "Expected output:\n",
        "<br>\n",
        "[inf, 1, inf, 1, inf, inf, inf, inf, inf] ไ\n",
        "<br>\n",
        "[None, inf, inf, inf, inf, inf, inf, inf, inf] ป\n",
        "<br>\n",
        "[None, None, inf, 2, 2, inf, inf, inf, inf] ห\n",
        "<br>\n",
        "[None, None, None, inf, inf, inf, inf, inf, inf] า\n",
        "<br>\n",
        "[None, None, None, None, inf, inf, inf, inf, 2] ม\n",
        "<br>\n",
        "[None, None, None, None, None, inf, 3, inf, inf] เ\n",
        "<br>\n",
        "[None, None, None, None, None, None, inf, inf, inf] ห\n",
        "<br>\n",
        "[None, None, None, None, None, None, None, inf, 4] ส\n",
        "<br>\n",
        "[None, None, None, None, None, None, None, None, inf] ี\n",
        "\n",
        "### Expected tokenized text\n",
        "ไปหา|มเหสี\n",
        "\n",
        "_Question: Why are the resulting tokens different?_\n",
        "<br>\n",
        "_Answer: We got more words in a dict (longer string matched)_"
      ]
    },
    {
      "cell_type": "code",
      "execution_count": 11,
      "metadata": {
        "id": "lYD5ChIS87E0"
      },
      "outputs": [
        {
          "name": "stdout",
          "output_type": "stream",
          "text": [
            "[inf, 1, inf, 1, inf, inf, inf, inf, inf] ไ\n",
            "[None, inf, inf, inf, inf, inf, inf, inf, inf] ป\n",
            "[None, None, inf, 2, 2, inf, inf, inf, inf] ห\n",
            "[None, None, None, inf, inf, inf, inf, inf, inf] า\n",
            "[None, None, None, None, inf, inf, inf, inf, 2] ม\n",
            "[None, None, None, None, None, inf, 3, inf, inf] เ\n",
            "[None, None, None, None, None, None, inf, inf, inf] ห\n",
            "[None, None, None, None, None, None, None, inf, 4] ส\n",
            "[None, None, None, None, None, None, None, None, inf] ี\n",
            "ไปหา|มเหสี\n"
          ]
        }
      ],
      "source": [
        "input_text = \"ไปหามเหสี\"\n",
        "out = maximal_matching(input_text, word_dict=thai_vocab) # MODIFIED\n",
        "for i in range(len(out)):\n",
        "    print(out[i],input_text[i])\n",
        "\n",
        "print_tokenized_text(out,input_text)"
      ]
    },
    {
      "cell_type": "markdown",
      "metadata": {
        "id": "ajiIkN-SQKCq"
      },
      "source": [
        "### <font color=blue>Question 2</font>\n",
        "Using your maximal matching algorithm and the actual Thai dictionary, how many “words” did you get when tokenizing this input text.\n",
        "\n",
        "Answer this question in question #2 in MyCourseVille. Also print out the answer in this notebook as well."
      ]
    },
    {
      "cell_type": "code",
      "execution_count": 12,
      "metadata": {
        "id": "G5Kd9_z-QV9D"
      },
      "outputs": [
        {
          "name": "stdout",
          "output_type": "stream",
          "text": [
            "words count : 26\n",
            "ประเทศ|ไทย|รวม|เลือดเนื้อ|ชาติ|เชื้อ|ไทย|เป็น|ประชา|รัฐ|ไผท|ของ|ไทย|ทุก|ส่วน|อยู่|ดำรง|คงไว้|ได้|ทั้งมวล|ด้วย|ไทย|ล้วน|หมาย|รัก|สามัคคี\n"
          ]
        }
      ],
      "source": [
        "input_text = \"ประเทศไทยรวมเลือดเนื้อชาติเชื้อไทยเป็นประชารัฐไผทของไทยทุกส่วนอยู่ดำรงคงไว้ได้ทั้งมวลด้วยไทยล้วนหมายรักสามัคคี\"\n",
        "\n",
        "dp = maximal_matching(input_text, word_dict=thai_vocab)\n",
        "print(\"words count :\", len(backtrack(dp)))\n",
        "print_tokenized_text(dp, input_text)"
      ]
    },
    {
      "cell_type": "markdown",
      "metadata": {
        "id": "hqtT1ISUHY_I"
      },
      "source": [
        "### Part 3.2) Use PyThaiNLP `word_tokenize` with custom dictionary\n",
        "\n",
        "Try tokenizing the following text with `word_tokenize` in `newmm` algorithm and default real dictionary."
      ]
    },
    {
      "cell_type": "code",
      "execution_count": 13,
      "metadata": {
        "id": "goQE5gFUL4KO"
      },
      "outputs": [
        {
          "name": "stdout",
          "output_type": "stream",
          "text": [
            "words count : 9\n",
            "['นัด', 'กินกัน', 'ตอน', 'ไหน', 'ก็', 'ได้ที่', 'สามย่าน', 'มิตร', 'ทาวน์']\n"
          ]
        }
      ],
      "source": [
        "text='นัดกินกันตอนไหนก็ได้ที่สามย่านมิตรทาวน์'\n",
        "\n",
        "####FILL CODE HERE####\n",
        "\n",
        "words = word_tokenize(text, custom_dict=Trie(thai_vocab), engine=\"newmm\")\n",
        "print(\"words count :\", len(words))\n",
        "print(words)\n",
        "######################"
      ]
    },
    {
      "cell_type": "markdown",
      "metadata": {
        "id": "2SlX5cEBMHPd"
      },
      "source": [
        "Add 'สามย่านมิตรทาวน์' into dictionary and then tokenize again"
      ]
    },
    {
      "cell_type": "code",
      "execution_count": 14,
      "metadata": {
        "id": "b4V9TqFaMPAj"
      },
      "outputs": [
        {
          "name": "stdout",
          "output_type": "stream",
          "text": [
            "words count : 7\n",
            "['นัด', 'กินกัน', 'ตอน', 'ไหน', 'ก็', 'ได้ที่', 'สามย่านมิตรทาวน์']\n"
          ]
        }
      ],
      "source": [
        "####FILL CODE HERE####\n",
        "\n",
        "custom_thai_vocab = thai_vocab.copy()\n",
        "custom_thai_vocab.append('สามย่านมิตรทาวน์')\n",
        "\n",
        "words = word_tokenize(text, custom_dict=Trie(custom_thai_vocab), engine=\"newmm\")\n",
        "print(\"words count :\", len(words))\n",
        "print(words)\n",
        "######################"
      ]
    },
    {
      "cell_type": "markdown",
      "metadata": {
        "id": "y1Lww7VVSmYj"
      },
      "source": [
        "### <font color=blue>Question 3</font>\n",
        "Using the code from part three only, how many “words” did you get when tokenizing this input text **after adding the new vocabs**.\n",
        "\n",
        "Answer this question in question #3 in MyCourseVille. Also print out the answer in this notebook as well."
      ]
    },
    {
      "cell_type": "code",
      "execution_count": 15,
      "metadata": {
        "id": "E_JHjViLajJi"
      },
      "outputs": [
        {
          "name": "stdout",
          "output_type": "stream",
          "text": [
            "words count : 51\n",
            "['อ๋อ', 'ก็', 'ว่า', 'จะ', 'ไป', 'เรียน', 'แต่งหน้า', 'นั่งสมาธิ', 'ดำน้ำ', 'ปลูก', 'ปะการัง', 'ทำอาหาร', 'นวด', 'สปา', 'ปลูกป่า', 'ดำนา', 'ดู', 'ดิสนีย์ออนไอซ์', 'แรลลี่', 'ตีกอล์ฟ', 'ล่องเรือ', 'ส่องสัตว์', 'ช้อปปิ้ง', 'ดู', 'งิ้ว', 'ดู', 'ละครเวที', 'ดู', 'คอนเสิร์ต', 'ดินเนอร์', 'ทำ', 'ขนม', 'จัด', 'ดอกไม้', 'เที่ยว', 'ตลาดน้ำ', 'เรียน', 'ถ่ายรูป', 'ดู', 'กายกรรม', 'ชม', 'เมือง', 'เก่า', 'เข้า', 'สัมมนา', 'ทัวร์', 'ธรรมมะ', 'เรียน', 'เต้น', 'แล้วก็', 'ร้องเพลง']\n"
          ]
        }
      ],
      "source": [
        "new_vocab = [\"ดิสนีย์ออนไอซ์\", \"ตีกอล์ฟ\", \"ธรรมมะ\"]\n",
        "input_text = \"อ๋อก็ว่าจะไปเรียนแต่งหน้านั่งสมาธิดำน้ำปลูกปะการังทำอาหารนวดสปาปลูกป่าดำนาดูดิสนีย์ออนไอซ์แรลลี่ตีกอล์ฟล่องเรือส่องสัตว์ช้อปปิ้งดูงิ้วดูละครเวทีดูคอนเสิร์ตดินเนอร์ทำขนมจัดดอกไม้เที่ยวตลาดน้ำเรียนถ่ายรูปดูกายกรรมชมเมืองเก่าเข้าสัมมนาทัวร์ธรรมมะเรียนเต้นแล้วก็ร้องเพลง\"\n",
        "\n",
        "custom_thai_vocab = custom_thai_vocab + new_vocab\n",
        "words = word_tokenize(input_text, custom_dict=Trie(custom_thai_vocab), engine=\"newmm\")\n",
        "print(\"words count :\", len(words))\n",
        "print(words)"
      ]
    },
    {
      "cell_type": "markdown",
      "metadata": {
        "id": "zKZEBhpQTeiA"
      },
      "source": [
        "## Part 4) Use maximal matching on real dataset\n",
        "\n",
        "To complete this exercise, we will use the maximal matching algorithm on NECTEC's BEST corpus.\n",
        "\n",
        "The corpus has a structure of characters with target whether it's a beginning of a word (True/False)."
      ]
    },
    {
      "cell_type": "code",
      "execution_count": 16,
      "metadata": {
        "id": "mdw7k8CzUSK4"
      },
      "outputs": [],
      "source": [
        "#Download dataset\n",
        "# !gdown \"1EcrlXYUyIEM3aeIJse6nPpiv_UjSKgoU&confirm=t\""
      ]
    },
    {
      "cell_type": "code",
      "execution_count": 17,
      "metadata": {
        "id": "QBdyPTEGUXDW"
      },
      "outputs": [],
      "source": [
        "# !tar xvf corpora.tar.gz"
      ]
    },
    {
      "cell_type": "code",
      "execution_count": 18,
      "metadata": {
        "id": "ndv-whcXU2_5"
      },
      "outputs": [],
      "source": [
        "import pandas as pd\n",
        "import os"
      ]
    },
    {
      "cell_type": "code",
      "execution_count": 19,
      "metadata": {
        "id": "l6fgMSRYUY5G"
      },
      "outputs": [
        {
          "data": {
            "text/html": [
              "<div>\n",
              "<style scoped>\n",
              "    .dataframe tbody tr th:only-of-type {\n",
              "        vertical-align: middle;\n",
              "    }\n",
              "\n",
              "    .dataframe tbody tr th {\n",
              "        vertical-align: top;\n",
              "    }\n",
              "\n",
              "    .dataframe thead th {\n",
              "        text-align: right;\n",
              "    }\n",
              "</style>\n",
              "<table border=\"1\" class=\"dataframe\">\n",
              "  <thead>\n",
              "    <tr style=\"text-align: right;\">\n",
              "      <th></th>\n",
              "      <th>char</th>\n",
              "      <th>target</th>\n",
              "    </tr>\n",
              "  </thead>\n",
              "  <tbody>\n",
              "    <tr>\n",
              "      <th>0</th>\n",
              "      <td>ป</td>\n",
              "      <td>True</td>\n",
              "    </tr>\n",
              "    <tr>\n",
              "      <th>1</th>\n",
              "      <td>ฏ</td>\n",
              "      <td>False</td>\n",
              "    </tr>\n",
              "    <tr>\n",
              "      <th>2</th>\n",
              "      <td>ิ</td>\n",
              "      <td>False</td>\n",
              "    </tr>\n",
              "    <tr>\n",
              "      <th>3</th>\n",
              "      <td>ร</td>\n",
              "      <td>False</td>\n",
              "    </tr>\n",
              "    <tr>\n",
              "      <th>4</th>\n",
              "      <td>ู</td>\n",
              "      <td>False</td>\n",
              "    </tr>\n",
              "    <tr>\n",
              "      <th>...</th>\n",
              "      <td>...</td>\n",
              "      <td>...</td>\n",
              "    </tr>\n",
              "    <tr>\n",
              "      <th>644911</th>\n",
              "      <td>ห</td>\n",
              "      <td>False</td>\n",
              "    </tr>\n",
              "    <tr>\n",
              "      <th>644912</th>\n",
              "      <td>น</td>\n",
              "      <td>False</td>\n",
              "    </tr>\n",
              "    <tr>\n",
              "      <th>644913</th>\n",
              "      <td>ม</td>\n",
              "      <td>True</td>\n",
              "    </tr>\n",
              "    <tr>\n",
              "      <th>644914</th>\n",
              "      <td>า</td>\n",
              "      <td>False</td>\n",
              "    </tr>\n",
              "    <tr>\n",
              "      <th>644915</th>\n",
              "      <td>\"</td>\n",
              "      <td>True</td>\n",
              "    </tr>\n",
              "  </tbody>\n",
              "</table>\n",
              "<p>2271932 rows × 2 columns</p>\n",
              "</div>"
            ],
            "text/plain": [
              "       char  target\n",
              "0         ป    True\n",
              "1         ฏ   False\n",
              "2         ิ   False\n",
              "3         ร   False\n",
              "4         ู   False\n",
              "...     ...     ...\n",
              "644911    ห   False\n",
              "644912    น   False\n",
              "644913    ม    True\n",
              "644914    า   False\n",
              "644915    \"    True\n",
              "\n",
              "[2271932 rows x 2 columns]"
            ]
          },
          "execution_count": 19,
          "metadata": {},
          "output_type": "execute_result"
        }
      ],
      "source": [
        "# Path to the preprocessed data\n",
        "best_processed_path = 'corpora/BEST'\n",
        "option = \"test\"\n",
        "\n",
        "df = []\n",
        "# article types in BEST corpus\n",
        "article_types = ['article', 'encyclopedia', 'news', 'novel']\n",
        "for article_type in article_types:\n",
        "    df.append(pd.read_csv(os.path.join(best_processed_path, option, 'df_best_{}_{}.csv'.format(article_type, option))))\n",
        "df = pd.concat(df)\n",
        "df"
      ]
    },
    {
      "cell_type": "code",
      "execution_count": 20,
      "metadata": {
        "id": "Dip-NI94U_YC"
      },
      "outputs": [
        {
          "data": {
            "text/plain": [
              "2271932"
            ]
          },
          "execution_count": 20,
          "metadata": {},
          "output_type": "execute_result"
        }
      ],
      "source": [
        "len(df)"
      ]
    },
    {
      "cell_type": "code",
      "execution_count": 21,
      "metadata": {
        "id": "7bNjYdcJVgov"
      },
      "outputs": [
        {
          "data": {
            "text/plain": [
              "'ปฏิรูปการศึกษา : มุมมองทางกระบวนทัศน์และบริบทสังคมไทยThe Reformation of Eucation from A Thai Perspectiveกระบวนทัศน์และวิธีคิดแบบแยกส่วน ลดส่วน ได้ทำให้\"การศึกษาเรียนรู้\"ใน หลายทศวรรษที่ผ่านมา กลายเป็นเรื่องของนักวิชาการด้านศึกษาศาสตร์ ครุศาสตร์ หรือเป็นเรื่องของโรงเรียน ครูอาจารย์ กระทรวงศึกษาธิการ ทบวงมหาวิทยาลัยฯ มาอย่างต่อเนื่องยาวนาน (เหมือนกับที่เรื่องสุขภาพเป็นเรื่องของแพทย์และโรงพยาบาล) การจัดการศึกษาภายใต้กระบวนทัศน์และวิธีคิดแบบดังกล่าวของรัฐ ได้ถูกวิพากษ์วิจารณ์และตกเป็นจำเลยจากวิกฤตการณ์ทางสังคมมากมาย อันสะท้อนถึงความล้มเหลวของการจัดการศึกษาเพื่อพัฒนามนุษย์ (ปัญหาศีลธรรมเสื่อมถอย ยาเสพติด การขาดจิตสำนึกทางสังคม ฯลฯ) ซึ่งสังคมร่วมกันสรุปว่า เกิดจากความล้มเหลวของระบบการศึกษาในกระบวนทัศน์แบบแยกส่วน นำมาสู่การปฏิรูปการศึกษาที่กำลังดำเนินการอยู่ในปัจจุบัน ด้วยเป้าหมายเพื่อสร้างการเรียนรู้แบบองค์รวม ที่จะทำให้\"ผู้เรียนเก่ง-ดี-มีความสุข\"คำถามที่ผู้เขียนสนใจในการปฏิรูปการศึกษาที่ดำเนินการในปัจจุบัน คือ๑.การปฏิรูปการศึกษาในปัจจุบันดำเนินการภายใต้กระบวนทัศน์แบบบูรณาการ (องค์รวม)ตามที่'"
            ]
          },
          "execution_count": 21,
          "metadata": {},
          "output_type": "execute_result"
        }
      ],
      "source": [
        "# Some text in this corpus\n",
        "all_text = \"\".join(df['char'].tolist())\n",
        "all_text[:1000]"
      ]
    },
    {
      "cell_type": "markdown",
      "metadata": {
        "id": "18d3EXoPWg7o"
      },
      "source": [
        "### <font color=blue>Question 4</font>\n",
        "Using PyThaiNLP `newmm`, how many words did you get in the BEST corpus (test)? [Runtime is around 7 mins] What are the accuracy, f1, precision, recall scores for each character?\n",
        "\n",
        "Answer this question in question #4 in MyCourseVille. Also print out the answer in this notebook as well.\n",
        "\n",
        "_Question: What main metric should we look at? Why?_\n",
        "<br>\n",
        "_Answer: We can look at accuracy to see the accuracy of our model (total correct prediction out of all ground truth)"
      ]
    },
    {
      "cell_type": "code",
      "execution_count": 22,
      "metadata": {
        "id": "2RUPPoxLWZr8"
      },
      "outputs": [
        {
          "name": "stdout",
          "output_type": "stream",
          "text": [
            "words count : 569631\n"
          ]
        }
      ],
      "source": [
        "####FILL CODE HERE####\n",
        "\n",
        "words = word_tokenize(all_text, engine=\"newmm\")\n",
        "print(\"words count :\", len(words))\n",
        "# print(words)\n",
        "######################"
      ]
    },
    {
      "cell_type": "code",
      "execution_count": 23,
      "metadata": {
        "id": "o40FPwvIXKIQ"
      },
      "outputs": [
        {
          "data": {
            "text/plain": [
              "[1, 0, 0, 0, 0, 0, 1, 0, 0, 0, 0, 0, 0, 0, 1, 1, 1, 1, 0, 0]"
            ]
          },
          "execution_count": 23,
          "metadata": {},
          "output_type": "execute_result"
        }
      ],
      "source": [
        "def convert_to_character(_tokens):\n",
        "  char_list = [0]*len(\"\".join(_tokens))\n",
        "  char_count = 0\n",
        "  for word in _tokens:\n",
        "    char_list[char_count] = 1\n",
        "    char_count += len(word)\n",
        "  return char_list\n",
        "\n",
        "# this code flag the character that is the beginning of the word\n",
        "chars = convert_to_character(words)\n",
        "chars[:20]"
      ]
    },
    {
      "cell_type": "code",
      "execution_count": 24,
      "metadata": {
        "id": "5NXWxbiWZHSd"
      },
      "outputs": [
        {
          "name": "stdout",
          "output_type": "stream",
          "text": [
            "f1_score: 0.8925828735253718\n",
            "precision: 0.9422661336900555\n",
            "recall: 0.8478765332638281\n",
            "accuracy: 0.9431373826329309\n"
          ]
        }
      ],
      "source": [
        "from sklearn.metrics import f1_score,precision_score,recall_score,accuracy_score\n",
        "\n",
        "####FILL CODE HERE####\n",
        "y = df.target.tolist()\n",
        "# given input chars (word starter flag ) and output y\n",
        "# calculate the f1_score, precision, recall, and accuracy\n",
        "\n",
        "f1 = f1_score(y, chars)\n",
        "precision = precision_score(y, chars)\n",
        "recall = recall_score(y, chars)\n",
        "accuracy = accuracy_score(y, chars)\n",
        "\n",
        "print(\"f1_score:\", f1)\n",
        "print(\"precision:\", precision)\n",
        "print(\"recall:\", recall)\n",
        "print(\"accuracy:\", accuracy)\n",
        "\n",
        "######################"
      ]
    },
    {
      "cell_type": "code",
      "execution_count": null,
      "metadata": {},
      "outputs": [],
      "source": []
    }
  ],
  "metadata": {
    "colab": {
      "provenance": [],
      "toc_visible": true
    },
    "kernelspec": {
      "display_name": "nlp",
      "language": "python",
      "name": "python3"
    },
    "language_info": {
      "codemirror_mode": {
        "name": "ipython",
        "version": 3
      },
      "file_extension": ".py",
      "mimetype": "text/x-python",
      "name": "python",
      "nbconvert_exporter": "python",
      "pygments_lexer": "ipython3",
      "version": "3.10.16"
    }
  },
  "nbformat": 4,
  "nbformat_minor": 0
}
