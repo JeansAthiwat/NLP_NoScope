{
  "nbformat": 4,
  "nbformat_minor": 0,
  "metadata": {
    "kernelspec": {
      "display_name": "Python 3",
      "name": "python3"
    },
    "language_info": {
      "codemirror_mode": {
        "name": "ipython",
        "version": 3
      },
      "file_extension": ".py",
      "mimetype": "text/x-python",
      "name": "python",
      "nbconvert_exporter": "python",
      "pygments_lexer": "ipython3",
      "version": "3.6.4"
    },
    "colab": {
      "provenance": [],
      "toc_visible": true
    }
  },
  "cells": [
    {
      "cell_type": "markdown",
      "metadata": {
        "collapsed": true,
        "id": "15QfB7RAuXAc"
      },
      "source": [
        "# Language Modeling using Ngram"
      ]
    },
    {
      "cell_type": "markdown",
      "metadata": {
        "id": "gucid6KNuXAe"
      },
      "source": [
        "In this Exercise, we are going to create a bigram language model and its variation. We will build one model for each of the following type and calculate their perplexity:\n",
        "- Unigram Model\n",
        "- Bigram Model\n",
        "- Bigram Model with Laplace smoothing\n",
        "- Bigram Model with Interpolation\n",
        "- Bigram Model with Kneser-ney Interpolation\n",
        "\n",
        "We will also use NLTK which is a natural language processing library for python to make our lives easier.\n",
        "\n"
      ]
    },
    {
      "cell_type": "code",
      "execution_count": 1,
      "metadata": {
        "id": "MRRrn78ZjL54"
      },
      "source": [
        "# # #download corpus\n",
        "# !wget --no-check-certificate https://github.com/ekapolc/nlp_2019/raw/master/HW4/BEST2010.zip\n",
        "# !unzip BEST2010.zip"
      ]
    },
    {
      "cell_type": "code",
      "execution_count": 2,
      "metadata": {
        "id": "qeyvLSptdKXj"
      },
      "outputs": [],
      "source": [
        "# !wget https://www.dropbox.com/s/jajdlqnp5h0ywvo/tokenized_wiki_sample.csv"
      ]
    },
    {
      "cell_type": "code",
      "execution_count": 3,
      "metadata": {
        "id": "GjJDeG03uXAf"
      },
      "source": [
        "#First we import necessary library such as math, nltk, bigram, and collections.\n",
        "import math\n",
        "import nltk\n",
        "import io\n",
        "import random\n",
        "from random import shuffle\n",
        "from nltk import bigrams, trigrams\n",
        "from collections import Counter, defaultdict\n",
        "random.seed(999)"
      ],
      "execution_count": null,
      "outputs": []
    },
    {
      "cell_type": "markdown",
      "metadata": {
        "id": "HugXBHNEuXAh"
      },
      "source": [
        "BEST2010 is a free Thai NLP dataset by NECTEC usually used as a standard benchmark for various NLP tasks including language modeling. It is separated into 4 domains including article, encyclopedia, news, and novel. The data is already  tokenized using '|' as a separator.\n",
        "\n",
        "For example,\n",
        "\n",
        "ตาม|ที่|นางประนอม ทองจันทร์| |กับ| |ด.ช.กิตติพงษ์ แหลมผักแว่น| |และ| |ด.ญ.กาญจนา กรองแก้ว| |ป่วย|สงสัย|ติด|เชื้อ|ไข้|ขณะ|นี้|ยัง|ไม่|ดี|ขึ้น|"
      ]
    },
    {
      "cell_type": "code",
      "execution_count": 4,
      "metadata": {
        "id": "iu-AJSZZuXAi"
      },
      "source": [
        "total_word_count = 0\n",
        "best2010 = []\n",
        "with open('BEST2010/news.txt','r',encoding='utf-8') as f:\n",
        "  for i,line in enumerate(f):\n",
        "    line=line.strip()[:-1] #remove the trailing |\n",
        "    total_word_count += len(line.split(\"|\"))\n",
        "    best2010.append(line)"
      ],
      "execution_count": null,
      "outputs": []
    },
    {
      "cell_type": "code",
      "execution_count": 5,
      "metadata": {
        "id": "3WfpGgbruXAj"
      },
      "outputs": [
        {
          "name": "stdout",
          "output_type": "stream",
          "text": [
            "Total sentences in BEST2010 news dataset :\t30969\n",
            "Total word counts in BEST2010 news dataset :\t1660190\n"
          ]
        }
      ],
      "source": [
        "#For simplicity, we assumes that each line is a sentence.\n",
        "print (f'Total sentences in BEST2010 news dataset :\\t{len(best2010)}')\n",
        "print (f'Total word counts in BEST2010 news dataset :\\t{total_word_count}')"
      ],
      "execution_count": null,
      "outputs": []
    },
    {
      "cell_type": "markdown",
      "metadata": {
        "id": "_JD9iXF1uXAm"
      },
      "source": [
        "We separate the input into 2 sets, train and test data with 70:30 ratio"
      ]
    },
    {
      "cell_type": "code",
      "execution_count": 6,
      "metadata": {
        "id": "_WGcQq_juXAm"
      },
      "outputs": [
        {
          "name": "stdout",
          "output_type": "stream",
          "text": [
            "Total sentences in BEST2010 news training dataset :\t21678\n",
            "Total word counts in BEST2010 news training dataset :\t1042797\n"
          ]
        }
      ],
      "source": [
        "sentences = best2010\n",
        "# The data is separated to train and test set with 70:30 ratio.\n",
        "train = sentences[:int(len(sentences)*0.7)]\n",
        "test = sentences[int(len(sentences)*0.7):]\n",
        "\n",
        "#Training data\n",
        "train_word_count =0\n",
        "for line in train:\n",
        "    for word in line.split('|'):\n",
        "        train_word_count+=1\n",
        "print ('Total sentences in BEST2010 news training dataset :\\t'+ str(len(train)))\n",
        "print ('Total word counts in BEST2010 news training dataset :\\t'+ str(train_word_count))"
      ],
      "execution_count": null,
      "outputs": []
    },
    {
      "cell_type": "markdown",
      "source": [
        "Here we load the data from Wikipedia which is also already tokenized. It will be used for answering questions in MyCourseville."
      ],
      "metadata": {
        "id": "17x6tW-3ae7Z"
      }
    },
    {
      "cell_type": "code",
      "execution_count": 7,
      "metadata": {
        "id": "0fAl6dTg_9HG"
      },
      "outputs": [],
      "source": [
        "import pandas as pd\n",
        "wiki_data = pd.read_csv(\"tokenized_wiki_sample.csv\")"
      ],
      "metadata": {
        "id": "0fAl6dTg_9HG"
      },
      "execution_count": null,
      "outputs": []
    },
    {
      "cell_type": "markdown",
      "source": [
        "## Data Preprocessing\n",
        "\n",
        "Before training any language models, the first step we always do is process the data into the format suited for the LM.\n",
        "\n",
        "For this exercise, we will use NLTK to help process our data."
      ],
      "metadata": {
        "id": "H1W5bm-hbQXa"
      }
    },
    {
      "cell_type": "code",
      "execution_count": 8,
      "metadata": {
        "id": "4OIqxJB7P29D"
      },
      "outputs": [],
      "source": [
        "from nltk.lm.preprocessing import pad_both_ends, flatten\n",
        "from nltk.lm.vocabulary import Vocabulary\n",
        "from nltk import ngrams"
      ],
      "metadata": {
        "id": "4OIqxJB7P29D"
      },
      "execution_count": null,
      "outputs": []
    },
    {
      "cell_type": "markdown",
      "source": [
        "We begin by \"tokenizing\" our training set. Note that the data is already tokenized so we can just split it."
      ],
      "metadata": {
        "id": "Oy0ZN2_0bzRr"
      }
    },
    {
      "cell_type": "code",
      "execution_count": 9,
      "metadata": {
        "id": "WQM0PXnXbzCN"
      },
      "outputs": [],
      "source": [
        "tokenized_train = [[\"<s>\"] + t.split(\"|\") + [\"</s>\"] for t in train] # \"tokenize\" and pad each sentence"
      ]
    },
    {
      "cell_type": "markdown",
      "source": [
        "Next we create a vocabulary with the ```Vocabulary``` class from NLTK. It accepts a list of tokens so we flatten our sentences into one long sentence first.\n",
        "\n",
        "\n",
        "\n",
        "\n",
        "\n"
      ],
      "metadata": {
        "id": "TM2ylNRNcrg9"
      }
    },
    {
      "cell_type": "code",
      "execution_count": 10,
      "metadata": {
        "id": "Tbp-VmkHcq4d"
      },
      "outputs": [],
      "source": [
        "flat_tokens = list(flatten(tokenized_train)) #join all sentences into one long sentence\n",
        "vocab = Vocabulary(flat_tokens, unk_cutoff=3) #Words with frequency **below** 3 (not exactly 3) will not be considered in our vocab and will be converted to <UNK>."
      ],
      "metadata": {
        "id": "Tbp-VmkHcq4d"
      },
      "execution_count": null,
      "outputs": []
    },
    {
      "cell_type": "markdown",
      "source": [
        "Then we replace low frequency words.\n",
        "Then we replace low frequency words.\n",
        "\n",
        "Now *each* sentence is going to look something like this:\n",
        "\\[\"\\<s\\>\", \"hello\", \"my\", \"name\", \"is\", \"\\<UNK\\>\", \"\\</s\\>\" \\]"
      ],
      "metadata": {
        "id": "oFnBHe6ScAaV"
      }
    },
    {
      "cell_type": "code",
      "execution_count": 11,
      "metadata": {
        "id": "9q6QakuibxqN"
      },
      "outputs": [],
      "source": [
        "tokenized_train = [[token if token in vocab else \"<UNK>\" for token in sentence] for sentence in tokenized_train]"
      ]
    },
    {
      "cell_type": "markdown",
      "source": [
        "Finally, we do the same for the test set and the wiki dataset."
      ],
      "metadata": {
        "id": "Dn6GxaSFeSpD"
      }
    },
    {
      "cell_type": "code",
      "execution_count": 12,
      "metadata": {
        "id": "D4N6qKrPadIj"
      },
      "outputs": [],
      "source": [
        "tokenized_test = [t.split(\"|\") for t in test]\n",
        "tokenized_test = [[token if token in vocab else \"<UNK>\" for token in sentence] for sentence in tokenized_test]\n",
        "\n",
        "tokenized_wiki_test = [t.split(\"|\") for t in wiki_data['tokenized'].tolist()]\n",
        "tokenized_wiki_test = [[token if token in vocab else \"<UNK>\" for token in sentence] for sentence in tokenized_wiki_test]"
      ]
    },
    {
      "cell_type": "markdown",
      "metadata": {
        "id": "pHtCMFMluXAo"
      },
      "source": [
        "# Unigram"
      ]
    },
    {
      "cell_type": "markdown",
      "metadata": {
        "id": "2V1WQTGzuXAp"
      },
      "source": [
        "In this section, we will demonstrate how to build a unigram language model <br>\n",
        "**Important note:** <br>\n",
        "**\\<s\\>** = sentence start symbol <br>\n",
        "**\\</s\\>** = sentence end symbol"
      ]
    },
    {
      "cell_type": "markdown",
      "source": [
        "# VERY IMPORTANT:\n",
        "- In this notebook, we will *not* default the unknown token probability to ```1/len(vocab)``` but instead will treat it as a normal word and let the model learn its probability so that we can compare our results to NLTK.\n",
        "- **Also make sure that the code in this notebook can be executed without any problem. If we find that you used NLTK to answer questions in MyCourseVille and did not finish the assignment, you will receive a grade of 0 for this assignment.**"
      ],
      "metadata": {
        "id": "Xd7qOd7KAYWM"
      }
    },
    {
      "cell_type": "code",
      "execution_count": 13,
      "metadata": {
        "id": "CTV-i9kdse58"
      },
      "outputs": [],
      "source": [
        "class UnigramModel():\n",
        "  def __init__(self, data, vocab):\n",
        "    self.unigram_count = defaultdict(lambda: 0.0)\n",
        "    self.word_count = 0\n",
        "    self.vocab = vocab\n",
        "    for sentence in data:\n",
        "        for w in sentence: #[(word1, ), (word2, ), (word3, )...]\n",
        "          w = w[0]\n",
        "          self.unigram_count[w] +=1.0\n",
        "          self.unigram_count[w] +=1.0\n",
        "          self.word_count+=1\n",
        "\n",
        "  def __getitem__(self, w):\n",
        "    w = w[0]  #[(word1, ), (word2, ), (word3, )...]\n",
        "    if w in self.vocab:\n",
        "      return self.unigram_count[w]/(self.word_count)\n",
        "    else:\n",
        "      return self.unigram_count[\"<UNK>\"]/(self.word_count)"
      ],
      "metadata": {
        "id": "CTV-i9kdse58"
      },
      "execution_count": null,
      "outputs": []
    },
    {
      "cell_type": "code",
      "execution_count": 14,
      "metadata": {
        "id": "FnWJJ8Hqs8Qs"
      },
      "outputs": [],
      "source": [
        "train_unigrams = [list(ngrams(sent, n=1)) for sent in tokenized_train] #creating the unigrams by setting n=1\n",
        "model = UnigramModel(train_unigrams, vocab)"
      ]
    },
    {
      "cell_type": "code",
      "execution_count": 15,
      "metadata": {
        "id": "6coGxSY7uXAt"
      },
      "source": [
        "def getLnValue(x):\n",
        "      if x == 0:\n",
        "        return -math.inf\n",
        "      if x == 0:\n",
        "        return -math.inf\n",
        "      return math.log(x)"
      ],
      "execution_count": null,
      "outputs": []
    },
    {
      "cell_type": "code",
      "execution_count": 16,
      "metadata": {
        "id": "cFy8yhZjuXAv"
      },
      "outputs": [
        {
          "name": "stdout",
          "output_type": "stream",
          "text": [
            "-6.571687039690381\n",
            "-3.952132570275872\n",
            "Problability of a sentence 4.877889285183675e-18\n"
          ]
        }
      ],
      "source": [
        "#problability of 'นายก'\n",
        "print(getLnValue(model[('นายก',)]))\n",
        "print(getLnValue(model[('นายก',)]))\n",
        "\n",
        "#for example, problability of 'นายกรัฐมนตรี' which is an unknown word is equal to\n",
        "print(getLnValue(model[('นายกรัฐมนตรี',)]))\n",
        "print(getLnValue(model[('นายกรัฐมนตรี',)]))\n",
        "\n",
        "#problability of 'นายก' 'ได้' 'ให้' 'สัมภาษณ์' 'กับ' 'สื่อ'\n",
        "prob = getLnValue(model[('นายก',)])+getLnValue(model[('ได้',)])+ getLnValue(model[('ให้',)])+getLnValue(model[('สัมภาษณ์',)])+getLnValue(model[('กับ',)])+getLnValue(model[('สื่อ',)])+getLnValue(model[('</s>',)])\n",
        "prob = getLnValue(model[('นายก',)])+getLnValue(model[('ได้',)])+ getLnValue(model[('ให้',)])+getLnValue(model[('สัมภาษณ์',)])+getLnValue(model[('กับ',)])+getLnValue(model[('สื่อ',)])+getLnValue(model[('</s>',)])\n",
        "print ('Problability of a sentence', math.exp(prob))"
      ],
      "execution_count": null,
      "outputs": []
    },
    {
      "cell_type": "markdown",
      "metadata": {
        "id": "D8EfqnDsuXAw"
      },
      "source": [
        "# Perplexity\n",
        "\n",
        "In order to compare language model we need to calculate perplexity. In this task you should write a perplexity calculation code for the unigram model. The result perplexity should be around 448.90 and\n",
        "392.74 on train and test data."
        "In order to compare language model we need to calculate perplexity. In this task you should write a perplexity calculation code for the unigram model. The result perplexity should be around 448.90 and\n",
        "392.74 on train and test data."
      ]
    },
    {
      "cell_type": "markdown",
      "metadata": {
        "id": "hZHQ-6tVuXAx"
      },
      "source": [
        "## TODO #1 Calculate perplexity"
      ]
    },
    {
      "cell_type": "code",
      "execution_count": 17,
      "metadata": {
        "id": "kh0DwzoouXAx"
      },
      "source": [
        "def getLnValue(x):\n",
        "    if x == 0:\n",
        "        return -math.inf\n",
        "    return math.log(x)\n",
        "\n",
        "def calculate_sentence_ln_prob(sentence, model):\n",
        "    ln_prob = 0.0\n",
        "    for w in sentence:\n",
        "      ln_prob += getLnValue(model[w])\n",
        "    return ln_prob\n",
        "\n",
        "def perplexity(test,model):\n",
        "    total_ln_prob = 0.0\n",
        "    for sentence in test:\n",
        "        # print(sentence)\n",
        "        ln_prob = calculate_sentence_ln_prob(sentence,model)\n",
        "        total_ln_prob += ln_prob\n",
        "    N = len(list(flatten(test)))\n",
        "    return math.exp(-total_ln_prob/N)"
      ]
    },
    {
      "cell_type": "code",
      "execution_count": 18,
      "metadata": {
        "id": "X-t_8mEzRxT-"
      },
      "outputs": [],
      "source": [
        "test_unigrams = [list(ngrams(sent, n=1)) for sent in tokenized_test]"
      ]
    },
    {
      "cell_type": "code",
      "execution_count": 19,
      "metadata": {
        "id": "PztVYprdtBja"
      },
      "outputs": [
        {
          "name": "stdout",
          "output_type": "stream",
          "text": [
            "448.89690751824827\n",
            "392.74028966757214\n"
          ]
        }
      ],
      "source": [
        "print(perplexity(train_unigrams,model))\n",
        "print(perplexity(test_unigrams,model))"
      ],
      "metadata": {
        "id": "PztVYprdtBja"
      },
      "execution_count": null,
      "outputs": []
    },
    {
      "cell_type": "markdown",
      "source": [
        "## Q1 MCV\n",
        "Calculate the perplexity of the model on the wiki test set and answer in MyCourseVille"
      ],
      "metadata": {
        "id": "PHnBXtt3b-OY"
      }
    },
    {
      "cell_type": "code",
      "execution_count": 20,
      "metadata": {
        "id": "JRd6hF_WSBl_"
      },
      "outputs": [],
      "source": [
        "wiki_test_unigrams = [list(ngrams(sent, n=1)) for sent in tokenized_wiki_test]"
      ]
    },
    {
      "cell_type": "code",
      "execution_count": 21,
      "metadata": {
        "id": "I_LiSohADNLC"
      },
      "outputs": [
        {
          "name": "stdout",
          "output_type": "stream",
          "text": [
            "485.7336366066887\n"
          ]
        }
      ],
      "source": [
        "print(perplexity([list(flatten(wiki_test_unigrams))], model))"
      ]
    },
    {
      "cell_type": "markdown",
      "metadata": {
        "id": "lK0gaMf0uXA2"
      },
      "source": [
        "# Bigram"
      ]
    },
    {
      "cell_type": "markdown",
      "metadata": {
        "id": "dmTkAY_QuXA3"
      },
      "source": [
        "Next, you will create a better language model than a unigram (which is not much to compare with). But first, it is very tedious to count every pair of words that occur in our corpus by ourselves. Lucky for us, nltk provides us a simple library which will simplify the process."
      ]
    },
    {
      "cell_type": "code",
      "execution_count": 22,
      "metadata": {
        "id": "Lv6r2LJ1uXA4"
      },
      "outputs": [
        {
          "name": "stdout",
          "output_type": "stream",
          "text": [
            "['<s>', 'I', 'always', 'search', 'google', 'for', 'an', 'answer', '.', '</s>']\n",
            "This is how nltk generate bigram.\n",
            "<s> I\n",
            "I always\n",
            "always search\n",
            "search google\n",
            "google for\n",
            "for an\n",
            "an answer\n",
            "answer .\n",
            ". </s>\n",
            "\n",
            "<s> and </s> are used as a start and end of sentence symbol. respectively.\n"
          ]
        }
      ],
      "source": [
        "#example of nltk usage for bigram\n",
        "sentence = 'I always search google for an answer .'\n",
        "padded_sentence = list(pad_both_ends(sentence.split(), n=2))\n",
        "print(padded_sentence)\n",
        "print('This is how nltk generate bigram.')\n",
        "for w1,w2 in bigrams(padded_sentence):\n",
        "    print(w1,w2)\n",
        "print('\\n<s> and </s> are used as a start and end of sentence symbol. respectively.')"
      ],
      "execution_count": null,
      "outputs": []
    },
    {
      "cell_type": "markdown",
      "metadata": {
        "id": "5R2T-6i9uXA6"
      },
      "source": [
        "Now, you should be able to implement a bigram model by yourself. Also, you must create a new perplexity calculation for bigram. The result perplexity should be around 56.46 and inf on train and test data."
        "Now, you should be able to implement a bigram model by yourself. Also, you must create a new perplexity calculation for bigram. The result perplexity should be around 56.46 and inf on train and test data."
      ]
    },
    {
      "cell_type": "markdown",
      "metadata": {
        "id": "9aYkjzTzuXA7"
      },
      "source": [
        "## TODO #3 Write Bigram Model"
      ]
    },
    {
      "cell_type": "code",
      "execution_count": 23,
      "metadata": {
        "id": "l4s7oSmjkNuU"
      },
      "source": [
        "class BigramModel():\n",
        "  def __init__(self, data, vocab):\n",
        "    self.data = data\n",
        "    self.vocab = vocab\n",
        "    self.bigram_count = defaultdict(lambda: defaultdict(lambda: 0.0))\n",
        "    self.unigram_count = defaultdict(lambda: 0.0)\n",
        "    \n",
        "    # print(self.data)\n",
        "    for sentence in data:\n",
        "      for w1,w2 in sentence:\n",
        "        self.unigram_count[w1] +=1.0\n",
        "        self.bigram_count[w1][w2] +=1.0\n",
        "      self.unigram_count[sentence[-1][-1]] += 1.0 \n",
        "\n",
        "  def __getitem__(self, bigram):\n",
        "    w1, w2 = bigram\n",
        "    ratio = self.bigram_count[w1][w2]/self.unigram_count[w1]\n",
        "    # print(f'P({w2}|{w1}) = {self.bigram_count[w1][w2]}/{self.unigram_count[w1]} = {ratio}')\n",
        "    return ratio\n"
      ]
    },
    {
      "cell_type": "markdown",
      "metadata": {
        "id": "i3_Cgu6guXA-"
      },
      "source": [
        "## TODO #4 Write Perplexity for Bigram Model\n",
        "\n",
        "Sum perplexity score at a sentence level, instead of word level"
      ]
    },
    {
      "cell_type": "code",
      "execution_count": 24,
      "metadata": {
        "id": "hICoAhZjAxo1"
      },
      "source": [
        "def perplexity(bigram_data,model):\n",
        "    total_ln_prob = 0.0\n",
        "    for bi in bigram_data[0]:\n",
        "        ln_prob = getLnValue(model[bi])\n",
        "        total_ln_prob += ln_prob\n",
        "    N = len(bigram_data[0])\n",
        "    perplexity = math.exp(-total_ln_prob/N)\n",
        "    return perplexity"
      ]
    },
    {
      "cell_type": "code",
      "execution_count": 25,
      "metadata": {
        "id": "NxJYI3_TS2gf"
      },
      "outputs": [],
      "source": [
        "train_bigrams = [list(ngrams(sent, n=2)) for sent in tokenized_train]\n",
        "test_bigrams = [list(ngrams(sent, n=2)) for sent in tokenized_test]\n",
        "# list(flatten(train_bigrams))[:16]"
      ]
    },
    {
      "cell_type": "code",
      "execution_count": 26,
      "metadata": {
        "id": "A4DD_RPFtxUo"
      },
      "execution_count": null,
      "outputs": []
    },
    {
      "cell_type": "code",
      "execution_count": 27,
      "metadata": {
        "id": "yw4BubpbtuV7"
      },
      "outputs": [
        {
          "name": "stdout",
          "output_type": "stream",
          "text": [
            "56.45504870219316\n",
            "24.598691603876187\n",
            "inf\n"
          ]
        }
      ],
      "source": [
        "print(perplexity([list(flatten(train_bigrams))], bigram_model_scratch))\n",
        "print(perplexity([list(flatten(test_bigrams))[:16]], bigram_model_scratch)) #can be used to compare with nltk\n",
        "print(perplexity([list(flatten(test_bigrams))[:16]], bigram_model_scratch)) #can be used to compare with nltk\n",
        "print(perplexity([list(flatten(test_bigrams))], bigram_model_scratch))"
      ],
      "metadata": {
        "id": "yw4BubpbtuV7"
      },
      "execution_count": null,
      "outputs": []
    },
    {
      "cell_type": "markdown",
      "source": [
        "## Q2 MCV"
      ],
      "metadata": {
        "id": "PRv294uQcZFC"
      }
    },
    {
      "cell_type": "code",
      "execution_count": 28,
      "metadata": {
        "id": "kCeRCyOIUWTS"
      },
      "outputs": [],
      "source": [
        "wiki_test_bigrams = [list(ngrams(sent, n=2)) for sent in tokenized_wiki_test]"
      ]
    },
    {
      "cell_type": "code",
      "execution_count": 29,
      "metadata": {
        "id": "q47hutRqIg1z"
      },
      "outputs": [
        {
          "name": "stdout",
          "output_type": "stream",
          "text": [
            "inf\n"
          ]
        }
      ],
      "source": [
        "print(perplexity([list(flatten(wiki_test_bigrams))],bigram_model_scratch))"
      ]
    },
    {
      "cell_type": "markdown",
      "metadata": {
        "id": "9BAF9DQbuXBC"
      },
      "source": [
        "# Smoothing"
      ]
    },
    {
      "cell_type": "markdown",
      "metadata": {
        "id": "jlm75BWLuXBC"
      },
      "source": [
        "Usually any ngram models have a sparsity problem, which means it does not have every possible ngram of words in the dataset. Smoothing techniques can alleviate this problem. In this section, you will implement three basic smoothing methods laplace smoothing, interpolation for bigram, and Knesey-Ney smoothing."
      ]
    },
    {
      "cell_type": "markdown",
      "metadata": {
        "id": "jwa7YQiouXBD"
      },
      "source": [
        "## TODO #5 write Bigram with Laplace smoothing (Add-One Smoothing)\n",
        "\n",
        "The result perplexity on training and testing should be:\n",
        "\n",
        "    370.28, 369.16 for Laplace smoothing"
        "    370.28, 369.16 for Laplace smoothing"
      ]
    },
    {
      "cell_type": "code",
      "execution_count": 30,
      "metadata": {
        "id": "j2Bw4C9T_UEs"
      },
      "outputs": [
        {
          "name": "stdout",
          "output_type": "stream",
          "text": [
            "370.28232024056035\n",
            "369.1605485652555\n"
          ]
        }
      ],
      "source": [
        "class BigramWithLaplaceSmoothing():\n",
        "\n",
        "  def __init__(self, data, vocab):\n",
        "    self.data = data\n",
        "    self.vocab = vocab\n",
        "    self.bigram_count = defaultdict(lambda: defaultdict(lambda: 0.0))\n",
        "    self.unigram_count = defaultdict(lambda: 0.0)\n",
        "    \n",
        "    for sentence in data:\n",
        "      for w1,w2 in sentence:\n",
        "        self.unigram_count[w1] +=1.0\n",
        "        self.bigram_count[w1][w2] +=1.0\n",
        "      self.unigram_count[sentence[-1][-1]] += 1.0 \n",
        "\n",
        "  def __getitem__(self, bigram):\n",
        "    w1, w2 = bigram\n",
        "    ratio = (self.bigram_count[w1][w2]+1)/(self.unigram_count[w1]+len(self.vocab)) # +1 for laplace smoothing\n",
        "    return ratio\n",
        "\n",
        "\n",
        "model = BigramWithLaplaceSmoothing(train_bigrams, vocab)\n",
        "print(perplexity([list(flatten(train_bigrams))],model))\n",
        "print(perplexity([list(flatten(test_bigrams))], model))"
      ],
      "metadata": {
        "id": "j2Bw4C9T_UEs"
      },
      "execution_count": null,
      "outputs": []
    },
    {
      "cell_type": "markdown",
      "source": [
        "## Q3 MCV"
      ],
      "metadata": {
        "id": "mFT4uhIGhP0c"
      }
    },
    {
      "cell_type": "code",
      "execution_count": 31,
      "metadata": {
        "id": "jSH60cshIpDy"
      },
      "outputs": [
        {
          "name": "stdout",
          "output_type": "stream",
          "text": [
            "735.0253999215859\n"
          ]
        }
      ],
      "source": [
        "print(perplexity([list(flatten(wiki_test_bigrams))],model))"
      ]
    },
    {
      "cell_type": "markdown",
      "metadata": {
        "id": "5JDswBSIuXBG"
      },
      "source": [
        "## TODO #6 Write Bigram with Interpolation\n",
        "Set the lambda value as 0.7 for bigram, 0.25 for unigram, and 0.05 for unknown word.\n",
        "\n",
        "The result perplexity on training and testing should be:\n",
        "\n",
        "    70.07, 102.99 for Interpolation"
        "    70.07, 102.99 for Interpolation"
      ]
    },
    {
      "cell_type": "code",
      "execution_count": 32,
      "metadata": {
        "id": "PIeDBLarvZUT"
      },
      "outputs": [
        {
          "name": "stdout",
          "output_type": "stream",
          "text": [
            "70.06754793707988\n",
            "102.99295310997627\n"
          ]
        }
      ],
      "source": [
        "class BigramWithInterpolation():\n",
        "\n",
        "  def __init__(self, data, vocab):\n",
        "    self.data = data\n",
        "    self.vocab = vocab\n",
        "    self.bigram_count = defaultdict(lambda: defaultdict(lambda: 0.0))\n",
        "    self.unigram_count = defaultdict(lambda: 0.0)\n",
        "    self.word_count = 0\n",
        "    self.model_lambda = [0.70, 0.25, 0.05]\n",
        "    \n",
        "    for sentence in data:\n",
        "      for w1,w2 in sentence:\n",
        "        self.unigram_count[w1] +=1.0\n",
        "        self.bigram_count[w1][w2] +=1.0\n",
        "        self.word_count += 1\n",
        "    \n",
        "      self.unigram_count[sentence[-1][-1]] += 1.0 \n",
        "      self.word_count += 1\n",
        "      \n",
        "    # self.unknown_prob = self.unigram_count[\"<UNK>\"]/self.word_count\n",
        "    self.unknown_prob = 1/len(self.vocab)\n",
        "\n",
        "  def __getitem__(self, bigram):\n",
        "    w1, w2 = bigram\n",
        "    if w1 not in self.vocab:\n",
        "      w1 = \"<UNK>\"\n",
        "    if w2 not in self.vocab:\n",
        "      w2 = \"<UNK>\"\n",
        "      \n",
        "    bigram_prob = self.bigram_count[w1][w2]/self.unigram_count[w1]\n",
        "    unigram_prob = self.unigram_count[w2]/self.word_count\n",
        "    prob = self.model_lambda[0]*bigram_prob + self.model_lambda[1]*unigram_prob + self.model_lambda[2]*self.unknown_prob\n",
        "    return prob\n",
        "\n",
        "model = BigramWithInterpolation(train_bigrams, vocab)\n",
        "print(perplexity([list(flatten(train_bigrams))],model))\n",
        "print(perplexity([list(flatten(test_bigrams))], model))"
      ],
      "metadata": {
        "id": "PIeDBLarvZUT"
      },
      "execution_count": null,
      "outputs": []
    },
    {
      "cell_type": "markdown",
      "source": [
        "## Q4 MCV"
      ],
      "metadata": {
        "id": "i-GlmJUIhN7s"
      }
    },
    {
      "cell_type": "code",
      "execution_count": 33,
      "metadata": {
        "id": "EilXywU-IuNU"
      },
      "outputs": [
        {
          "name": "stdout",
          "output_type": "stream",
          "text": [
            "251.60709095654997\n"
          ]
        }
      ],
      "source": [
        "print(perplexity([list(flatten(wiki_test_bigrams))],model))"
      ]
    },
    {
      "cell_type": "markdown",
      "metadata": {
        "id": "pUorP-EWuXBM"
      },
      "source": [
        "## Language modeling on multiple domains\n",
        "\n",
        "Sometimes, we do not have enough data to create a language model for a new domain. In that case, we can improvised by combining several models to improve result on the new domain.\n",
        "\n",
        "In this exercise you will try to merge two language models from news and article domains to create a language model for the encyclopedia domain."
      ]
    },
    {
      "cell_type": "code",
      "execution_count": 34,
      "metadata": {
        "id": "Jel9Hx69uXBN"
      },
      "source": [
        "# create encyclopeida data (test data)\n",
        "encyclo_data=[]\n",
        "with open('BEST2010/encyclopedia.txt','r',encoding='utf-8') as f:\n",
        "    for i,line in enumerate(f):\n",
        "        encyclo_data.append(line.strip()[:-1])"
      ],
      "execution_count": null,
      "outputs": []
    },
    {
      "cell_type": "markdown",
      "source": [
        "(news) First, you should try to calculate perplexity of your bigram with interpolation on encyclopedia data. The  perplexity should be around 236.33"
      ],
      "metadata": {
        "id": "Jlla-S8YYRur"
      },
      "source": [
        "(news) First, you should try to calculate perplexity of your bigram with interpolation on encyclopedia data. The  perplexity should be around 236.33"
      ]
    },
    {
      "cell_type": "code",
      "execution_count": 35,
      "metadata": {
        "id": "gkRm8W4UWyfc"
      },
      "outputs": [],
      "source": [
        "def get_vocab(data):\n",
        "    tokenized_train = [[\"<s>\"] + t.split(\"|\") + [\"</s>\"] for t in data]\n",
        "    flat_tokens = list(flatten(tokenized_train))\n",
        "    vocab = Vocabulary(flat_tokens, unk_cutoff=3)\n",
        "    return vocab\n",
        "\n",
        "def get_bigram(data, vocab):\n",
        "    tokenized_test = [t.split(\"|\") for t in data]\n",
        "    tokenized_test = [[token if token in vocab else \"<UNK>\" for token in sentence] for sentence in tokenized_test]\n",
        "    padded_tokenized_test = [list(pad_both_ends(sentence, n=2)) for sentence in tokenized_test]\n",
        "    bigrams = [list(ngrams(sent, n=2)) for sent in padded_tokenized_test]\n",
        "    return bigrams\n",
        "\n",
        "# only use the vocab from the training data (news.txt) to avoid data leakage?\n",
        "encyclopedia_bigrams = get_bigram(encyclo_data, vocab)"
      ]
    },
    {
      "cell_type": "code",
      "execution_count": 36,
      "metadata": {
        "id": "x0l91qLEuXBP"
      },
      "outputs": [
        {
          "name": "stdout",
          "output_type": "stream",
          "text": [
            "236.3286142031601\n"
          ]
        }
      ],
      "source": [
        "# 1) news only on \"encyclopedia\"\n",
        "print(perplexity([list(flatten(encyclopedia_bigrams))], model))"
      ],
      "execution_count": null,
      "outputs": []
    },
    {
      "cell_type": "markdown",
      "metadata": {
        "id": "hwV9j9U-uXBR"
      },
      "source": [
        "## TODO #7 - Langauge Modelling on Multiple Domains\n",
        "Combine news and article datasets to create another bigram model and evaluate it on the encyclopedia data."
      ]
    },
    {
      "cell_type": "markdown",
      "metadata": {
        "id": "9skdgo8muXBO"
      },
      "source": [
        "\n",
        "\n",
        "(article) For your information, a bigram model with interpolation using article data to test on encyclopedia data has a perplexity of 218.57"
      ]
    },
    {
      "cell_type": "code",
      "execution_count": 37,
      "metadata": {
        "id": "LOA8fd53uXBU"
      },
      "source": [
        "# 2) article only on \"encyclopedia\"\n",
        "best2010_article=[]\n",
        "with open('BEST2010/article.txt','r',encoding='utf-8') as f:\n",
        "    for i,line in enumerate(f):\n",
        "        best2010_article.append(line.strip()[:-1])\n",
        "\n",
        "combined_total_word_count = 0\n",
        "for line in best2010_article:\n",
        "    combined_total_word_count += len(line.split('|'))\n",
        "    \n",
        "article_vocab = get_vocab(best2010_article)\n",
        "article_bigrams = get_bigram(best2010_article, article_vocab)\n",
        "\n",
        "\n",
        "model = BigramWithInterpolation(article_bigrams, article_vocab)"
      ],
      "execution_count": null,
      "outputs": []
    },
    {
      "cell_type": "code",
      "execution_count": 38,
      "metadata": {},
      "outputs": [],
      "source": [
        "encyclopedia_article_bigrams = get_bigram(encyclo_data, article_vocab)"
      ]
    },
    {
      "cell_type": "code",
      "execution_count": 39,
      "metadata": {
        "id": "7bLYcPvXYHkB"
      },
      "outputs": [
        {
          "name": "stdout",
          "output_type": "stream",
          "text": [
            "Perplexity of the bigram model using article data with interpolation smoothing on encyclopedia test data 218.57479345888848\n"
          ]
        }
      ],
      "source": [
        "print('Perplexity of the bigram model using article data with interpolation smoothing on encyclopedia test data',perplexity([list(flatten(encyclopedia_article_bigrams))], model))"
      ]
    },
    {
      "cell_type": "code",
      "execution_count": 40,
      "metadata": {
        "id": "wBjmLhUcuXBS"
      },
      "outputs": [
        {
          "name": "stdout",
          "output_type": "stream",
          "text": [
            "Perplexity of the combined Bigram model with interpolation smoothing on encyclopedia test data 192.13504973877517\n"
          ]
        }
      ],
      "source": [
        "# 3) train on news + article, test on \"encyclopedia\"\n",
        "best2010_article_and_news = best2010_article.copy()\n",
        "with open('BEST2010/news.txt','r',encoding='utf-8') as f:\n",
        "    for i,line in enumerate(f):\n",
        "        best2010_article_and_news.append(line.strip()[:-1])\n",
        "\n",
        "combined_vocab = get_vocab(best2010_article_and_news)\n",
        "combined_bigrams = get_bigram(best2010_article_and_news, combined_vocab)\n",
        "\n",
        "combined_model = BigramWithInterpolation(combined_bigrams, combined_vocab)\n",
        "print('Perplexity of the combined Bigram model with interpolation smoothing on encyclopedia test data',perplexity([list(flatten(encyclopedia_bigrams))], combined_model))"
      ],
      "execution_count": null,
      "outputs": []
    },
    {
      "cell_type": "markdown",
      "metadata": {
        "id": "XNPEhD7WuXBV"
      },
      "source": [
        "## TODO #8 - Kneser-ney on \"News\"\n",
        "\n",
        "<!-- Reimplement equation 4.33 in SLP textbook (https://lagunita.stanford.edu/c4x/Engineering/CS-224N/asset/slp4.pdf) -->\n",
        "\n",
        "Implement Bigram Knerser-ney LM. The result perplexity should be around 65.81, 93.21 on train and test data. Be careful not to mix up vocab from the above section!\n"
        "Implement Bigram Knerser-ney LM. The result perplexity should be around 65.81, 93.21 on train and test data. Be careful not to mix up vocab from the above section!\n"
      ]
    },
    {
      "cell_type": "code",
      "execution_count": 41,
      "metadata": {
        "id": "Y_8xFf7tBqpc"
      },
      "outputs": [
        {
          "name": "stdout",
          "output_type": "stream",
          "text": [
            "65.80901349887752\n",
            "50.40541747450013\n",
            "90.29909158711666\n",
            "93.21479572741401\n"
          ]
        }
      ],
      "source": [
        "class BigramKneserNey:\n",
        "\n",
        "    def __init__(self, data, vocab):\n",
        "        self.data = data\n",
        "        self.vocab = set(vocab)\n",
        "        self.bigram_count = defaultdict(lambda: defaultdict(lambda: 0.0))\n",
        "        self.unigram_count = defaultdict(lambda: 0.0)\n",
        "        self.continuation = defaultdict(set)\n",
        "        self.precession = defaultdict(set)\n",
        "        self.total_precession = set()\n",
        "        self.word_count = 0\n",
        "        self.d = 0.75\n",
        "\n",
        "        for sentence in data:\n",
        "            for w1, w2 in sentence:\n",
        "                self.unigram_count[w1] += 1.0\n",
        "                self.bigram_count[w1][w2] += 1.0\n",
        "                self.word_count += 1\n",
        "                self.continuation[w2].add(w1)\n",
        "                self.precession[w1].add(w2)\n",
        "                self.total_precession.add((w1, w2))\n",
        "\n",
        "            self.unigram_count[sentence[-1][-1]] += 1.0\n",
        "            self.word_count += 1\n",
        "\n",
        "    def __getitem__(self, x):\n",
        "        w1, w2 = x\n",
        "        bigram_prob = max(self.bigram_count[w1][w2] - self.d, 0) / self.unigram_count[w1]\n",
        "        lambda_d = self.d * len(self.continuation[w2]) / self.unigram_count[w1] \n",
        "        continuation_prob = lambda_d * len(self.precession[w1]) / len(self.total_precession)\n",
        "        return bigram_prob + continuation_prob\n",
        "\n",
        "    \n",
        "\n",
        "model = BigramKneserNey(train_bigrams, vocab)\n",
        "print(perplexity([list(flatten(train_bigrams))],model))\n",
        "print(perplexity([list(flatten(train_bigrams))[:1000]],model)) #can be used to compare with nltk\n",
        "print(perplexity([list(flatten(test_bigrams))[:1000]], model)) #can be used to compare with nltk\n",
        "print(perplexity([list(flatten(train_bigrams))[:1000]],model)) #can be used to compare with nltk\n",
        "print(perplexity([list(flatten(test_bigrams))[:1000]], model)) #can be used to compare with nltk\n",
        "print(perplexity([list(flatten(test_bigrams))], model))"
      ],
      "metadata": {
        "id": "Y_8xFf7tBqpc"
      },
      "execution_count": null,
      "outputs": []
    },
    {
      "cell_type": "markdown",
      "source": [
        "## Q5 MCV"
      ],
      "metadata": {
        "id": "ULDScRw-g8Yn"
      }
    },
    {
      "cell_type": "code",
      "execution_count": 42,
      "metadata": {
        "id": "eSZ1Pb9WvfWC"
      },
      "outputs": [
        {
          "name": "stdout",
          "output_type": "stream",
          "text": [
            "266.582022413098\n"
          ]
        }
      ],
      "source": [
        "print(perplexity([list(flatten(wiki_test_bigrams))],model))"
      ]
    }
  ],
  "metadata": {
    "colab": {
      "provenance": [],
      "toc_visible": true
    },
    "kernelspec": {
      "display_name": "nlp",
      "language": "python",
      "name": "python3"
    },
    "language_info": {
      "codemirror_mode": {
        "name": "ipython",
        "version": 3
      },
      "file_extension": ".py",
      "mimetype": "text/x-python",
      "name": "python",
      "nbconvert_exporter": "python",
      "pygments_lexer": "ipython3",
      "version": "3.10.13"
    }
  },
  "nbformat": 4,
  "nbformat_minor": 0
}
